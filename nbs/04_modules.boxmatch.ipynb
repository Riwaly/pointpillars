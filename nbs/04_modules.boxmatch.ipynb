{
 "cells": [
  {
   "cell_type": "code",
   "execution_count": 1,
   "metadata": {
    "collapsed": true,
    "jupyter": {
     "outputs_hidden": true
    }
   },
   "outputs": [],
   "source": [
    "#default_exp modules.boxmatch"
   ]
  },
  {
   "cell_type": "markdown",
   "metadata": {
    "pycharm": {
     "name": "#%% md\n"
    }
   },
   "source": [
    "# Box Matching via IoU\n",
    "> With this class we will match ground truth boxes to our calculated anchors with the intersection over union method.\n",
    "> The threshold is defined in the config file.\n",
    "\n"
   ]
  },
  {
   "cell_type": "code",
   "execution_count": 2,
   "metadata": {
    "collapsed": false,
    "jupyter": {
     "outputs_hidden": false
    },
    "pycharm": {
     "name": "#%%\n"
    }
   },
   "outputs": [],
   "source": [
    "import sys\n",
    "sys.path.append(\"/home/qhs67/git/bachelorthesis_sven_thaele/code/\")\n",
    "from pointpillars.utils.time import time_method\n",
    "from pointpillars.utils.io import read_config"
   ]
  },
  {
   "cell_type": "code",
   "execution_count": 3,
   "metadata": {
    "collapsed": false,
    "jupyter": {
     "outputs_hidden": false
    },
    "pycharm": {
     "name": "#%%\n"
    }
   },
   "outputs": [],
   "source": [
    "#export\n",
    "import logging\n",
    "import ast\n",
    "import torch\n",
    "import torch.nn as nn\n",
    "import torch.nn.functional as F\n",
    "from typing import Union\n",
    "from math import pi\n",
    "from torchvision.ops import box_iou\n",
    "\n",
    "from pointpillars.utils.box_ops import convert_boxes_to_2d_corners\n",
    "\n",
    "logger = logging.getLogger(__name__)"
   ]
  },
  {
   "cell_type": "code",
   "execution_count": 4,
   "metadata": {
    "collapsed": false,
    "jupyter": {
     "outputs_hidden": false
    },
    "pycharm": {
     "name": "#%%\n"
    }
   },
   "outputs": [],
   "source": [
    "#export\n",
    "class BoxMatch(nn.Module):\n",
    "    def __init__(self, pillars_cfg, head_cfg, training: bool = True):\n",
    "        logger.info(\"Initializing BoxMatch module...\")\n",
    "\n",
    "        super(BoxMatch, self).__init__()\n",
    "        self.pillars_cfg = pillars_cfg\n",
    "        self.head_cfg = head_cfg\n",
    "        self.anchors = ast.literal_eval(head_cfg['anchors'])\n",
    "        self.training = training\n",
    "\n",
    "        logger.debug(\"BoxMatch init complete.\")\n",
    "\n",
    "    def _calculate_absolute_boxes_from_anchors(self, pred_anchors: torch.Tensor) -> torch.Tensor:\n",
    "        \"\"\"Returns a view of all predicted, absolute bounding boxes.\n",
    "\n",
    "        :param pred_anchors: tensor(batch_size, img_leng, img_with, nbr_anchors, nbr_attributes=7)\n",
    "\n",
    "        :returns: tensor(batch_size, img_leng, img_width, nbr_anchors, nbr_attributes=7)\n",
    "        \"\"\"\n",
    "        logger.info(\"Calculating absolute_boxes_from_anchors...\")\n",
    "\n",
    "        bs, n_x, n_y, n_a = pred_anchors.shape[0:4]\n",
    "        x_min =  self.pillars_cfg.getfloat('x_min')\n",
    "        y_min =  self.pillars_cfg.getfloat('y_min')\n",
    "        x_step = (self.pillars_cfg.getfloat('x_max') - x_min) / n_x\n",
    "        y_step = (self.pillars_cfg.getfloat('y_max') - y_min) / n_y\n",
    "\n",
    "        # create tensor containing the pillar indicies in the correct dimension\n",
    "        x = torch.cuda.FloatTensor(range(n_x)).unsqueeze(1).expand(n_x, n_y)\n",
    "        y = torch.cuda.FloatTensor(range(n_y),).unsqueeze(0).expand(n_x, n_y)\n",
    "        ind = torch.stack((x,y), dim=2).unsqueeze(0).expand(bs, -1, -1, -1)\n",
    "        del x, y\n",
    "\n",
    "        # add anchors to receive other absolute values\n",
    "        anchors_tens = torch.cuda.FloatTensor(self.anchors)\n",
    "        anchors_tens = anchors_tens.unsqueeze(0).unsqueeze(0).unsqueeze(0).expand(bs, n_x, n_y, -1, -1)\n",
    "\n",
    "        # step with current pseudo image size\n",
    "        # calculate pillar center from index\n",
    "        pil_xy = ind * torch.cuda.FloatTensor([x_step, y_step])\n",
    "        pil_xy += torch.cuda.FloatTensor([x_min, y_min])\n",
    "\n",
    "        # expand for anchor nbr\n",
    "        pil_xy = pil_xy.unsqueeze(3).expand(-1, -1, -1, n_a, -1)\n",
    "\n",
    "        diag = torch.sqrt(torch.pow(pred_anchors[:,:,:,:,5], 2) + torch.pow(pred_anchors[:,:,:,:,4], 2))\n",
    "        diag = diag.unsqueeze(4).expand(-1, -1, -1, -1, 2)\n",
    "        # add center to offset\n",
    "        pred_anchors_xy = pred_anchors[:,:,:,:,:2] * diag + pil_xy\n",
    "\n",
    "        # add anchors z offset\n",
    "        pred_anchors_z = pred_anchors[:,:,:,:,2] * pred_anchors[:,:,:,:,3] + anchors_tens[:,:,:,:,0]\n",
    "        pred_anchors_z = pred_anchors_z.unsqueeze(4)\n",
    "        # bb_hwl = exp(pred_hwl) * gt_hwl\n",
    "        pred_anchors_hwl = torch.exp(pred_anchors[:,:,:,:,3:6]) * anchors_tens[:,:,:,:,1:4]\n",
    "        #pred_anchors_hwl = F.softplus(pred_anchors[:,:,:,:,3:6]) * anchors_tens[:,:,:,:,1:4]\n",
    "\n",
    "        # add radiant offset\n",
    "        #pred_anchors_theta = -2 * pi * torch.sigmoid(pred_anchors[:,:,:,:,6]) + anchors_tens[:,:,:,:,4]\n",
    "        epsilon = 1e-7\n",
    "        pred_anchors_theta = torch.clamp(pred_anchors[:,:,:,:,6], -1 + epsilon, +1 - epsilon)\n",
    "        pred_anchors_theta = -1 * torch.arcsin(pred_anchors_theta) + anchors_tens[:,:,:,:,4]\n",
    "        pred_anchors_theta = pred_anchors_theta.unsqueeze(4)\n",
    "\n",
    "        pred_anchors = torch.cat((pred_anchors_xy, pred_anchors_z, pred_anchors_hwl, pred_anchors_theta), dim=4)\n",
    "        del anchors_tens, pred_anchors_z, pred_anchors_hwl, pred_anchors_theta\n",
    "\n",
    "        \"\"\"\n",
    "         # h, l, w must be positive even with random weights, use softpos to ensure\n",
    "        pred_anchors_hwl = pred_anchors[:,:,:,:,3:6]\n",
    "        pred_anchors_hwl = F.softplus(pred_anchors_hwl)\n",
    "        pred_anchors = torch.cat((pred_anchors[:,:,:,:,:3], pred_anchors_hwl, pred_anchors[:,:,:,:,6:]), dim=4)\n",
    "        del pred_anchors_hwl\n",
    "        \"\"\"\n",
    "\n",
    "        logger.debug(f\"Absolute boxes from anchors calculation complete.\\n\"\n",
    "                     f\"pred_anchors: {pred_anchors}{pred_anchors.shape}\")\n",
    "\n",
    "        return pred_anchors\n",
    "\n",
    "\n",
    "\n",
    "    def _calculate_batch_iou(self, pred_boxes: torch.Tensor, gt_boxes: torch.Tensor) -> torch.Tensor:\n",
    "        \"\"\"Calculates the iou for batched prediction and ground truth boxes.\n",
    "\n",
    "        :param pred_boxes: Tensor(batch_size, nbr_pred_boxes, 4)\n",
    "                            with last dimension being (x_min, y_min, x_max, y_max)\n",
    "        :param gt_boxes: Tensor(batch_size, nbr_gt_boxes, 4)\n",
    "                            with last dimension being (x_min, y_min, x_max, y_max)\n",
    "\n",
    "        :returns: Tensor(batch_size, nbr_pred_boxes, nbr_gt_boxes)\n",
    "        \"\"\"\n",
    "        logger.info(\"Calculating batch iou...\")\n",
    "        logger.debug(f\"pred_boxes: {pred_boxes}{pred_boxes.shape},\\n\"\n",
    "                     f\"gt_boxes: {gt_boxes}{gt_boxes.shape}\")\n",
    "\n",
    "        iou =  []\n",
    "        for i in range(pred_boxes.shape[0]):\n",
    "            pred_batch = pred_boxes[i]\n",
    "            gt_batch = gt_boxes[i]\n",
    "\n",
    "            iou.append(box_iou(pred_batch, gt_batch))\n",
    "\n",
    "        batch_iou = torch.stack(iou, dim=0)\n",
    "\n",
    "        logger.debug(f\"Batch iou calculation complete.\\n\"\n",
    "                     f\"batch_iou: {batch_iou}{batch_iou.shape}\")\n",
    "\n",
    "        del pred_batch, gt_batch\n",
    "        return batch_iou\n",
    "\n",
    "    def iou_nms_from_corners(self,\n",
    "                             preds: Union[list, tuple],\n",
    "                             gt_boxes: torch.Tensor,\n",
    "                             gt_mask: torch.Tensor,\n",
    "                             pos_iou_threshold: float = 0.6,\n",
    "                             neg_iou_threshold: float = 0.4) -> list:\n",
    "        \"\"\"\n",
    "        Calculates iou from boxes in corner representation and uses non maximum suppression to get\n",
    "        the best fitting boxes.\n",
    "\n",
    "        :param preds: A tuple containing all predicted values for the batch. Must have the shape:\n",
    "                      (pred_occ(N, H * W * nb_anchors),\n",
    "                       pred_cls(N, H * W * nb_anchors),\n",
    "                       pred_head(N, H * W * nb_anchors),\n",
    "                       pred_box(N, H * W * nb_anchors, nb_attributes=7))\n",
    "\n",
    "                       pred_box having attributes x,y,z,w,l,h,theta\n",
    "\n",
    "        :param gt_boxes: Tensor(batch_size, nbr_gt_boxes, nbr_attributes=7)\n",
    "        :param gt_mask: tensor(batch_size, nbr_gt_boxes)\n",
    "                        Containing 1 or 0, depending if gt_box will be used for loss calculation\n",
    "        :param pos_iou_threshold: float to give the upper threshold for positive box matching\n",
    "        :param neg_iou_threshold: float to give the lower threshold for negative box matching\n",
    "                                    only used to learn occupancy parameter\n",
    "\n",
    "        :returns: A list containing the matched tensors. The list has the following structure:\n",
    "                  [pred_occ(nb_matched_boxes),\n",
    "                   pred_cls(nb_matched_boxes),\n",
    "                   pred_head(nb_matched_boxes),\n",
    "                   pred_boxes(nb_matched_boxes, nb_attributes=7),\n",
    "                   gt_boxes(nb_matched_boxes, nb_attributes=7),\n",
    "                   neg_matches(nb_negative_match)\n",
    "                   gt_mask(nb_matched_boxes)]\n",
    "\n",
    "                   neg_match gives the pred_occ for every box with a iou match lower than the neg_iou_threshold\n",
    "        \"\"\"\n",
    "        logger.info(\"Calculation iou nms from corners...\")\n",
    "        logger.debug(f\"preds: {preds}\\n\"\n",
    "                     f\"gt_boxes: {gt_boxes}{gt_boxes.shape}\")\n",
    "\n",
    "        if isinstance(preds, tuple):\n",
    "            preds = list(preds)\n",
    "\n",
    "        pred_boxes_corners = convert_boxes_to_2d_corners(preds[3])\n",
    "        gt_boxes_corners = convert_boxes_to_2d_corners(gt_boxes)\n",
    "\n",
    "        # upper iou threshold for positive as well as negative match\n",
    "        iou = self._calculate_batch_iou(pred_boxes_corners, gt_boxes_corners)\n",
    "        del pred_boxes_corners, gt_boxes_corners\n",
    "\n",
    "        condition_pos = iou >= pos_iou_threshold\n",
    "        # incorporate gt_mask\n",
    "        gt_mask_pos = gt_mask.type(torch.BoolTensor).unsqueeze(1).expand(-1, condition_pos.shape[1], -1).cuda()\n",
    "        condition_pos = torch.logical_and(condition_pos.cuda(), gt_mask_pos)\n",
    "        indices_pos = torch.nonzero(condition_pos, as_tuple=False)\n",
    "        del condition_pos, gt_mask_pos\n",
    "\n",
    "        # batch_size * nbr_pred_boxes has to be added to index since pred_boxes is flattened\n",
    "        indices_pred_boxes_flat = indices_pos[:,1] + indices_pos[:,0] * preds[3].shape[1]\n",
    "        indices_gt_boxes_flat = indices_pos[:,2] + indices_pos[:,0] * gt_boxes.shape[1]\n",
    "        del indices_pos\n",
    "\n",
    "        results = []\n",
    "        for tensor in preds:\n",
    "            # flatten since batch dimension is no longer necessary after matching\n",
    "            flat_tensor = torch.flatten(tensor, start_dim=0, end_dim=1)\n",
    "            # select indices according to iou\n",
    "            results.append(torch.index_select(flat_tensor, 0, indices_pred_boxes_flat))\n",
    "\n",
    "        gt_boxes_flat = torch.flatten(gt_boxes, start_dim=0, end_dim=1)\n",
    "        results.append(torch.index_select(gt_boxes_flat, 0, indices_gt_boxes_flat))\n",
    "\n",
    "        del indices_pred_boxes_flat, flat_tensor, gt_boxes_flat, indices_gt_boxes_flat\n",
    "\n",
    "        # negative matches\n",
    "        # same index procedure as previously done\n",
    "        condition_neg = iou <= neg_iou_threshold\n",
    "        gt_mask_neg = gt_mask.type(torch.BoolTensor).unsqueeze(1).expand(-1, condition_neg.shape[1], -1).cuda()\n",
    "        condition_neg = torch.logical_and(condition_neg, gt_mask_neg)\n",
    "        indices_neg = torch.nonzero(condition_neg, as_tuple=False)\n",
    "        indices_neg_flat = indices_neg[:,1] + indices_neg[:,0] * preds[3].shape[1]\n",
    "\n",
    "        pred_occ_flat = torch.flatten(preds[0], start_dim=0, end_dim=1)\n",
    "        results.append(torch.index_select(pred_occ_flat, 0, indices_neg_flat))\n",
    "        del condition_neg, indices_neg, indices_neg_flat, pred_occ_flat, iou, gt_mask, gt_mask_neg\n",
    "\n",
    "        logger.debug(f\"iou nms from corners calc complete.\\n\"\n",
    "                     f\"results: {results}\")\n",
    "\n",
    "        return results\n",
    "\n",
    "    def forward(self,\n",
    "                preds: Union[list, tuple],\n",
    "                gt_boxes: torch.Tensor,\n",
    "                gt_mask: torch.Tensor) -> list:\n",
    "        \"\"\"Matches anchor predictions to gt_boxes with IoU\n",
    "\n",
    "        :param preds: A tuple containing the predictions from the net. Must have the following shape:\n",
    "                      (pred_occ(N, H, W, nb_anchors),\n",
    "                       pred_cls(N, H, W, nb_anchors),\n",
    "                       pred_head(N, H, W, nb_anchors),\n",
    "                       pred_box(N, H, W, nb_anchors, nb_attributes=7))\n",
    "\n",
    "        :param gt_boxes: tensor(batch_size, gt_boxes per image, nbr_attributes)\n",
    "        :param gt_mask: tensor(batch_size, gt_boxes)\n",
    "                        Containing 1 or 0, depending if gt_box will be used for loss calculation\n",
    "\n",
    "        :returns: A list containing the matched tensors. The list has the following structure:\n",
    "                  [pred_occ(nb_matched_boxes),\n",
    "                   pred_cls(nb_matched_boxes),\n",
    "                   pred_head(nb_matched_boxes),\n",
    "                   pred_boxes(nb_matched_boxes, nb_attributes=7),\n",
    "                   gt_boxes(nb_matched_boxes, nb_attributes=7),\n",
    "                   neg_matches(nb_negative_match)\n",
    "                   gt_mask(nb_matched_boxes)]\n",
    "\n",
    "                   neg_match gives the pred_occ for every box with a iou match lower than the neg_iou_threshold\n",
    "        \"\"\"\n",
    "        logger.info(\"Forward pass through BoxMatch...\")\n",
    "        logger.debug(f\"preds: {preds},\\n\"\n",
    "                     f\"gt_boxes: {gt_boxes}{gt_boxes.shape}\")\n",
    "\n",
    "        if isinstance(preds, tuple):\n",
    "            preds = list(preds)\n",
    "\n",
    "        # calc anchor centers from pseudo image index\n",
    "        preds[3] = self._calculate_absolute_boxes_from_anchors(preds[3])\n",
    "\n",
    "        # shape Tensor(batch_size, H * W * nbr_anchors, nbr_attributes=7)\n",
    "        for i in range(len(preds)):\n",
    "            preds[i] = torch.flatten(preds[i], start_dim=1, end_dim=3)\n",
    "\n",
    "        if self.training:\n",
    "            return self.iou_nms_from_corners(preds,\n",
    "                                             gt_boxes,\n",
    "                                             gt_mask,\n",
    "                                             pos_iou_threshold=self.pillars_cfg.getfloat('pos_iou_threshold'),\n",
    "                                             neg_iou_threshold=self.pillars_cfg.getfloat('neg_iou_threshold'))\n",
    "        else:\n",
    "            return preds\n"
   ]
  },
  {
   "cell_type": "code",
   "execution_count": 5,
   "metadata": {
    "collapsed": false,
    "jupyter": {
     "outputs_hidden": false
    },
    "pycharm": {
     "name": "#%%\n"
    }
   },
   "outputs": [
    {
     "data": {
      "text/plain": "(tensor([[[[[5.2858e-01, 3.9131e-01, 3.9089e+00,  ..., 1.9244e+00,\n             6.4540e-01, 3.4309e-01],\n            [1.1375e+00, 7.4151e-01, 4.0299e+00,  ..., 1.7846e+00,\n             4.6101e-01, 1.6108e+00],\n            [1.1225e+00, 7.1058e-01, 1.6348e+00,  ..., 2.0685e+00,\n             8.6185e-01, 3.4559e-01],\n            [3.3530e-01, 5.8963e-01, 1.0287e+00,  ..., 1.9457e+00,\n             6.1868e-01, 1.7314e+00]],\n \n           [[1.1104e+00, 5.8405e-01, 4.6674e+00,  ..., 2.5362e+00,\n             3.4695e-01, 6.5566e-01],\n            [6.1030e-01, 1.0508e+00, 4.5466e+00,  ..., 2.2604e+00,\n             4.4306e-01, 2.1830e+00],\n            [5.2022e-01, 1.0885e+00, 1.4813e+00,  ..., 2.1505e+00,\n             8.6905e-01, 9.9792e-01],\n            [8.8797e-01, 7.2414e-01, 1.0687e+00,  ..., 2.3338e+00,\n             4.7345e-01, 2.0060e+00]],\n \n           [[4.6342e-01, 1.5703e+00, 4.0111e+00,  ..., 2.3703e+00,\n             4.2947e-01, 7.8445e-01],\n            [2.0504e-01, 1.0849e+00, 4.6331e+00,  ..., 2.0682e+00,\n             4.4593e-01, 1.9891e+00],\n            [9.9456e-01, 1.6652e+00, 9.8887e-01,  ..., 2.5008e+00,\n             7.3771e-01, 8.3598e-01],\n            [6.9629e-01, 9.7364e-01, 1.5956e+00,  ..., 2.3815e+00,\n             8.2990e-01, 2.5146e+00]],\n \n           ...,\n \n           [[4.8127e-01, 8.0409e+01, 4.4293e+00,  ..., 2.6325e+00,\n             5.1309e-01, 6.6811e-01],\n            [5.2660e-01, 7.9943e+01, 4.2191e+00,  ..., 2.6199e+00,\n             3.8199e-01, 2.4496e+00],\n            [3.3571e-01, 8.0717e+01, 9.5277e-01,  ..., 2.2233e+00,\n             7.8678e-01, 8.1021e-02],\n            [5.2693e-01, 8.0166e+01, 1.5608e+00,  ..., 2.7402e+00,\n             4.7399e-01, 1.6230e+00]],\n \n           [[3.2538e-01, 8.0737e+01, 4.5782e+00,  ..., 2.2517e+00,\n             4.0117e-01, 7.3224e-01],\n            [7.0393e-01, 8.1048e+01, 4.8156e+00,  ..., 2.2464e+00,\n             4.2436e-01, 1.7248e+00],\n            [2.6614e-01, 8.0813e+01, 1.3083e+00,  ..., 2.0364e+00,\n             6.8236e-01, 3.6675e-01],\n            [2.8812e-01, 8.0651e+01, 9.5003e-01,  ..., 1.9982e+00,\n             5.2209e-01, 2.0386e+00]],\n \n           [[1.6983e-01, 8.0673e+01, 4.0141e+00,  ..., 2.0703e+00,\n             4.7399e-01, 2.3294e-01],\n            [3.0494e-01, 8.0758e+01, 4.8369e+00,  ..., 2.2233e+00,\n             5.4725e-01, 1.6294e+00],\n            [2.7299e-01, 8.1141e+01, 1.1159e+00,  ..., 2.3822e+00,\n             4.3885e-01, 2.4581e-01],\n            [1.7035e-01, 8.0656e+01, 1.4124e+00,  ..., 2.7109e+00,\n             7.5494e-01, 2.1752e+00]]],\n \n \n          [[[1.3677e+00, 1.0026e+00, 4.0539e+00,  ..., 2.5532e+00,\n             5.6813e-01, 1.0918e-01],\n            [1.1461e+00, 5.9500e-01, 4.7088e+00,  ..., 1.9659e+00,\n             3.6769e-01, 1.9471e+00],\n            [1.3890e+00, 1.8771e-01, 1.3418e+00,  ..., 2.1610e+00,\n             5.6094e-01, 6.2512e-01],\n            [1.0648e+00, 1.1411e+00, 1.2823e+00,  ..., 1.9378e+00,\n             7.3561e-01, 2.5075e+00]],\n \n           [[8.3525e-01, 1.0010e+00, 4.2452e+00,  ..., 2.5621e+00,\n             3.3168e-01, 7.9084e-01],\n            [8.9885e-01, 1.0426e+00, 4.1400e+00,  ..., 2.5922e+00,\n             6.6629e-01, 1.7555e+00],\n            [6.6564e-01, 1.0361e+00, 1.1926e+00,  ..., 2.0537e+00,\n             5.1310e-01, 3.7353e-01],\n            [6.7970e-01, 9.0514e-01, 1.0555e+00,  ..., 2.2978e+00,\n             5.9651e-01, 1.6512e+00]],\n \n           [[1.2966e+00, 1.2759e+00, 3.9744e+00,  ..., 2.2376e+00,\n             4.4408e-01, 6.0337e-01],\n            [1.4172e+00, 1.4976e+00, 4.4655e+00,  ..., 2.0758e+00,\n             5.5570e-01, 2.5703e+00],\n            [8.6538e-01, 1.5311e+00, 1.6765e+00,  ..., 2.1473e+00,\n             8.8062e-01, 6.5768e-01],\n            [8.3547e-01, 1.0364e+00, 9.2826e-01,  ..., 2.1867e+00,\n             6.1475e-01, 2.2733e+00]],\n \n           ...,\n \n           [[6.3519e-01, 7.9954e+01, 4.4304e+00,  ..., 2.0038e+00,\n             6.1345e-01, 4.2001e-02],\n            [8.6007e-01, 8.0699e+01, 3.9431e+00,  ..., 2.6070e+00,\n             4.5608e-01, 2.1169e+00],\n            [1.4088e+00, 8.0581e+01, 1.1000e+00,  ..., 2.1289e+00,\n             8.7462e-01, 1.7071e-02],\n            [6.6495e-01, 8.0248e+01, 1.6643e+00,  ..., 2.5631e+00,\n             4.5495e-01, 1.6947e+00]],\n \n           [[7.1038e-01, 8.0252e+01, 4.8475e+00,  ..., 2.2266e+00,\n             5.1867e-01, 3.5599e-01],\n            [6.4207e-01, 8.0470e+01, 4.2862e+00,  ..., 2.1707e+00,\n             3.5476e-01, 1.8551e+00],\n            [5.6664e-01, 8.0932e+01, 1.0387e+00,  ..., 2.6102e+00,\n             6.1527e-01, 5.0214e-01],\n            [8.3590e-01, 8.0378e+01, 1.6259e+00,  ..., 2.6766e+00,\n             6.0526e-01, 2.2901e+00]],\n \n           [[1.0834e+00, 8.0940e+01, 4.0249e+00,  ..., 2.1581e+00,\n             5.2814e-01, 6.6719e-01],\n            [9.1881e-01, 8.0931e+01, 4.1721e+00,  ..., 2.0865e+00,\n             3.7738e-01, 2.4804e+00],\n            [4.8338e-01, 8.1153e+01, 1.4530e+00,  ..., 2.2822e+00,\n             5.6357e-01, 2.0522e-01],\n            [1.3569e+00, 8.0889e+01, 1.2801e+00,  ..., 1.9711e+00,\n             6.3485e-01, 1.8407e+00]]],\n \n \n          [[[1.6766e+00, 6.3478e-01, 3.9206e+00,  ..., 2.3955e+00,\n             6.6098e-01, 5.0140e-01],\n            [1.0897e+00, 9.0154e-01, 4.6271e+00,  ..., 1.9160e+00,\n             5.4412e-01, 1.9491e+00],\n            [1.6099e+00, 4.4892e-01, 1.0784e+00,  ..., 2.5219e+00,\n             4.5230e-01, 4.1116e-01],\n            [1.4012e+00, 7.2627e-01, 1.0355e+00,  ..., 1.9151e+00,\n             4.8134e-01, 1.8810e+00]],\n \n           [[1.0840e+00, 8.0965e-01, 4.1111e+00,  ..., 2.6302e+00,\n             6.0130e-01, 1.9196e-01],\n            [1.3546e+00, 8.7999e-01, 4.4959e+00,  ..., 1.9444e+00,\n             3.4454e-01, 2.5048e+00],\n            [1.1105e+00, 1.1598e+00, 1.0864e+00,  ..., 2.0557e+00,\n             4.9413e-01, 9.3408e-01],\n            [9.9863e-01, 7.4374e-01, 1.7342e+00,  ..., 2.3034e+00,\n             7.0778e-01, 2.3217e+00]],\n \n           [[1.3570e+00, 1.1129e+00, 4.3326e+00,  ..., 2.0831e+00,\n             4.6173e-01, 4.3272e-01],\n            [1.5173e+00, 1.5836e+00, 4.5758e+00,  ..., 2.0511e+00,\n             5.1001e-01, 1.6270e+00],\n            [8.2657e-01, 1.4256e+00, 1.4013e+00,  ..., 2.4869e+00,\n             6.9358e-01, 5.6842e-01],\n            [1.2315e+00, 1.6636e+00, 8.9240e-01,  ..., 2.1745e+00,\n             4.4000e-01, 1.8568e+00]],\n \n           ...,\n \n           [[1.0703e+00, 8.0410e+01, 4.5862e+00,  ..., 2.4081e+00,\n             3.7185e-01, 1.5376e-01],\n            [1.0580e+00, 8.0037e+01, 4.8044e+00,  ..., 2.0413e+00,\n             5.6964e-01, 2.2381e+00],\n            [1.2056e+00, 8.0128e+01, 1.0138e+00,  ..., 2.7152e+00,\n             4.8539e-01, 3.1288e-01],\n            [1.1984e+00, 8.0822e+01, 1.1374e+00,  ..., 2.1904e+00,\n             9.0172e-01, 2.2026e+00]],\n \n           [[1.7630e+00, 8.0767e+01, 4.8656e+00,  ..., 2.2103e+00,\n             5.0887e-01, 6.8502e-02],\n            [1.0822e+00, 8.0333e+01, 4.7371e+00,  ..., 2.0772e+00,\n             4.1317e-01, 2.0876e+00],\n            [1.0058e+00, 8.1142e+01, 1.4984e+00,  ..., 2.1825e+00,\n             6.4873e-01, 5.1630e-01],\n            [1.7688e+00, 8.0607e+01, 8.6788e-01,  ..., 2.6097e+00,\n             8.6447e-01, 2.5405e+00]],\n \n           [[9.8275e-01, 8.0823e+01, 4.1496e+00,  ..., 2.0293e+00,\n             6.6192e-01, 9.5447e-01],\n            [1.4562e+00, 8.1147e+01, 4.1230e+00,  ..., 2.3171e+00,\n             4.8885e-01, 1.7037e+00],\n            [1.5015e+00, 8.1461e+01, 1.6059e+00,  ..., 2.0021e+00,\n             4.5900e-01, 8.5362e-01],\n            [1.0752e+00, 8.1322e+01, 1.5433e+00,  ..., 2.2356e+00,\n             7.2584e-01, 1.9714e+00]]],\n \n \n          ...,\n \n \n          [[[7.9973e+01, 4.1631e-01, 4.1841e+00,  ..., 2.1544e+00,\n             4.4282e-01, 7.5482e-01],\n            [8.0111e+01, 3.5707e-01, 4.4064e+00,  ..., 2.3174e+00,\n             6.2820e-01, 2.4269e+00],\n            [8.0736e+01, 4.2420e-01, 1.2842e+00,  ..., 2.0262e+00,\n             5.8170e-01, 4.9328e-01],\n            [8.0208e+01, 2.3620e-01, 1.2338e+00,  ..., 2.4005e+00,\n             4.5675e-01, 2.3857e+00]],\n \n           [[8.0600e+01, 8.8646e-01, 4.7080e+00,  ..., 1.7939e+00,\n             4.0215e-01, 2.5930e-01],\n            [8.0391e+01, 1.1408e+00, 3.9601e+00,  ..., 1.9209e+00,\n             5.6507e-01, 2.4825e+00],\n            [8.0379e+01, 6.1170e-01, 1.0644e+00,  ..., 2.1837e+00,\n             5.4361e-01, 2.0574e-01],\n            [8.0009e+01, 1.3332e+00, 1.3109e+00,  ..., 2.2012e+00,\n             7.1829e-01, 2.3720e+00]],\n \n           [[7.9985e+01, 1.3851e+00, 4.1947e+00,  ..., 2.2635e+00,\n             5.6550e-01, 1.3744e-01],\n            [8.0339e+01, 1.1908e+00, 4.6948e+00,  ..., 2.0150e+00,\n             4.9810e-01, 2.5533e+00],\n            [7.9896e+01, 1.7684e+00, 1.4367e+00,  ..., 2.0450e+00,\n             7.6356e-01, 8.2976e-01],\n            [7.9841e+01, 1.5041e+00, 1.6668e+00,  ..., 2.0169e+00,\n             8.3693e-01, 1.6384e+00]],\n \n           ...,\n \n           [[8.0189e+01, 8.0325e+01, 4.1224e+00,  ..., 2.1993e+00,\n             3.1382e-01, 3.5933e-01],\n            [8.0180e+01, 8.0371e+01, 4.5864e+00,  ..., 2.0170e+00,\n             6.3152e-01, 2.0856e+00],\n            [8.0733e+01, 8.0524e+01, 1.0795e+00,  ..., 2.2967e+00,\n             5.5255e-01, 2.7590e-01],\n            [8.0460e+01, 8.0754e+01, 1.5179e+00,  ..., 2.7660e+00,\n             7.7379e-01, 2.0070e+00]],\n \n           [[7.9856e+01, 8.0969e+01, 4.6847e+00,  ..., 2.1687e+00,\n             4.5744e-01, 1.8512e-01],\n            [8.0022e+01, 8.0168e+01, 4.6197e+00,  ..., 1.8760e+00,\n             4.6920e-01, 1.6080e+00],\n            [8.0285e+01, 8.0928e+01, 1.6426e+00,  ..., 2.3517e+00,\n             4.5105e-01, 4.2378e-01],\n            [8.0002e+01, 8.1137e+01, 8.4344e-01,  ..., 2.1579e+00,\n             5.0508e-01, 2.1581e+00]],\n \n           [[7.9842e+01, 8.0705e+01, 4.8557e+00,  ..., 2.1260e+00,\n             4.0764e-01, 4.1274e-01],\n            [8.0044e+01, 8.0797e+01, 4.2829e+00,  ..., 2.2473e+00,\n             3.2314e-01, 2.3584e+00],\n            [8.0670e+01, 8.1229e+01, 1.2035e+00,  ..., 1.9511e+00,\n             8.7791e-01, 1.0853e-01],\n            [8.0707e+01, 8.0653e+01, 1.4017e+00,  ..., 2.3645e+00,\n             5.9800e-01, 1.6629e+00]]],\n \n \n          [[[8.1101e+01, 7.3122e-01, 3.9171e+00,  ..., 1.8206e+00,\n             4.2971e-01, 9.4101e-01],\n            [8.0972e+01, 5.4908e-01, 4.8784e+00,  ..., 2.2975e+00,\n             5.4956e-01, 1.8135e+00],\n            [8.0909e+01, 1.0289e+00, 9.6023e-01,  ..., 2.6714e+00,\n             5.0044e-01, 1.9227e-01],\n            [8.1099e+01, 5.8576e-01, 1.1632e+00,  ..., 2.0010e+00,\n             4.9464e-01, 1.8542e+00]],\n \n           [[8.0937e+01, 9.7054e-01, 4.2853e+00,  ..., 1.8865e+00,\n             4.2211e-01, 7.1163e-01],\n            [8.0513e+01, 1.4195e+00, 4.5922e+00,  ..., 2.1944e+00,\n             4.4079e-01, 1.7578e+00],\n            [8.0420e+01, 8.0817e-01, 1.7308e+00,  ..., 2.2121e+00,\n             4.4743e-01, 7.5686e-01],\n            [8.0567e+01, 5.0576e-01, 1.2481e+00,  ..., 2.0830e+00,\n             5.9821e-01, 1.7816e+00]],\n \n           [[8.0437e+01, 1.0096e+00, 4.2275e+00,  ..., 1.8047e+00,\n             4.3128e-01, 9.0465e-01],\n            [8.0397e+01, 1.4705e+00, 4.3433e+00,  ..., 2.0270e+00,\n             4.2525e-01, 1.7255e+00],\n            [8.0215e+01, 1.5069e+00, 1.2798e+00,  ..., 2.4870e+00,\n             6.8368e-01, 5.7227e-01],\n            [8.0424e+01, 1.3207e+00, 1.2382e+00,  ..., 2.7908e+00,\n             5.5031e-01, 1.8001e+00]],\n \n           ...,\n \n           [[8.1138e+01, 8.0191e+01, 4.1721e+00,  ..., 2.2233e+00,\n             4.5546e-01, 6.1627e-01],\n            [8.0334e+01, 8.0169e+01, 4.6989e+00,  ..., 2.5953e+00,\n             3.1495e-01, 2.1633e+00],\n            [8.0179e+01, 8.0654e+01, 1.2973e+00,  ..., 2.0643e+00,\n             5.4655e-01, 1.2369e-01],\n            [8.1030e+01, 7.9867e+01, 1.4422e+00,  ..., 2.6377e+00,\n             6.7780e-01, 2.2879e+00]],\n \n           [[8.0307e+01, 8.0461e+01, 4.4695e+00,  ..., 2.0601e+00,\n             5.8238e-01, 7.5866e-01],\n            [8.0737e+01, 8.1156e+01, 4.1017e+00,  ..., 2.4332e+00,\n             3.1933e-01, 1.6123e+00],\n            [8.0808e+01, 8.0440e+01, 1.3756e+00,  ..., 2.6422e+00,\n             6.4118e-01, 8.4852e-02],\n            [8.0470e+01, 8.0904e+01, 8.9278e-01,  ..., 2.1984e+00,\n             8.3348e-01, 1.7398e+00]],\n \n           [[8.1021e+01, 8.1288e+01, 4.2134e+00,  ..., 2.4804e+00,\n             6.8365e-01, 4.3300e-01],\n            [8.0293e+01, 8.1101e+01, 4.0031e+00,  ..., 2.2493e+00,\n             3.1495e-01, 1.6128e+00],\n            [8.0926e+01, 8.1324e+01, 9.9180e-01,  ..., 2.7610e+00,\n             5.5855e-01, 1.9177e-01],\n            [8.0771e+01, 8.0619e+01, 1.4243e+00,  ..., 2.6123e+00,\n             7.6078e-01, 1.9444e+00]]],\n \n \n          [[[8.0768e+01, 9.9023e-01, 4.4056e+00,  ..., 1.9317e+00,\n             5.4637e-01, 5.0436e-01],\n            [8.0834e+01, 2.5898e-01, 4.6534e+00,  ..., 2.5933e+00,\n             3.6732e-01, 1.9050e+00],\n            [8.0536e+01, 7.0278e-01, 8.1626e-01,  ..., 2.2129e+00,\n             6.9506e-01, 1.9595e-01],\n            [8.1075e+01, 1.0231e+00, 9.9014e-01,  ..., 2.6396e+00,\n             7.6822e-01, 1.6983e+00]],\n \n           [[8.0729e+01, 1.0935e+00, 4.8267e+00,  ..., 1.9135e+00,\n             5.3890e-01, 9.1785e-01],\n            [8.0534e+01, 5.3252e-01, 3.9015e+00,  ..., 2.1049e+00,\n             4.3765e-01, 2.1571e+00],\n            [8.0925e+01, 7.4728e-01, 1.3817e+00,  ..., 2.6228e+00,\n             7.0879e-01, 6.7954e-01],\n            [8.0905e+01, 7.5992e-01, 8.4621e-01,  ..., 2.5872e+00,\n             5.0249e-01, 2.4174e+00]],\n \n           [[8.0740e+01, 8.9119e-01, 4.1226e+00,  ..., 2.1675e+00,\n             5.0316e-01, 7.9926e-01],\n            [8.1287e+01, 9.7332e-01, 4.4025e+00,  ..., 2.5713e+00,\n             3.1392e-01, 2.0701e+00],\n            [8.0659e+01, 1.3460e+00, 1.7572e+00,  ..., 2.1711e+00,\n             4.6061e-01, 6.8421e-01],\n            [8.0976e+01, 1.2838e+00, 1.0343e+00,  ..., 2.2283e+00,\n             9.0361e-01, 2.5557e+00]],\n \n           ...,\n \n           [[8.1016e+01, 8.0585e+01, 4.4964e+00,  ..., 2.0433e+00,\n             3.7771e-01, 5.4640e-02],\n            [8.1397e+01, 8.0442e+01, 4.7037e+00,  ..., 2.0496e+00,\n             4.4989e-01, 1.8434e+00],\n            [8.0694e+01, 8.0276e+01, 1.3727e+00,  ..., 2.4878e+00,\n             8.7560e-01, 8.4688e-01],\n            [8.0596e+01, 8.0438e+01, 1.0791e+00,  ..., 2.0051e+00,\n             8.9708e-01, 1.7569e+00]],\n \n           [[8.1130e+01, 8.0265e+01, 4.2320e+00,  ..., 1.7840e+00,\n             6.1705e-01, 5.1643e-01],\n            [8.1129e+01, 8.0340e+01, 4.2179e+00,  ..., 2.5825e+00,\n             5.0533e-01, 2.2511e+00],\n            [8.0985e+01, 8.1049e+01, 1.1098e+00,  ..., 2.4151e+00,\n             7.3639e-01, 1.4871e-01],\n            [8.1380e+01, 8.0978e+01, 1.2437e+00,  ..., 2.0288e+00,\n             5.3849e-01, 2.3765e+00]],\n \n           [[8.1096e+01, 8.0793e+01, 4.6230e+00,  ..., 2.4990e+00,\n             5.5058e-01, 3.1849e-02],\n            [8.1424e+01, 8.0650e+01, 4.3309e+00,  ..., 1.7759e+00,\n             4.3360e-01, 2.2874e+00],\n            [8.1333e+01, 8.1209e+01, 1.3605e+00,  ..., 2.2461e+00,\n             8.0174e-01, 1.8490e-01],\n            [8.1408e+01, 8.0804e+01, 1.6361e+00,  ..., 2.3636e+00,\n             6.6186e-01, 2.3535e+00]]]],\n \n \n \n         [[[[3.3238e-01, 6.4762e-01, 4.7867e+00,  ..., 2.3567e+00,\n             4.7405e-01, 9.6674e-01],\n            [7.6341e-01, 2.0006e-01, 4.5816e+00,  ..., 2.2444e+00,\n             5.7419e-01, 2.4121e+00],\n            [8.3161e-01, 4.8299e-01, 8.5054e-01,  ..., 2.2125e+00,\n             8.5622e-01, 6.5077e-01],\n            [9.3047e-01, 1.1419e+00, 8.8982e-01,  ..., 2.1648e+00,\n             8.5046e-01, 2.2037e+00]],\n \n           [[9.6538e-01, 1.4319e+00, 4.8285e+00,  ..., 2.1537e+00,\n             6.6885e-01, 8.1207e-01],\n            [1.1293e+00, 8.8358e-01, 4.0898e+00,  ..., 2.5048e+00,\n             4.5068e-01, 1.7115e+00],\n            [8.7115e-01, 5.4827e-01, 1.0988e+00,  ..., 2.3494e+00,\n             5.2196e-01, 5.5960e-01],\n            [1.0328e+00, 9.0887e-01, 9.8561e-01,  ..., 2.3418e+00,\n             8.5822e-01, 1.6272e+00]],\n \n           [[9.3959e-01, 1.6065e+00, 4.8771e+00,  ..., 1.9900e+00,\n             6.2198e-01, 5.6544e-01],\n            [9.8203e-01, 1.4915e+00, 4.5665e+00,  ..., 1.8218e+00,\n             5.5024e-01, 1.7125e+00],\n            [2.4366e-01, 1.1670e+00, 1.3680e+00,  ..., 2.7444e+00,\n             5.3208e-01, 2.3226e-01],\n            [3.1707e-01, 1.0079e+00, 1.6245e+00,  ..., 2.0901e+00,\n             7.5266e-01, 1.9189e+00]],\n \n           ...,\n \n           [[4.8274e-01, 8.0044e+01, 4.4812e+00,  ..., 2.2019e+00,\n             3.2554e-01, 9.3834e-01],\n            [1.7963e-01, 8.0084e+01, 4.6100e+00,  ..., 2.1002e+00,\n             5.7810e-01, 2.1552e+00],\n            [4.0764e-01, 8.0650e+01, 1.6233e+00,  ..., 1.9323e+00,\n             5.0691e-01, 2.1202e-01],\n            [4.1075e-01, 8.0541e+01, 9.6854e-01,  ..., 2.1882e+00,\n             4.4564e-01, 1.8104e+00]],\n \n           [[6.9749e-01, 8.0629e+01, 4.3672e+00,  ..., 1.9872e+00,\n             3.4856e-01, 5.3884e-01],\n            [4.4282e-01, 8.0302e+01, 4.4391e+00,  ..., 2.4475e+00,\n             4.8047e-01, 2.2767e+00],\n            [6.9971e-01, 8.0271e+01, 1.1287e+00,  ..., 1.9176e+00,\n             6.4537e-01, 5.3136e-01],\n            [9.1101e-01, 8.1059e+01, 1.7968e+00,  ..., 2.7592e+00,\n             8.7707e-01, 2.3348e+00]],\n \n           [[1.0908e+00, 8.1277e+01, 4.4382e+00,  ..., 2.5925e+00,\n             3.8727e-01, 8.6224e-01],\n            [3.9287e-01, 8.0698e+01, 4.8182e+00,  ..., 1.9351e+00,\n             5.0799e-01, 1.6618e+00],\n            [3.0947e-01, 8.0658e+01, 1.6604e+00,  ..., 2.4107e+00,\n             5.1593e-01, 7.0545e-01],\n            [9.3293e-01, 8.1202e+01, 1.6484e+00,  ..., 2.5856e+00,\n             5.8706e-01, 2.4314e+00]]],\n \n \n          [[[1.1667e+00, 6.3465e-01, 4.3810e+00,  ..., 2.5378e+00,\n             3.6694e-01, 9.6025e-01],\n            [6.0454e-01, 5.3862e-01, 4.6004e+00,  ..., 1.8812e+00,\n             3.1474e-01, 2.1117e+00],\n            [7.4523e-01, 2.5806e-01, 1.1389e+00,  ..., 2.0798e+00,\n             7.6001e-01, 2.0562e-01],\n            [9.5735e-01, 2.8648e-01, 1.2966e+00,  ..., 2.7518e+00,\n             5.8537e-01, 2.4524e+00]],\n \n           [[7.7325e-01, 1.2418e+00, 4.1203e+00,  ..., 1.8649e+00,\n             4.7009e-01, 8.7762e-01],\n            [6.6028e-01, 5.8262e-01, 4.3653e+00,  ..., 2.5384e+00,\n             4.9740e-01, 2.4312e+00],\n            [1.3923e+00, 1.2128e+00, 1.6622e+00,  ..., 2.0228e+00,\n             8.0273e-01, 3.7925e-01],\n            [9.6835e-01, 1.1660e+00, 1.3610e+00,  ..., 2.6536e+00,\n             6.2611e-01, 1.8590e+00]],\n \n           [[1.2282e+00, 1.1255e+00, 4.7727e+00,  ..., 2.3304e+00,\n             5.3884e-01, 9.0380e-01],\n            [1.4671e+00, 1.0530e+00, 3.9961e+00,  ..., 2.3393e+00,\n             3.5396e-01, 2.3381e+00],\n            [7.6749e-01, 1.2504e+00, 1.2934e+00,  ..., 2.5920e+00,\n             5.8316e-01, 5.5453e-01],\n            [8.1200e-01, 1.4311e+00, 1.1572e+00,  ..., 2.6984e+00,\n             6.7891e-01, 2.2798e+00]],\n \n           ...,\n \n           [[5.6500e-01, 7.9924e+01, 4.3881e+00,  ..., 2.3056e+00,\n             6.0256e-01, 2.3369e-01],\n            [6.7503e-01, 8.0790e+01, 4.3719e+00,  ..., 2.2183e+00,\n             6.8195e-01, 1.6135e+00],\n            [9.3996e-01, 8.0108e+01, 8.8450e-01,  ..., 2.1066e+00,\n             6.7527e-01, 6.5329e-01],\n            [1.0171e+00, 8.0459e+01, 9.8473e-01,  ..., 2.5287e+00,\n             5.2313e-01, 2.5142e+00]],\n \n           [[1.2866e+00, 8.1113e+01, 4.6202e+00,  ..., 1.9709e+00,\n             4.4772e-01, 5.2081e-01],\n            [5.8392e-01, 8.0952e+01, 4.5915e+00,  ..., 2.0564e+00,\n             5.1442e-01, 2.2571e+00],\n            [7.4760e-01, 8.1004e+01, 1.1456e+00,  ..., 2.1827e+00,\n             7.9107e-01, 6.7822e-01],\n            [1.0754e+00, 8.1024e+01, 9.1472e-01,  ..., 2.0753e+00,\n             7.6898e-01, 1.9952e+00]],\n \n           [[1.3829e+00, 8.1280e+01, 4.7490e+00,  ..., 2.2410e+00,\n             4.7619e-01, 9.2114e-01],\n            [5.7421e-01, 8.0898e+01, 4.6007e+00,  ..., 1.8051e+00,\n             4.2295e-01, 2.3268e+00],\n            [6.7215e-01, 8.0548e+01, 1.3299e+00,  ..., 2.1154e+00,\n             7.9514e-01, 4.4031e-01],\n            [8.0061e-01, 8.0988e+01, 1.6251e+00,  ..., 2.6951e+00,\n             8.5394e-01, 2.5125e+00]]],\n \n \n          [[[1.6595e+00, 9.4395e-01, 4.7454e+00,  ..., 1.8820e+00,\n             4.0889e-01, 2.9377e-01],\n            [1.1722e+00, 2.5756e-01, 4.0702e+00,  ..., 1.7883e+00,\n             3.6356e-01, 2.3290e+00],\n            [1.6876e+00, 9.9863e-01, 8.5486e-01,  ..., 2.1525e+00,\n             7.9972e-01, 2.5302e-01],\n            [1.0168e+00, 4.4467e-01, 1.3100e+00,  ..., 2.5283e+00,\n             5.1956e-01, 2.1382e+00]],\n \n           [[1.2483e+00, 8.5492e-01, 3.9791e+00,  ..., 2.1478e+00,\n             4.1360e-01, 6.6166e-01],\n            [9.8055e-01, 8.6258e-01, 4.7249e+00,  ..., 2.1784e+00,\n             3.1734e-01, 1.7103e+00],\n            [1.1471e+00, 1.3928e+00, 1.6825e+00,  ..., 2.7292e+00,\n             8.1958e-01, 8.8916e-01],\n            [1.0480e+00, 9.0870e-01, 1.6563e+00,  ..., 2.2306e+00,\n             6.8328e-01, 1.5950e+00]],\n \n           [[1.3399e+00, 1.3634e+00, 4.6401e+00,  ..., 2.3397e+00,\n             5.3481e-01, 7.5643e-02],\n            [1.3229e+00, 1.1533e+00, 4.5461e+00,  ..., 2.2995e+00,\n             5.2776e-01, 2.1141e+00],\n            [1.1386e+00, 1.6847e+00, 1.5657e+00,  ..., 2.0751e+00,\n             6.2271e-01, 8.0685e-01],\n            [1.4106e+00, 1.7110e+00, 1.4324e+00,  ..., 2.5129e+00,\n             6.7213e-01, 1.6864e+00]],\n \n           ...,\n \n           [[1.2041e+00, 8.0404e+01, 4.3003e+00,  ..., 2.1571e+00,\n             4.2792e-01, 7.7271e-01],\n            [1.3743e+00, 8.0686e+01, 3.9133e+00,  ..., 2.1909e+00,\n             3.5251e-01, 2.2503e+00],\n            [1.6251e+00, 8.0784e+01, 1.4710e+00,  ..., 2.7502e+00,\n             9.0315e-01, 4.2223e-01],\n            [1.7027e+00, 7.9971e+01, 1.4501e+00,  ..., 2.2684e+00,\n             8.2301e-01, 1.5857e+00]],\n \n           [[1.4865e+00, 8.0325e+01, 4.3491e+00,  ..., 1.8316e+00,\n             6.5806e-01, 5.5739e-02],\n            [1.4066e+00, 8.0615e+01, 4.5246e+00,  ..., 2.5554e+00,\n             4.1035e-01, 1.7114e+00],\n            [1.0610e+00, 8.1027e+01, 1.0823e+00,  ..., 2.3381e+00,\n             8.6184e-01, 9.6628e-01],\n            [1.1707e+00, 8.0576e+01, 1.3444e+00,  ..., 1.9279e+00,\n             6.6590e-01, 1.9135e+00]],\n \n           [[1.5382e+00, 8.0572e+01, 4.0191e+00,  ..., 2.2812e+00,\n             6.8459e-01, 4.0215e-01],\n            [1.3031e+00, 8.0712e+01, 4.2958e+00,  ..., 2.5950e+00,\n             6.0926e-01, 2.0290e+00],\n            [1.7927e+00, 8.0647e+01, 1.5351e+00,  ..., 2.1617e+00,\n             4.7525e-01, 8.2890e-01],\n            [8.9881e-01, 8.1279e+01, 1.1295e+00,  ..., 2.0174e+00,\n             5.4602e-01, 1.9631e+00]]],\n \n \n          ...,\n \n \n          [[[8.0055e+01, 2.8492e-01, 4.4795e+00,  ..., 2.1377e+00,\n             6.7937e-01, 3.5629e-01],\n            [8.0066e+01, 1.0256e+00, 4.1624e+00,  ..., 1.7738e+00,\n             4.2863e-01, 1.6042e+00],\n            [8.0448e+01, 5.5142e-01, 9.7002e-01,  ..., 2.5554e+00,\n             4.6664e-01, 7.7152e-01],\n            [8.0373e+01, 1.9047e-01, 1.7602e+00,  ..., 2.0192e+00,\n             6.1888e-01, 1.5947e+00]],\n \n           [[7.9851e+01, 1.0872e+00, 4.4843e+00,  ..., 2.4785e+00,\n             4.5307e-01, 2.8201e-01],\n            [8.0573e+01, 5.7519e-01, 4.5505e+00,  ..., 2.1724e+00,\n             3.4194e-01, 1.6541e+00],\n            [8.0177e+01, 1.0797e+00, 1.5112e+00,  ..., 2.3220e+00,\n             5.4997e-01, 1.0881e-01],\n            [8.0485e+01, 1.0916e+00, 1.7056e+00,  ..., 2.0277e+00,\n             8.6582e-01, 1.8656e+00]],\n \n           [[8.0081e+01, 1.7071e+00, 4.2121e+00,  ..., 2.5777e+00,\n             3.6446e-01, 9.6535e-01],\n            [7.9959e+01, 1.1754e+00, 4.5569e+00,  ..., 2.4492e+00,\n             3.4506e-01, 2.0275e+00],\n            [7.9942e+01, 1.1635e+00, 1.3944e+00,  ..., 2.7240e+00,\n             5.8086e-01, 9.4403e-01],\n            [8.0450e+01, 1.1842e+00, 1.0056e+00,  ..., 2.3076e+00,\n             8.8497e-01, 2.4317e+00]],\n \n           ...,\n \n           [[8.0086e+01, 8.0839e+01, 4.1900e+00,  ..., 2.1126e+00,\n             3.3102e-01, 1.4229e-01],\n            [8.0756e+01, 8.0249e+01, 4.4907e+00,  ..., 2.2915e+00,\n             4.3038e-01, 2.1733e+00],\n            [8.0141e+01, 8.0523e+01, 1.1335e+00,  ..., 2.0203e+00,\n             9.0760e-01, 9.8632e-01],\n            [8.0156e+01, 8.0247e+01, 1.3474e+00,  ..., 2.2334e+00,\n             6.6146e-01, 1.6263e+00]],\n \n           [[8.0509e+01, 8.0401e+01, 4.0473e+00,  ..., 1.8685e+00,\n             3.8492e-01, 6.4916e-01],\n            [8.0650e+01, 8.0284e+01, 4.4167e+00,  ..., 1.9091e+00,\n             4.7928e-01, 2.2050e+00],\n            [8.0838e+01, 8.0237e+01, 9.4436e-01,  ..., 1.9843e+00,\n             8.4539e-01, 4.6869e-01],\n            [8.0491e+01, 8.0772e+01, 1.4963e+00,  ..., 2.2614e+00,\n             6.3335e-01, 1.6101e+00]],\n \n           [[8.0662e+01, 8.0967e+01, 4.2351e+00,  ..., 2.2730e+00,\n             5.9840e-01, 6.1993e-02],\n            [8.0543e+01, 8.0506e+01, 4.3314e+00,  ..., 1.9533e+00,\n             6.9097e-01, 1.5973e+00],\n            [8.0117e+01, 8.0852e+01, 1.2780e+00,  ..., 2.0500e+00,\n             5.3351e-01, 7.0783e-01],\n            [8.0517e+01, 8.1127e+01, 1.6628e+00,  ..., 2.0307e+00,\n             5.0194e-01, 2.3504e+00]]],\n \n \n          [[[8.1039e+01, 4.3277e-01, 4.3043e+00,  ..., 2.2561e+00,\n             4.9723e-01, 4.5022e-02],\n            [8.0517e+01, 9.1940e-01, 4.8337e+00,  ..., 2.0789e+00,\n             5.7128e-01, 2.0820e+00],\n            [8.0702e+01, 5.4632e-01, 1.0207e+00,  ..., 2.0365e+00,\n             6.9278e-01, 4.4922e-01],\n            [8.0518e+01, 3.3795e-01, 9.4884e-01,  ..., 1.9620e+00,\n             7.2914e-01, 1.6866e+00]],\n \n           [[8.0962e+01, 9.6962e-01, 4.2893e+00,  ..., 2.2495e+00,\n             6.3117e-01, 1.2894e-02],\n            [8.0217e+01, 8.9214e-01, 4.1426e+00,  ..., 2.4013e+00,\n             4.5121e-01, 1.6206e+00],\n            [8.0901e+01, 8.2615e-01, 1.5930e+00,  ..., 2.0725e+00,\n             6.6337e-01, 7.4728e-02],\n            [8.0518e+01, 6.5177e-01, 1.7909e+00,  ..., 2.1230e+00,\n             8.6311e-01, 2.1249e+00]],\n \n           [[8.0598e+01, 1.3774e+00, 4.7337e+00,  ..., 2.2406e+00,\n             5.4871e-01, 8.0617e-01],\n            [8.1108e+01, 9.4533e-01, 3.9769e+00,  ..., 1.9415e+00,\n             4.1190e-01, 2.1105e+00],\n            [8.0234e+01, 1.7268e+00, 1.1319e+00,  ..., 2.6325e+00,\n             5.1662e-01, 7.9048e-01],\n            [8.0791e+01, 1.3483e+00, 1.2055e+00,  ..., 2.7359e+00,\n             6.0621e-01, 1.7354e+00]],\n \n           ...,\n \n           [[8.0661e+01, 8.0341e+01, 4.8128e+00,  ..., 1.7984e+00,\n             6.5855e-01, 2.3292e-01],\n            [8.0849e+01, 8.0643e+01, 4.5541e+00,  ..., 2.1206e+00,\n             4.6809e-01, 2.2046e+00],\n            [8.0621e+01, 8.0569e+01, 1.0958e+00,  ..., 2.1145e+00,\n             6.8311e-01, 3.6531e-01],\n            [8.0713e+01, 7.9910e+01, 1.6178e+00,  ..., 2.0990e+00,\n             8.7424e-01, 2.2011e+00]],\n \n           [[8.0682e+01, 8.0937e+01, 4.5732e+00,  ..., 2.3851e+00,\n             3.3469e-01, 7.9080e-01],\n            [8.0239e+01, 8.1138e+01, 4.7502e+00,  ..., 2.5663e+00,\n             5.1812e-01, 2.3867e+00],\n            [8.0827e+01, 8.0499e+01, 1.1983e+00,  ..., 2.3637e+00,\n             6.8225e-01, 2.7572e-01],\n            [8.1073e+01, 8.0250e+01, 1.5892e+00,  ..., 2.1452e+00,\n             6.0771e-01, 1.9201e+00]],\n \n           [[8.0234e+01, 8.0545e+01, 4.5484e+00,  ..., 2.2628e+00,\n             3.7872e-01, 4.8261e-01],\n            [8.1108e+01, 8.0690e+01, 3.9142e+00,  ..., 2.3282e+00,\n             3.8702e-01, 2.3905e+00],\n            [8.1001e+01, 8.0907e+01, 1.5405e+00,  ..., 2.3045e+00,\n             8.1872e-01, 3.8406e-02],\n            [8.0774e+01, 8.1270e+01, 1.4793e+00,  ..., 2.0252e+00,\n             7.7717e-01, 1.7857e+00]]],\n \n \n          [[[8.0863e+01, 2.4583e-01, 4.8103e+00,  ..., 1.9338e+00,\n             3.3166e-01, 1.9651e-01],\n            [8.0677e+01, 9.9226e-01, 4.6003e+00,  ..., 2.4256e+00,\n             4.4053e-01, 1.6200e+00],\n            [8.0630e+01, 5.4999e-01, 1.3824e+00,  ..., 2.3274e+00,\n             6.7734e-01, 7.9357e-01],\n            [8.0950e+01, 1.7315e-01, 1.3994e+00,  ..., 2.3609e+00,\n             7.8386e-01, 2.4984e+00]],\n \n           [[8.1437e+01, 1.3496e+00, 4.6186e+00,  ..., 2.0094e+00,\n             6.4532e-01, 6.9373e-01],\n            [8.0481e+01, 5.0459e-01, 4.3186e+00,  ..., 2.4189e+00,\n             6.5800e-01, 1.8829e+00],\n            [8.0762e+01, 1.4724e+00, 1.0402e+00,  ..., 2.0327e+00,\n             6.4780e-01, 6.1075e-01],\n            [8.1008e+01, 6.6866e-01, 1.6260e+00,  ..., 2.0623e+00,\n             8.6442e-01, 1.8361e+00]],\n \n           [[8.1018e+01, 1.1221e+00, 4.1297e+00,  ..., 1.7573e+00,\n             3.9042e-01, 2.6974e-01],\n            [8.0663e+01, 1.1753e+00, 4.2791e+00,  ..., 2.5648e+00,\n             6.4688e-01, 2.2845e+00],\n            [8.0615e+01, 1.6849e+00, 1.1972e+00,  ..., 2.0763e+00,\n             6.6695e-01, 3.6914e-01],\n            [8.0817e+01, 1.2496e+00, 1.3994e+00,  ..., 1.9585e+00,\n             8.2713e-01, 2.3243e+00]],\n \n           ...,\n \n           [[8.1016e+01, 8.0122e+01, 4.6197e+00,  ..., 1.9633e+00,\n             4.4281e-01, 9.9197e-01],\n            [8.0916e+01, 8.0636e+01, 4.5300e+00,  ..., 2.0082e+00,\n             3.7674e-01, 2.3991e+00],\n            [8.1241e+01, 8.0458e+01, 9.6498e-01,  ..., 2.0283e+00,\n             8.0263e-01, 7.6906e-01],\n            [8.1277e+01, 8.0633e+01, 9.3649e-01,  ..., 2.2184e+00,\n             7.2840e-01, 1.9720e+00]],\n \n           [[8.1440e+01, 8.0392e+01, 4.6604e+00,  ..., 2.2309e+00,\n             4.2260e-01, 7.4240e-01],\n            [8.0638e+01, 8.0175e+01, 4.3040e+00,  ..., 2.1879e+00,\n             4.8904e-01, 2.0538e+00],\n            [8.1275e+01, 8.0269e+01, 8.7447e-01,  ..., 2.5252e+00,\n             7.8557e-01, 4.2639e-01],\n            [8.0915e+01, 8.0833e+01, 1.4369e+00,  ..., 2.2011e+00,\n             7.7086e-01, 1.6593e+00]],\n \n           [[8.0824e+01, 8.1098e+01, 4.5640e+00,  ..., 2.2953e+00,\n             6.0394e-01, 8.9087e-02],\n            [8.1207e+01, 8.1319e+01, 4.1548e+00,  ..., 2.0222e+00,\n             3.3984e-01, 2.0668e+00],\n            [8.1347e+01, 8.0620e+01, 1.4210e+00,  ..., 2.0269e+00,\n             6.3654e-01, 9.0038e-01],\n            [8.1343e+01, 8.1288e+01, 8.8810e-01,  ..., 2.4992e+00,\n             7.3712e-01, 2.1992e+00]]]]], device='cuda:0'),\n torch.Size([2, 252, 252, 4, 7]))"
     },
     "execution_count": 5,
     "metadata": {},
     "output_type": "execute_result"
    }
   ],
   "source": [
    "pillars_cfg = read_config()['pillars']\n",
    "head_cfg = read_config()['head']\n",
    "tens = torch.rand([2, 252, 252, 4, 7]).cuda()\n",
    "boxmatch = BoxMatch(pillars_cfg, head_cfg)\n",
    "tens = boxmatch._calculate_absolute_boxes_from_anchors(tens)\n",
    "\n",
    "tens, tens.shape"
   ]
  },
  {
   "cell_type": "code",
   "execution_count": 6,
   "metadata": {
    "collapsed": false,
    "jupyter": {
     "outputs_hidden": false
    },
    "pycharm": {
     "name": "#%%\n"
    }
   },
   "outputs": [
    {
     "ename": "AttributeError",
     "evalue": "'BoxMatch' object has no attribute '_convert_boxes_to_corners'",
     "output_type": "error",
     "traceback": [
      "\u001B[0;31m---------------------------------------------------------------------------\u001B[0m",
      "\u001B[0;31mAttributeError\u001B[0m                            Traceback (most recent call last)",
      "\u001B[0;32m<ipython-input-6-a804aa4b8937>\u001B[0m in \u001B[0;36m<module>\u001B[0;34m\u001B[0m\n\u001B[0;32m----> 1\u001B[0;31m \u001B[0mtens\u001B[0m \u001B[0;34m=\u001B[0m \u001B[0mboxmatch\u001B[0m\u001B[0;34m.\u001B[0m\u001B[0m_convert_boxes_to_corners\u001B[0m\u001B[0;34m(\u001B[0m\u001B[0mtens\u001B[0m\u001B[0;34m)\u001B[0m\u001B[0;34m\u001B[0m\u001B[0;34m\u001B[0m\u001B[0m\n\u001B[0m\u001B[1;32m      2\u001B[0m \u001B[0mtens\u001B[0m\u001B[0;34m,\u001B[0m \u001B[0mtens\u001B[0m\u001B[0;34m.\u001B[0m\u001B[0mshape\u001B[0m\u001B[0;34m\u001B[0m\u001B[0;34m\u001B[0m\u001B[0m\n\u001B[1;32m      3\u001B[0m \u001B[0;34m\u001B[0m\u001B[0m\n\u001B[1;32m      4\u001B[0m \u001B[0;34m\u001B[0m\u001B[0m\n",
      "\u001B[0;32m~/anaconda3/envs/ba/lib/python3.8/site-packages/torch/nn/modules/module.py\u001B[0m in \u001B[0;36m__getattr__\u001B[0;34m(self, name)\u001B[0m\n\u001B[1;32m    945\u001B[0m             \u001B[0;32mif\u001B[0m \u001B[0mname\u001B[0m \u001B[0;32min\u001B[0m \u001B[0mmodules\u001B[0m\u001B[0;34m:\u001B[0m\u001B[0;34m\u001B[0m\u001B[0;34m\u001B[0m\u001B[0m\n\u001B[1;32m    946\u001B[0m                 \u001B[0;32mreturn\u001B[0m \u001B[0mmodules\u001B[0m\u001B[0;34m[\u001B[0m\u001B[0mname\u001B[0m\u001B[0;34m]\u001B[0m\u001B[0;34m\u001B[0m\u001B[0;34m\u001B[0m\u001B[0m\n\u001B[0;32m--> 947\u001B[0;31m         raise AttributeError(\"'{}' object has no attribute '{}'\".format(\n\u001B[0m\u001B[1;32m    948\u001B[0m             type(self).__name__, name))\n\u001B[1;32m    949\u001B[0m \u001B[0;34m\u001B[0m\u001B[0m\n",
      "\u001B[0;31mAttributeError\u001B[0m: 'BoxMatch' object has no attribute '_convert_boxes_to_corners'"
     ]
    }
   ],
   "source": [
    "tens = boxmatch._convert_boxes_to_corners(tens)\n",
    "tens, tens.shape\n"
   ]
  },
  {
   "cell_type": "code",
   "execution_count": null,
   "metadata": {
    "collapsed": false,
    "jupyter": {
     "outputs_hidden": false
    },
    "pycharm": {
     "name": "#%%\n"
    }
   },
   "outputs": [],
   "source": [
    "pred_boxes = torch.rand([2, 254016, 4]).cuda()\n",
    "gt_boxes = torch.rand([2, 2, 4]).cuda()\n",
    "boxmatch._calculate_batch_iou(pred_boxes, gt_boxes)"
   ]
  },
  {
   "cell_type": "code",
   "execution_count": null,
   "metadata": {
    "collapsed": false,
    "jupyter": {
     "outputs_hidden": false
    },
    "pycharm": {
     "name": "#%%\n"
    }
   },
   "outputs": [],
   "source": [
    "time_method(boxmatch._calculate_batch_iou, runs=100, kwargs={'pred_boxes': pred_boxes, 'gt_boxes': gt_boxes})"
   ]
  },
  {
   "cell_type": "code",
   "execution_count": null,
   "metadata": {
    "collapsed": false,
    "jupyter": {
     "outputs_hidden": false
    },
    "pycharm": {
     "name": "#%%\n"
    }
   },
   "outputs": [],
   "source": [
    "pred_boxes = torch.cuda.FloatTensor([[[0, 0, 2, 2], [0, 1, 2, 2], [0, 1, 2, 3]], [[1, 1, 2, 2], [0, 0, 0, 0], [0, 0, 0, 0]]])\n",
    "gt_boxes = torch.cuda.FloatTensor([[[0, 0, 2, 2], [1, 1, 2, 2]], [[0, 0, 2, 2], [1, 1, 2, 2]]])\n",
    "\n",
    "out = boxmatch._calculate_batch_iou(pred_boxes, gt_boxes)\n",
    "out, out.shape"
   ]
  },
  {
   "cell_type": "code",
   "execution_count": null,
   "metadata": {
    "collapsed": false,
    "jupyter": {
     "outputs_hidden": false
    },
    "pycharm": {
     "name": "#%%\n"
    }
   },
   "outputs": [],
   "source": [
    "pred_boxes = torch.cuda.FloatTensor([[[0,0,0,1,1,1,0], [0,0,0,2,2,2,0], [0,0,0,1,2,1,0], [0,0,0,0,0,0,0]]])\n",
    "pred_cls = torch.cuda.FloatTensor([[0.1, 0.2, 0.3, 0.4]])\n",
    "pred_heading = torch.cuda.FloatTensor([[0, 1, 0, 0]])\n",
    "pred_occ = torch.cuda.FloatTensor([[0.1, 0.2, 0.3, 0.4]])\n",
    "gt_boxes = torch.cuda.FloatTensor([[[0,0,0,1,1,1,0], [0,0,0,2,2,2,0]]])\n",
    "gt_mask = torch.cuda.FloatTensor([[[0,1]]])\n",
    "\n",
    "preds = [pred_occ, pred_cls, pred_heading, pred_boxes]\n",
    "\n",
    "out = boxmatch.iou_nms_from_corners(preds, gt_boxes, gt_mask)\n",
    "out[0], out[0].shape, out[1], out[1].shape, out[2], out[2].shape, out[3], out[3].shape, out[4], out[4].shape, out[5], out[5].shape\n"
   ]
  }
 ],
 "metadata": {
  "kernelspec": {
   "display_name": "ba",
   "language": "python",
   "name": "ba"
  },
  "language_info": {
   "codemirror_mode": {
    "name": "ipython",
    "version": 3
   },
   "file_extension": ".py",
   "mimetype": "text/x-python",
   "name": "python",
   "nbconvert_exporter": "python",
   "pygments_lexer": "ipython3",
   "version": "3.8.5"
  }
 },
 "nbformat": 4,
 "nbformat_minor": 4
}