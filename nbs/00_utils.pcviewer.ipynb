{
 "cells": [
  {
   "cell_type": "code",
   "execution_count": 1,
   "metadata": {
    "collapsed": true,
    "jupyter": {
     "outputs_hidden": true
    }
   },
   "outputs": [],
   "source": [
    "#default_exp utils.pcviewer"
   ]
  },
  {
   "cell_type": "code",
   "execution_count": 2,
   "metadata": {
    "collapsed": false,
    "jupyter": {
     "outputs_hidden": false
    },
    "pycharm": {
     "name": "#%%\n"
    }
   },
   "outputs": [
    {
     "name": "stdout",
     "output_type": "stream",
     "text": [
      "Jupyter environment detected. Enabling Open3D WebVisualizer.\n",
      "[Open3D INFO] WebRTC GUI backend enabled.\n",
      "[Open3D INFO] WebRTCWindowSystem: HTTP handshake server disabled.\n"
     ]
    }
   ],
   "source": [
    "#export\n",
    "import torch\n",
    "import math\n",
    "import numpy as np\n",
    "import open3d as o3d\n",
    "\n",
    "#from pointpillars.utils.box_ops import convert_boxes_to_3d_corners"
   ]
  },
  {
   "cell_type": "code",
   "execution_count": 3,
   "metadata": {
    "collapsed": false,
    "jupyter": {
     "outputs_hidden": false
    },
    "pycharm": {
     "name": "#%%\n"
    }
   },
   "outputs": [],
   "source": [
    "#export\n",
    "class PCViewer(object):\n",
    "\n",
    "    def __init__(self):\n",
    "        pass\n",
    "\n",
    "    @staticmethod\n",
    "    def view_pc_with_jupyter():\n",
    "        \"\"\"\n",
    "        Visualize the point cloud on Jupyter Notebook.\n",
    "        \"\"\"\n",
    "        pass\n",
    "\n",
    "    @staticmethod\n",
    "    def line_set_from_3d_box(box: np.ndarray, color: list) -> o3d.geometry.LineSet:\n",
    "        \"\"\"\n",
    "\n",
    "        :param box: Tensor(1,7) with x,y,z,h,w,l,theta\n",
    "        :param colors: list [3] with the rgb values between 0 and 1\n",
    "        :return: LineSet as bounding box\n",
    "        \"\"\"\n",
    "        x, y, z, h, w, l, theta = box.tolist()\n",
    "\n",
    "        dh = 0.5 * h\n",
    "        dw = 0.5 * w\n",
    "        dl = 0.5 * l\n",
    "\n",
    "        p0 = [x - dl, y + dw, z - dh]\n",
    "        p1 = [x - dl, y - dw, z - dh]\n",
    "        p2 = [x + dl, y - dw, z - dh]\n",
    "        p3 = [x + dl, y + dw, z - dh]\n",
    "        p4 = [x - dl, y + dw, z + dh]\n",
    "        p5 = [x - dl, y - dw, z + dh]\n",
    "        p6 = [x + dl, y - dw, z + dh]\n",
    "        p7 = [x + dl, y + dw, z + dh]\n",
    "\n",
    "        points = [p0, p1, p2, p3, p4, p5, p6, p7]\n",
    "        #points = PCViewer.rotate_points_around_z(points, theta)\n",
    "        # indices which corners have a connection with each other\n",
    "        lines = [[0, 1], [0, 3], [2, 1], [2, 3], [4, 7], [4, 5], [6, 5], [6, 7], [0, 4], [1, 5], [2, 6], [3, 7]]\n",
    "\n",
    "        colors = [color for i in range(len(lines))]\n",
    "\n",
    "        line_set = o3d.geometry.LineSet()\n",
    "        line_set.points =  o3d.utility.Vector3dVector(points)\n",
    "        line_set.lines =  o3d.utility.Vector2iVector(lines)\n",
    "        line_set.colors = o3d.utility.Vector3dVector(colors)\n",
    "\n",
    "\n",
    "        return line_set\n",
    "\n",
    "    @staticmethod\n",
    "    def rotate_points_around_z(points: list, theta: float):\n",
    "        \"\"\"\n",
    "        Rotates corner points by an angle theta around the z axes.\n",
    "        The formulas are: Rv = (xcos(theta) - ysin(theta))e_x + (xsin(theta) + ycos(theta))e_y\n",
    "\n",
    "        :param points: a list containing all points in format [[x1,y1,z1], [x2, y2, z2], ...]\n",
    "        :param theta: angle by which to rotate. Given in rad.\n",
    "\n",
    "        :returns: list containing the newly rotated points in format [[xn1, yn1, z1], [xn2, yn2, z2], ...]\n",
    "        \"\"\"\n",
    "        for i, point in enumerate(points):\n",
    "            x, y, z = point\n",
    "\n",
    "            x_new = x * math.cos(theta) - y * math.sin(theta)\n",
    "            y_new = x * math.sin(theta) + y * math.cos(theta)\n",
    "\n",
    "            point = [x_new, y_new, z]\n",
    "            points[i] = point\n",
    "\n",
    "        return points\n",
    "\n",
    "    @staticmethod\n",
    "    def view_pcd_from_network_output(pcloud: torch.Tensor, pred_boxes: torch.Tensor, gt_boxes: torch.Tensor):\n",
    "        \"\"\"\n",
    "        #TODO: Confirm dimension order from points\n",
    "        :param pcloud: Tensor(nb_points, 4) with last dim being x,y,z,r\n",
    "        :param pred_boxes: Tensor(nb_pred_boxes, 7) with last dim being x,y,z,h,w,l,theta\n",
    "        :param gt_boxes: Tensor(nb_gt_boxes, 7) with last dim being x,y,z,h,w,l,theta\n",
    "        :return:\n",
    "        \"\"\"\n",
    "        pcloud = pcloud.cpu()\n",
    "        pred_boxes = pred_boxes.cpu()\n",
    "        gt_boxes = gt_boxes.cpu()\n",
    "\n",
    "        pcloud = pcloud.numpy()\n",
    "        pred_boxes = pred_boxes.numpy()\n",
    "        gt_boxes = gt_boxes.numpy()\n",
    "\n",
    "        pcd = o3d.geometry.PointCloud()\n",
    "        pcd.points = o3d.open3d.utility.Vector3dVector(pcloud[:,:3])\n",
    "\n",
    "        pred_boxes_arr = []\n",
    "        for i, pred_box in enumerate(pred_boxes):\n",
    "            pred_line_set = PCViewer.line_set_from_3d_box(pred_box, [1,0,0])\n",
    "            pred_boxes_arr.append(pred_line_set)\n",
    "\n",
    "        gt_boxes_arr = []\n",
    "        for i, gt_box in enumerate(gt_boxes):\n",
    "            gt_line_set = PCViewer.line_set_from_3d_box(gt_box, [0,1,0])\n",
    "            gt_boxes_arr.append(gt_line_set)\n",
    "\n",
    "        geometries = pred_boxes_arr + gt_boxes_arr\n",
    "        #geometries = gt_boxes_arr\n",
    "        geometries.append(pcd)\n",
    "        o3d.visualization.draw_geometries(geometries)\n",
    "\n"
   ]
  },
  {
   "cell_type": "code",
   "execution_count": 4,
   "metadata": {
    "collapsed": false,
    "jupyter": {
     "outputs_hidden": false
    },
    "pycharm": {
     "name": "#%%\n"
    }
   },
   "outputs": [],
   "source": [
    "#export\n",
    "img_nbr = '000100'\n",
    "velodyne_location = '/home/qhs67/git/bachelorthesis_sven_thaele/code/data/kitti/training/velodyne/training/{}.bin'.format(img_nbr)\n"
   ]
  },
  {
   "cell_type": "code",
   "execution_count": 5,
   "outputs": [
    {
     "name": "stdout",
     "output_type": "stream",
     "text": [
      "\u001B[1;33m[Open3D WARNING] invalid color in PaintUniformColor, clipping to [0, 1]\u001B[0;m\n"
     ]
    },
    {
     "ename": "TypeError",
     "evalue": "(): incompatible function arguments. The following argument types are supported:\n    1. (self: open3d.cpu.pybind.geometry.LineSet, arg0: open3d.cpu.pybind.utility.Vector3dVector) -> None\n\nInvoked with: LineSet with 12 lines., array([0.5, 0.5, 0. ])",
     "output_type": "error",
     "traceback": [
      "\u001B[0;31m---------------------------------------------------------------------------\u001B[0m",
      "\u001B[0;31mTypeError\u001B[0m                                 Traceback (most recent call last)",
      "\u001B[0;32m<ipython-input-5-0885e9abfa8e>\u001B[0m in \u001B[0;36m<module>\u001B[0;34m\u001B[0m\n\u001B[1;32m      3\u001B[0m \u001B[0;34m\u001B[0m\u001B[0m\n\u001B[1;32m      4\u001B[0m \u001B[0mpcviewer\u001B[0m \u001B[0;34m=\u001B[0m \u001B[0mPCViewer\u001B[0m\u001B[0;34m(\u001B[0m\u001B[0;34m)\u001B[0m\u001B[0;34m\u001B[0m\u001B[0;34m\u001B[0m\u001B[0m\n\u001B[0;32m----> 5\u001B[0;31m \u001B[0mpcviewer\u001B[0m\u001B[0;34m.\u001B[0m\u001B[0mpc_from_network_output\u001B[0m\u001B[0;34m(\u001B[0m\u001B[0mpred_boxes\u001B[0m\u001B[0;34m)\u001B[0m\u001B[0;34m\u001B[0m\u001B[0;34m\u001B[0m\u001B[0m\n\u001B[0m\u001B[1;32m      6\u001B[0m \u001B[0;34m\u001B[0m\u001B[0m\n",
      "\u001B[0;32m<ipython-input-3-4293baa10c6e>\u001B[0m in \u001B[0;36mpc_from_network_output\u001B[0;34m(self, pred_boxes)\u001B[0m\n\u001B[1;32m     51\u001B[0m             \u001B[0mpred_bounding_box\u001B[0m \u001B[0;34m=\u001B[0m \u001B[0mo3d\u001B[0m\u001B[0;34m.\u001B[0m\u001B[0mgeometry\u001B[0m\u001B[0;34m.\u001B[0m\u001B[0mOrientedBoundingBox\u001B[0m\u001B[0;34m(\u001B[0m\u001B[0mcenter\u001B[0m\u001B[0;34m,\u001B[0m \u001B[0mR\u001B[0m\u001B[0;34m,\u001B[0m \u001B[0mextend\u001B[0m\u001B[0;34m)\u001B[0m\u001B[0;34m\u001B[0m\u001B[0;34m\u001B[0m\u001B[0m\n\u001B[1;32m     52\u001B[0m             \u001B[0mpred_line_set\u001B[0m \u001B[0;34m=\u001B[0m \u001B[0mo3d\u001B[0m\u001B[0;34m.\u001B[0m\u001B[0mgeometry\u001B[0m\u001B[0;34m.\u001B[0m\u001B[0mLineSet\u001B[0m\u001B[0;34m.\u001B[0m\u001B[0mcreate_from_oriented_bounding_box\u001B[0m\u001B[0;34m(\u001B[0m\u001B[0mpred_bounding_box\u001B[0m\u001B[0;34m)\u001B[0m\u001B[0;34m\u001B[0m\u001B[0;34m\u001B[0m\u001B[0m\n\u001B[0;32m---> 53\u001B[0;31m             \u001B[0mpred_line_set\u001B[0m\u001B[0;34m.\u001B[0m\u001B[0mcolors\u001B[0m \u001B[0;34m=\u001B[0m \u001B[0mcolors\u001B[0m\u001B[0;34m\u001B[0m\u001B[0;34m\u001B[0m\u001B[0m\n\u001B[0m\u001B[1;32m     54\u001B[0m             \u001B[0mpred_bounding_boxes\u001B[0m\u001B[0;34m.\u001B[0m\u001B[0mappend\u001B[0m\u001B[0;34m(\u001B[0m\u001B[0mpred_line_set\u001B[0m\u001B[0;34m)\u001B[0m\u001B[0;34m\u001B[0m\u001B[0;34m\u001B[0m\u001B[0m\n\u001B[1;32m     55\u001B[0m \u001B[0;34m\u001B[0m\u001B[0m\n",
      "\u001B[0;31mTypeError\u001B[0m: (): incompatible function arguments. The following argument types are supported:\n    1. (self: open3d.cpu.pybind.geometry.LineSet, arg0: open3d.cpu.pybind.utility.Vector3dVector) -> None\n\nInvoked with: LineSet with 12 lines., array([0.5, 0.5, 0. ])"
     ]
    }
   ],
   "source": [
    "#hide\n",
    "pred_boxes = torch.Tensor([[0,0,0,2,2,2,2], [5,5,5,5,5,5,5], [0,0,0,1,2,1,0]])\n",
    "\n",
    "pcviewer = PCViewer()\n",
    "pcviewer.pc_from_network_output(pred_boxes)\n"
   ],
   "metadata": {
    "collapsed": false,
    "pycharm": {
     "name": "#%%\n"
    }
   }
  },
  {
   "cell_type": "code",
   "execution_count": null,
   "outputs": [],
   "source": [
    "#hide\n",
    "points = [[0, 0, 0], [1, 0, 0], [0, 1, 0], [1, 1, 0], [0, 0, 1], [1, 0, 1],\n",
    "              [0, 1, 1], [1, 1, 1]]\n",
    "lines = [[0, 1], [0, 2], [1, 3], [2, 3], [4, 5], [4, 6], [5, 7], [6, 7],\n",
    "             [0, 4], [1, 5], [2, 6], [3, 7]]\n",
    "colors = [[1, 0, 0] for i in range(len(lines))]\n",
    "line_set = o3d.geometry.LineSet()\n",
    "line_set.points = o3d.utility.Vector3dVector(points)\n",
    "line_set.lines = o3d.utility.Vector2iVector(lines)\n",
    "line_set.colors = o3d.utility.Vector3dVector(colors)\n",
    "o3d.visualization.draw_geometries([line_set])"
   ],
   "metadata": {
    "collapsed": false,
    "pycharm": {
     "name": "#%%\n"
    }
   }
  },
  {
   "cell_type": "code",
   "execution_count": null,
   "outputs": [],
   "source": [
    "#hide\n",
    "# Load binary point cloud\n",
    "bin_pcd = np.fromfile(velodyne_location, dtype=np.float32)\n",
    "\n",
    "# Reshape and drop reflection values\n",
    "points = bin_pcd.reshape((-1, 4))[:, 0:3]\n",
    "\n",
    "# Convert to Open3D point cloud\n",
    "pcd_pseudo = o3d.open3d.geometry.PointCloud()\n",
    "pcd_pseudo.points = o3d.open3d.utility.Vector3dVector(points)\n",
    "\n",
    "o3d.visualization.draw_geometries([pcd_pseudo])\n",
    "\n"
   ],
   "metadata": {
    "collapsed": false,
    "pycharm": {
     "name": "#%%\n"
    }
   }
  }
 ],
 "metadata": {
  "kernelspec": {
   "display_name": "ba",
   "language": "python",
   "name": "ba"
  },
  "language_info": {
   "codemirror_mode": {
    "name": "ipython",
    "version": 3
   },
   "file_extension": ".py",
   "mimetype": "text/x-python",
   "name": "python",
   "nbconvert_exporter": "python",
   "pygments_lexer": "ipython3",
   "version": "3.8.5"
  }
 },
 "nbformat": 4,
 "nbformat_minor": 4
}