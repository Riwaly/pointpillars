{
 "cells": [
  {
   "cell_type": "code",
   "execution_count": null,
   "metadata": {
    "collapsed": true
   },
   "outputs": [],
   "source": [
    "#default_exp unused"
   ]
  },
  {
   "cell_type": "markdown",
   "source": [
    "# Compute Pillars\n",
    "\n",
    "## Old Jit Code"
   ],
   "metadata": {
    "collapsed": false
   }
  },
  {
   "cell_type": "markdown",
   "source": [
    "#### convert_bounds_to_points"
   ],
   "metadata": {
    "collapsed": false
   }
  },
  {
   "cell_type": "code",
   "source": [
    "#export\n",
    "@jit(nopython=True)\n",
    "def pib_setup(pillars: np.ndarray, centers: np.ndarray, pcloud: np.ndarray, max_ppp: int, max_pil: int, remove_empty: bool = True):\n",
    "    \"\"\"\n",
    "        a helper method to prepare the actual _get_points_in_bounds method and\n",
    "        improve the runtime with numba\n",
    "\n",
    "        param remove_empty: set True if empty pillars should be removed\n",
    "                            from the final tensor\n",
    "        returns: numpy array with the pcloud points sorted by pillar. The cloud\n",
    "                 point cloud tensor is already zero padded / sampled to the correct\n",
    "                 length. Shape is (pillar_nbr, point_nbr, 4)\n",
    "    \"\"\"\n",
    "\n",
    "    # TODO remove the centers for empty pillars\n",
    "    pillars_out = np.empty((1, max_ppp, pcloud.shape[1]), dtype=np.float32)\n",
    "    # mask to keep centers synced\n",
    "    mask = np.ones(pillars.shape[0], dtype=np.bool_)\n",
    "    for i in range(pillars.shape[0]):\n",
    "        pillar_bounds = pillars[i]\n",
    "        pillar_points = get_points_in_bounds(pillar_bounds, pcloud)\n",
    "        if remove_empty and pillar_points.shape[0] == 0:\n",
    "            mask[i] = False\n",
    "            continue\n",
    "\n",
    "        if pillar_points.shape[0] < max_ppp:\n",
    "            pillar_points = zero_pad_array(pillar_points, max_ppp)\n",
    "        elif pillar_points.shape[0] > max_ppp:\n",
    "            pillar_points, = sample_array((pillar_points,), max_ppp)\n",
    "\n",
    "        pillars_out = np.concatenate((pillars_out, np.expand_dims(pillar_points, axis=0)), axis=0)\n",
    "\n",
    "    centers_np = centers[mask]\n",
    "    if pillars_out.shape[0] == 0:\n",
    "        raise ValueError(\"No pillars calculated.\")\n",
    "\n",
    "    if pillars_out.shape[0] < max_pil:\n",
    "        pillars_np = zero_pad_array(pillars_out, max_pil)\n",
    "        centers_np = zero_pad_array(centers, max_pil)\n",
    "    elif pillars_out.shape[0] > max_pil:\n",
    "        pillars_np, centers_np = sample_array((pillars_out, centers_np), max_pil)\n",
    "\n",
    "    return pillars_np, centers_np\n",
    "\n",
    "\n",
    "@jit(nopython=True)\n",
    "def get_points_in_bounds(pillar_bounds: np.ndarray, pcloud: np.ndarray):\n",
    "    \"\"\"\n",
    "        The actual point selection\n",
    "        takes the pillar_bounds for one pillar as np array and returns the pcloud points within those points.\n",
    "\n",
    "        param pillar_bounds: pillar_bounds for one pillar. Shape must be [[x_min, y_min], [x_max, y_max]]\n",
    "        returns: 1-D np array with all pcloud points within the given range.\n",
    "\n",
    "    \"\"\"\n",
    "    # TODO: to be tested\n",
    "    xy_pts = pcloud[:,0:2]\n",
    "    lb = pillar_bounds[0]\n",
    "    ub = pillar_bounds[1]\n",
    "    mask = np.logical_and(lb <= xy_pts, xy_pts <= ub)\n",
    "    mask = np.logical_and(mask[:,0], mask[:,1])\n",
    "\n",
    "    return pcloud[mask].astype(np.float32)\n"
   ],
   "metadata": {
    "collapsed": false,
    "pycharm": {
     "name": "#%%\n"
    }
   },
   "execution_count": null,
   "outputs": []
  },
  {
   "cell_type": "code",
   "source": [
    "pillar_bounds = np.array([[1,1], [2,2]])\n",
    "pcloud = np.random.rand(100, 4) * 2\n",
    "res = get_points_in_bounds(pillar_bounds, pcloud)\n",
    "\n",
    "pcloud, pcloud.shape, res, res.shape"
   ],
   "metadata": {
    "collapsed": false,
    "pycharm": {
     "name": "#%%\n"
    }
   },
   "execution_count": null,
   "outputs": []
  },
  {
   "cell_type": "code",
   "source": [
    "pillar_bounds = np.array([[0,0], [1,1]])\n",
    "pcloud = np.random.rand(100, 4) * 2\n",
    "time_method(get_points_in_bounds, runs=50, kwargs={\"pillar_bounds\": pillar_bounds, \"pcloud\": pcloud})"
   ],
   "metadata": {
    "collapsed": false,
    "pycharm": {
     "name": "#%%\n"
    }
   },
   "execution_count": null,
   "outputs": []
  },
  {
   "cell_type": "code",
   "source": [
    "pillar_bounds = torch.tensor([[[0, 0], [1,1]], [[-1,-1], [0,0]], [[0, -5], [5, 0]], [[4, -5], [5, -5]],[[0, 0], [1,1]], [[-1,-1], [0,0]], [[0, -5], [5, 0]], [[4, -5], [5, -5]],[[0, 0], [1,1]], [[-1,-1], [0,0]], [[0, -5], [5, 0]], [[4, -5], [5, -5]],[[0, 0], [1,1]], [[-1,-1], [0,0]], [[0, -5], [5, 0]], [[4, -5], [5, -5]]])\n",
    "pillars_cfg = read_config()['pillars']\n",
    "pillars = Pillars(pillar_bounds, pillars_cfg)\n",
    "pillars.convert_bounds_to_points(pc)\n",
    "\n",
    "pillars.pillars, pillars.pillars.shape, pillars.centers, pillars.centers.shape\n"
   ],
   "metadata": {
    "collapsed": false,
    "pycharm": {
     "name": "#%%\n"
    }
   },
   "execution_count": null,
   "outputs": []
  },
  {
   "cell_type": "code",
   "source": [
    "# Does not work because cannot do numerous runs on one object\n",
    "pillar_bounds = torch.tensor([[[0, 0], [1,1]], [[-1,-1], [0,0]], [[0, -5], [5, 0]], [[4, -5], [5, -5]],[[0, 0], [1,1]], [[-1,-1], [0,0]], [[0, -5], [5, 0]], [[4, -5], [5, -5]],[[0, 0], [1,1]], [[-1,-1], [0,0]], [[0, -5], [5, 0]], [[4, -5], [5, -5]],[[0, 0], [1,1]], [[-1,-1], [0,0]], [[0, -5], [5, 0]], [[4, -5], [5, -5]]])\n",
    "pillars_cfg = read_config()['pillars']\n",
    "pillars = Pillars(pillar_bounds, pillars_cfg)\n",
    "\n",
    "time_method(pillars.convert_bounds_to_points, runs=1, kwargs={\"pcloud\": pc})\n",
    "\n"
   ],
   "metadata": {
    "collapsed": false,
    "pycharm": {
     "name": "#%%\n"
    }
   },
   "execution_count": null,
   "outputs": []
  },
  {
   "cell_type": "markdown",
   "source": [
    "\n",
    "# Old pillar class\n",
    "> Here we can finally define all the classes and methods that do the actual calculation of the pillars. To keep speed\n",
    "> efficiency, we tried to do without many loops. When there was no way to avoid them, we took advantage of numba\n"
   ],
   "metadata": {
    "collapsed": false
   }
  },
  {
   "cell_type": "markdown",
   "source": [
    "\n",
    "### Pillars class\n"
   ],
   "metadata": {
    "collapsed": false
   }
  },
  {
   "cell_type": "code",
   "execution_count": null,
   "outputs": [],
   "source": [
    "#export\n",
    "class Pillars(torch.utils.data.Dataset):\n",
    "\n",
    "    def __init__(self, pillar_bounds: torch.Tensor, pcloud: torch.tensor, pillars_cfg: dict):\n",
    "        if not torch.is_tensor(pillar_bounds):\n",
    "            raise ValueError(\"Tensor expected but not given.\")\n",
    "\n",
    "        if pillar_bounds.shape[1] != 2 or pillar_bounds.shape[2] != 2:\n",
    "            raise ValueError(\"Wrong tensor dimensions. Expect (2,2)\")\n",
    "\n",
    "        # saves all the pillars\n",
    "        self.pillar_bounds = pillar_bounds\n",
    "        self.pillars_cfg = pillars_cfg\n",
    "        self.pillars = None\n",
    "        self.centers = None\n",
    "\n",
    "        #rand_ind = torch.randperm(pcloud.shape[0])\n",
    "        #self.pcloud = pcloud[rand_ind]\n",
    "        self.pcloud = pcloud\n",
    "\n",
    "    def __getitem__(self, item):\n",
    "        \"\"\"\n",
    "            Only iterate over the pillars, centers can be calculated in batch.\n",
    "            Give sampled/zero-padded tensor in the correct length with the points in the pillar\n",
    "        \"\"\"\n",
    "        pillar = self.pillar_bounds[item]\n",
    "        pip = Pillars.convert_bounds_to_points(pillar, self.pcloud)\n",
    "        max_ppp = self.pillars_cfg.getint('max_points_per_pillar')\n",
    "        \"\"\"\n",
    "        pillar_points = torch.zeros((max_ppp, 4), dtype=dt, device=dev)\n",
    "        n = torch.min(torch.tensor([max_ppp, pip.shape[0]]))\n",
    "\n",
    "        pillar_points[0:n] = pip[0:n]\n",
    "        \"\"\"\n",
    "        pillar_points = pip\n",
    "        if pip.shape[0] < max_ppp:\n",
    "            pillar_points = zero_pad_array(pip, max_ppp)\n",
    "        elif pip.shape[0] > max_ppp:\n",
    "            pillar_points, = sample_array((pip,), max_ppp)\n",
    "\n",
    "        return pillar_points\n",
    "\n",
    "    def __len__(self):\n",
    "        return self.pillar_bounds.shape[0]\n",
    "\n",
    "    @staticmethod\n",
    "    def convert_bounds_to_points(pillar: torch.tensor, pcloud: torch.tensor):\n",
    "        \"\"\"\n",
    "            Takes its pillar attribute and converts the pillar bounds to points within those bounds.\n",
    "            Pillar shape must be (2, 2) with the two dimensions being:\n",
    "            [[x_min, y_min], [x_max, y_max]] for the pillar\n",
    "            param config: give the whole config parser\n",
    "            returns: tensor with padded and sampled output in the correct size\n",
    "        \"\"\"\n",
    "        xy_pts = pcloud[:,0:2]\n",
    "        lb = pillar[0]\n",
    "        ub = pillar[1]\n",
    "        mask = torch.logical_and(torch.le(lb, xy_pts), torch.le(xy_pts, ub))\n",
    "        mask = torch.logical_and(mask[:,0], mask[:,1])\n",
    "\n",
    "        return pcloud[mask]\n",
    "\n",
    "\n",
    "    def convert_bounds_to_centers(self):\n",
    "        \"\"\"\n",
    "            converts the pillar bounds into centers.  Pillars center shape must be (pillar_nbr, 2, 2) with the\n",
    "            last two dimensions being [[x_min, y_min], [x_max, y_max]] for each pillar\n",
    "        \"\"\"\n",
    "        # TODO: Test if method is still running after changing bound array shape\n",
    "\n",
    "        xy_min = self.pillar_bounds.index_select(dim=1, index=torch.tensor([0], device=dev))\n",
    "        x_offset = 0.5 * self.pillars_cfg.getfloat('x_step')\n",
    "        y_offset = 0.5 * self.pillars_cfg.getfloat('y_step')\n",
    "        offset = torch.tensor([x_offset, y_offset], dtype=dt, device=dev)\n",
    "        z_center = torch.tensor([(self.pillars_cfg.getfloat('z_max') - self.pillars_cfg.getfloat('z_min')) / 2.0], dtype=dt, device=dev)\n",
    "        # bring z center on shape from xy_min for concatenation\n",
    "        z_center = z_center.unsqueeze(0).unsqueeze(0).expand(xy_min.shape[0], -1, -1)\n",
    "\n",
    "        xy_min = xy_min.add(offset)\n",
    "        self.centers = torch.cat((xy_min, z_center), dim=2)"
   ],
   "metadata": {
    "collapsed": false,
    "pycharm": {
     "name": "#%%\n"
    }
   }
  },
  {
   "cell_type": "code",
   "execution_count": null,
   "outputs": [],
   "source": [
    "pillar = torch.tensor([[[0, 0], [1,1]]], dtype=dt, device=dev)\n",
    "pillar_cfg = read_config()['pillars']\n",
    "pillars_dts = Pillars(pillar, pc, pillar_cfg)\n",
    "time_method(Pillars.convert_bounds_to_points, runs=1000, kwargs={\"pillar\": pillar[0], \"pcloud\": pc})"
   ],
   "metadata": {
    "collapsed": false,
    "pycharm": {
     "name": "#%%\n"
    }
   }
  },
  {
   "cell_type": "code",
   "execution_count": null,
   "outputs": [],
   "source": [
    "pillar_bounds = torch.tensor([[[0, 0], [1,1]], [[-1,-1], [0,0]], [[0, -5], [5, 0]]], device=dev)\n",
    "\n",
    "pillars = Pillars(pillar_bounds, pc, pillar_cfg)\n",
    "\n",
    "pillars.convert_bounds_to_centers()\n",
    "pillars.centers"
   ],
   "metadata": {
    "collapsed": false,
    "pycharm": {
     "name": "#%%\n"
    }
   }
  },
  {
   "cell_type": "code",
   "execution_count": null,
   "outputs": [],
   "source": [
    "pillar_bounds = torch.tensor([[[0, 0], [1,1]], [[-1,-1], [0,0]], [[0, -5], [5, 0]]], device=dev)\n",
    "pillar_cfg = read_config()['pillars']\n",
    "pillars = Pillars(pillar_bounds, pc, pillar_cfg)\n",
    "\n",
    "time_method(pillars.convert_bounds_to_centers, runs=1)"
   ],
   "metadata": {
    "collapsed": false,
    "pycharm": {
     "name": "#%%\n"
    }
   }
  },
  {
   "cell_type": "markdown",
   "source": [
    "### Bring points to same length"
   ],
   "metadata": {
    "collapsed": false
   }
  },
  {
   "cell_type": "markdown",
   "source": [
    "##### zero_pad_array()\n",
    "\n"
   ],
   "metadata": {
    "collapsed": false
   }
  },
  {
   "cell_type": "markdown",
   "source": [
    "### Get points inside the pillar"
   ],
   "metadata": {
    "collapsed": false
   }
  },
  {
   "cell_type": "markdown",
   "source": [
    "We want to extract the points within specific bounding parameters defined by the pillar they are in."
   ],
   "metadata": {
    "collapsed": false
   }
  },
  {
   "cell_type": "code",
   "execution_count": null,
   "outputs": [],
   "source": [
    "#export\n",
    "def get_points_in_pillar(pcloud, x_min, x_max, y_min, y_max):\n",
    "    if not torch.is_tensor(pcloud):\n",
    "        raise ValueError(\"Tensor expected but not given.\")\n",
    "\n",
    "    if x_max < x_min or y_max < y_min:\n",
    "        raise ValueError(\"Unexpected parameters values given. Please check your boundaries.\")\n",
    "\n",
    "    xy_tens = torch.empty((4, pcloud.shape[0]), device=dev)\n",
    "    values = torch.tensor([x_min, -1*x_max, y_min, -1*y_max], dtype=dt, device=dev).reshape(-1,1)\n",
    "    xy_tens[0] = pcloud[:,0]\n",
    "    xy_tens[1] = pcloud[:,0].mul(-1)\n",
    "    xy_tens[2] = pcloud[:,1]\n",
    "    xy_tens[3] = pcloud[:,1].mul(-1)\n",
    "\n",
    "    xy_bool = torch.empty_like(xy_tens, dtype=torch.bool, device=dev)\n",
    "    torch.ge(xy_tens, values, out=xy_bool)\n",
    "\n",
    "    xy_bool[0].logical_and_(xy_bool[1])\n",
    "    xy_bool[2].logical_and_(xy_bool[3])\n",
    "    xy_bool[0].logical_and_(xy_bool[2])\n",
    "\n",
    "    out = torch.tensor(pcloud[xy_bool[0]], dtype=dt, device=dev)\n",
    "    return out"
   ],
   "metadata": {
    "collapsed": false,
    "pycharm": {
     "name": "#%%\n"
    }
   }
  },
  {
   "cell_type": "code",
   "execution_count": null,
   "outputs": [],
   "source": [
    "arr = torch.ones((5,5), device=dev)[:,0]\n",
    "arr.mul_(-1)\n",
    "arr"
   ],
   "metadata": {
    "collapsed": false,
    "pycharm": {
     "name": "#%%\n"
    }
   }
  },
  {
   "cell_type": "code",
   "execution_count": null,
   "outputs": [],
   "source": [
    "#arr = torch.tensor([[-1, 0], [1, 0], [1, 1], [1, 2], [2, 1], [0, 0]])\n",
    "#get_points_in_pillar(arr, -1, 1, 0, 1)"
   ],
   "metadata": {
    "collapsed": false,
    "pycharm": {
     "name": "#%%\n"
    }
   }
  },
  {
   "cell_type": "code",
   "execution_count": null,
   "outputs": [],
   "source": [
    "arr = torch.rand(10000, 2, dtype=dt, device=dev).mul_(100)\n",
    "time_method(get_points_in_pillar, runs=100, kwargs={'pcloud': arr, 'x_min': 0, 'x_max': 50, 'y_min': 20, 'y_max': 100})\n",
    "\n"
   ],
   "metadata": {
    "collapsed": false,
    "pycharm": {
     "name": "#%%\n"
    }
   }
  },
  {
   "cell_type": "code",
   "execution_count": null,
   "outputs": [],
   "source": [
    "#export\n",
    "def calculate_pillar_bounds(pillars_cfg):\n",
    "    \"\"\"\n",
    "        Calculates the pillar bounds for all pillars\n",
    "    \"\"\"\n",
    "    #pcloud = remove_invalid(pcloud)\n",
    "    x_min = pillars_cfg.getfloat('x_min')\n",
    "    y_min = pillars_cfg.getfloat('y_min')\n",
    "    x_step = pillars_cfg.getfloat('x_step')\n",
    "    y_step = pillars_cfg.getfloat('y_step')\n",
    "\n",
    "    # TODO: Specify what happens when n_x and n_y are not exact ints\n",
    "    n_x = int((pillars_cfg.getfloat('x_max') - x_min) / x_step)\n",
    "    n_y = int((pillars_cfg.getfloat('y_max') - y_min) / y_step)\n",
    "\n",
    "    # create tensor containing the pillar indicies in the correct dimension\n",
    "    x = torch.tensor(range(n_x), dtype=dt, device=dev)\n",
    "    y = torch.tensor(range(n_y), dtype=dt, device=dev)\n",
    "    x = x.unsqueeze(0).expand(n_x,n_y)\n",
    "    y = y.unsqueeze(1).expand(n_x,n_y)\n",
    "    ind = torch.stack((x,y), dim=2).reshape(-1,2).unsqueeze(1).expand(-1,2,-1).clone()\n",
    "    ind[:,1].add_(1)\n",
    "\n",
    "    # calculate the pillar bounds with the indicies tensor\n",
    "    min_vals = torch.tensor([[x_min, y_min], [x_min, y_min]], dtype = dt, device=dev)\n",
    "    step_vals = torch.tensor([[x_step, y_step], [x_step, y_step]], dtype=dt, device=dev)\n",
    "    pillar_bounds = min_vals + ind * step_vals\n",
    "\n",
    "    return pillar_bounds"
   ],
   "metadata": {
    "collapsed": false,
    "pycharm": {
     "name": "#%%\n"
    }
   }
  },
  {
   "cell_type": "markdown",
   "source": [
    "##### sample_array()"
   ],
   "metadata": {
    "collapsed": false
   }
  },
  {
   "cell_type": "code",
   "execution_count": null,
   "outputs": [],
   "source": [
    "#export\n",
    "def sample_array(arr_list: tuple, length: int):\n",
    "    \"\"\"\n",
    "        samples the array so it has the given length with the same mask\n",
    "        param arr_list: list of tensors to be sampled the same way\n",
    "        param length: final length of tensors\n",
    "    \"\"\"\n",
    "    tl = arr_list[0].shape[0]\n",
    "    mask = torch.zeros(tl, dtype=torch.bool, device=dev)\n",
    "    mask[:length] = True\n",
    "    ind = torch.randperm(tl)\n",
    "    mask = mask[ind]\n",
    "    out = []\n",
    "    for i in range(len(arr_list)):\n",
    "        out.append(arr_list[0][mask])\n",
    "\n",
    "    return out\n"
   ],
   "metadata": {
    "collapsed": false,
    "pycharm": {
     "name": "#%%\n"
    }
   }
  },
  {
   "cell_type": "code",
   "execution_count": null,
   "outputs": [],
   "source": [
    "\n",
    "arr = torch.rand(50, 100, 4, dtype=dt, device=dev)\n",
    "res1, = sample_array((arr,), 5)\n",
    "res2, = sample_array((arr,), 5)\n",
    "\n",
    "res1, res1.shape, res2, res2.shape"
   ],
   "metadata": {
    "collapsed": false,
    "pycharm": {
     "name": "#%%\n"
    }
   }
  },
  {
   "cell_type": "code",
   "execution_count": null,
   "outputs": [],
   "source": [
    "arr = torch.rand(23000,100,4, dtype=dt, device=dev)\n",
    "time_method(sample_array, runs=12000, kwargs={\"arr_list\": (arr,), \"length\": 1200})\n"
   ],
   "metadata": {
    "collapsed": false,
    "pycharm": {
     "name": "#%%\n"
    }
   }
  },
  {
   "cell_type": "code",
   "execution_count": null,
   "outputs": [],
   "source": [
    "#export\n",
    "def zero_pad_array(arr: torch.tensor, length: int):\n",
    "    \"\"\"\n",
    "        zero pads the array so it has the given length\n",
    "        param length: final length of array\n",
    "    \"\"\"\n",
    "    lx = arr.shape[0]\n",
    "    ly = arr.shape[1]\n",
    "    if arr.dim() == 3:\n",
    "        lz = arr.shape[2]\n",
    "        pad_tens = torch.zeros((length-lx, ly, lz), dtype=dt, device=dev)\n",
    "        out = torch.empty([length, ly, lz], dtype=dt, device=dev)\n",
    "    else:\n",
    "        pad_tens = torch.zeros((length-lx, ly), dtype=dt, device=dev)\n",
    "        out = torch.empty([length, ly], dtype=dt, device=dev)\n",
    "\n",
    "\n",
    "    return torch.cat((arr, pad_tens), dim=0, out=out)"
   ],
   "metadata": {
    "collapsed": false,
    "pycharm": {
     "name": "#%%\n"
    }
   }
  },
  {
   "cell_type": "code",
   "execution_count": null,
   "outputs": [],
   "source": [
    "\n",
    "arr1 = torch.rand(50, 100, 4, dtype=dt, device=dev)\n",
    "arr2 = torch.rand(50, 100, dtype=dt, device=dev)\n",
    "res1 = zero_pad_array(arr1, 100)\n",
    "res2 = zero_pad_array(arr2, 100)\n",
    "res1, res1.shape, res2, res2.shape"
   ],
   "metadata": {
    "collapsed": false,
    "pycharm": {
     "name": "#%%\n"
    }
   }
  },
  {
   "cell_type": "code",
   "execution_count": null,
   "outputs": [],
   "source": [
    "arr = torch.rand((100, 100, 4), device=dev)\n",
    "time_method(zero_pad_array, runs=5000, kwargs={\"arr\": arr, \"length\": 1200})\n"
   ],
   "metadata": {
    "collapsed": false,
    "pycharm": {
     "name": "#%%\n"
    }
   }
  }
 ],
 "metadata": {
  "kernelspec": {
   "display_name": "Python 3",
   "language": "python",
   "name": "python3"
  },
  "language_info": {
   "codemirror_mode": {
    "name": "ipython",
    "version": 2
   },
   "file_extension": ".py",
   "mimetype": "text/x-python",
   "name": "python",
   "nbconvert_exporter": "python",
   "pygments_lexer": "ipython2",
   "version": "2.7.6"
  }
 },
 "nbformat": 4,
 "nbformat_minor": 0
}