{
 "cells": [
  {
   "cell_type": "code",
   "execution_count": null,
   "outputs": [],
   "source": [
    "#default_exp compute_pillars_legacy"
   ],
   "metadata": {
    "collapsed": false,
    "pycharm": {
     "name": "#%%\n"
    }
   }
  },
  {
   "cell_type": "markdown",
   "source": [
    "# Compute pillars legacy"
   ],
   "metadata": {
    "collapsed": false
   }
  },
  {
   "cell_type": "markdown",
   "source": [
    "> First step is computing the all necessary information regarding the pillars on the given point cloud. As source we used the original implementation in second (https://github.com/traveller59/second.pytorch/tree/master/second) as well as another implementation in tensorflow (https://github.com/fferroni/PointPillars). The main idea is to devide the point cloud into descrete sections, namly pillars, and calculate different attributes for each point in regards to the pillar it is in. These attributes include the distance to the pillar mean location as well as the distance to the pillar center."
   ],
   "metadata": {
    "collapsed": false
   }
  },
  {
   "cell_type": "code",
   "execution_count": null,
   "outputs": [],
   "source": [
    "import torch\n",
    "import sys\n",
    "import numba\n",
    "from numba import jit\n",
    "import numpy as np\n",
    "from configparser import SafeConfigParser\n",
    "\n",
    "sys.path.append(\"/home/qhs67/git/bachelorthesis_sven_thaele/code/\")"
   ],
   "metadata": {
    "collapsed": false,
    "pycharm": {
     "name": "#%%\n"
    }
   }
  },
  {
   "cell_type": "markdown",
   "source": [
    "### CUDA"
   ],
   "metadata": {
    "collapsed": false
   }
  },
  {
   "cell_type": "markdown",
   "source": [
    "Set the best cuda device to improve calculation speed"
   ],
   "metadata": {
    "collapsed": false
   }
  },
  {
   "cell_type": "code",
   "execution_count": null,
   "outputs": [],
   "source": [
    "dt = torch.float\n",
    "dev = \"cuda:0\" if torch.cuda.is_available() else \"cpu\"\n",
    "torch.cuda.set_device(dev)\n",
    "#dev = \"cpu\""
   ],
   "metadata": {
    "collapsed": false,
    "pycharm": {
     "name": "#%%\n"
    }
   }
  },
  {
   "cell_type": "markdown",
   "source": [
    "## Data structure"
   ],
   "metadata": {
    "collapsed": false
   }
  },
  {
   "cell_type": "markdown",
   "source": [
    "Firstly, we want to familiarize ourselves with the structure of the binary files we receive from the pseudo-lidar convertion."
   ],
   "metadata": {
    "collapsed": false
   }
  },
  {
   "cell_type": "code",
   "execution_count": null,
   "outputs": [],
   "source": [
    "file_location = \"/home/qhs67/git/bachelorthesis_sven_thaele/code/data/kitti/training/pseudo_lidar/002000.bin\""
   ],
   "metadata": {
    "collapsed": false,
    "pycharm": {
     "name": "#%%\n"
    }
   }
  },
  {
   "cell_type": "code",
   "execution_count": null,
   "outputs": [],
   "source": [
    "pc_np = np.fromfile(file_location, dtype=np.float32, count=-1)\n",
    "pc = torch.as_tensor(pc_np, device=dev)\n",
    "pc = pc.reshape([-1,4])\n",
    "pc"
   ],
   "metadata": {
    "collapsed": false,
    "pycharm": {
     "name": "#%%\n"
    }
   }
  },
  {
   "cell_type": "code",
   "execution_count": null,
   "outputs": [],
   "source": [
    "x = pc[:,0]\n",
    "y = pc[:,1]\n",
    "z = pc[:,2]\n",
    "r = pc[:,3]\n",
    "x, y, z, r"
   ],
   "metadata": {
    "collapsed": false,
    "pycharm": {
     "name": "#%%\n"
    }
   }
  },
  {
   "cell_type": "markdown",
   "source": [
    "## Helping methods\n",
    "> In this section we want to create different helper methods structures our code.\n",
    "### Timing"
   ],
   "metadata": {
    "collapsed": false
   }
  },
  {
   "cell_type": "code",
   "execution_count": null,
   "outputs": [],
   "source": [
    "#hide\n",
    "def time_method(method, runs=1, kwargs=None):\n",
    "\n",
    "    times = torch.empty(runs, dtype=torch.float)\n",
    "    for i in range(runs-1):\n",
    "        start = torch.cuda.Event(enable_timing=True)\n",
    "        end = torch.cuda.Event(enable_timing=True)\n",
    "        start.record()\n",
    "\n",
    "        if kwargs:\n",
    "            method(**kwargs)\n",
    "        else:\n",
    "            method()\n",
    "\n",
    "        end.record()\n",
    "        torch.cuda.synchronize()\n",
    "        times[i] = start.elapsed_time(end)\n",
    "\n",
    "    return times.mean()"
   ],
   "metadata": {
    "collapsed": false,
    "pycharm": {
     "name": "#%%\n"
    }
   }
  },
  {
   "cell_type": "code",
   "execution_count": null,
   "outputs": [],
   "source": [
    "#export\n",
    "import torch\n",
    "from pointpillars.utils.io import read_config"
   ],
   "metadata": {
    "collapsed": false,
    "pycharm": {
     "name": "#%%\n"
    }
   }
  },
  {
   "cell_type": "markdown",
   "source": [
    "##  Preprocessing\n",
    "> Methods to get the point cloud in the correct shape\n",
    "### Removing points outside of area"
   ],
   "metadata": {
    "collapsed": false,
    "pycharm": {
     "name": "#%% md\n"
    }
   }
  },
  {
   "cell_type": "markdown",
   "source": [
    "Remove invalid points according to the settings given in the config file\n",
    "\n",
    "\n"
   ],
   "metadata": {
    "collapsed": false
   }
  },
  {
   "cell_type": "markdown",
   "source": [
    "## Calculation\n",
    "> Next we implement the pillar calculation itself.\n",
    "### Calculate the pillar center"
   ],
   "metadata": {
    "collapsed": false
   }
  },
  {
   "cell_type": "code",
   "source": [
    "#export\n",
    "def calculate_pillar_center(x_min_pillar, y_min_pillar, gparam):\n",
    "\n",
    "    x = x_min_pillar + 0.5 * gparam.getfloat('x_step')\n",
    "    y = x_min_pillar + 0.5 * gparam.getfloat('y_step')\n",
    "    z = (gparam.getfloat('z_max') - gparam.getfloat('z_min')) / 2.0\n",
    "\n",
    "    return torch.tensor([x, y, z], dtype=dt, device=dev)"
   ],
   "metadata": {
    "collapsed": false,
    "pycharm": {
     "name": "#%%\n"
    }
   },
   "execution_count": null,
   "outputs": []
  },
  {
   "cell_type": "code",
   "source": [
    "x_min_pillar = 10\n",
    "y_min_pillar = 20\n",
    "gparam = read_config()['pillars']\n",
    "\n",
    "calculate_pillar_center(x_min_pillar, y_min_pillar, gparam)"
   ],
   "metadata": {
    "collapsed": false,
    "pycharm": {
     "name": "#%%\n"
    }
   },
   "execution_count": null,
   "outputs": []
  },
  {
   "cell_type": "markdown",
   "source": [
    "### Pillar class"
   ],
   "metadata": {
    "collapsed": false
   }
  },
  {
   "cell_type": "code",
   "source": [
    "#hide\n",
    "class Pillar():\n",
    "    points = None\n",
    "    center = None\n",
    "    mean_values = None\n",
    "    points_with_attributes = None\n",
    "    max_points_per_pillar = read_config()['pillars'].getint('max_points_per_pillar')\n",
    "\n",
    "    def __init__(self, points, center):\n",
    "        if not torch.is_tensor(points) or not torch.is_tensor(center):\n",
    "            raise ValueError(\"Tensor expected but not given.\")\n",
    "\n",
    "        if points.shape[1] != 4 or center.shape[0] != 3:\n",
    "            raise ValueError(\"Unexpected array shape.\")\n",
    "\n",
    "        points.to(dev)\n",
    "        center.to(dev)\n",
    "\n",
    "        points_trimmed = self.sample_tensor(points, self.max_points_per_pillar)\n",
    "        self.points = points_trimmed\n",
    "        self.center = center\n",
    "\n",
    "    def _calculate_point_attributes(self):\n",
    "        # drop reflectance\n",
    "        points_diff_to_mean = (self.points - self.mean_values)[:, 0:3].to(dev)\n",
    "\n",
    "        # calculate point difference to center\n",
    "        # drop z coordinate and reflectance\n",
    "        points_diff_to_center = (self.points - torch.cat((self.center, torch.tensor([0], device=dev))))[:, 0:2].to(dev)\n",
    "        pcloud_with_attributes = torch.cat((self.points, points_diff_to_mean, points_diff_to_center), dim=1)\n",
    "\n",
    "        return pcloud_with_attributes.to(dev)\n",
    "\n",
    "    def calculate_obj_attributes(self):\n",
    "        \"\"\"\n",
    "            A method to save computation time\n",
    "        \"\"\"\n",
    "        x_mean = torch.mean(self.points[:,0])\n",
    "        y_mean = torch.mean(self.points[:,1])\n",
    "        z_mean = torch.mean(self.points[:,2])\n",
    "\n",
    "        self.mean_values = torch.tensor([x_mean, y_mean, z_mean, 0], device=dev)\n",
    "        self.points_with_attributes = self._calculate_point_attributes()\n",
    "        self.points_with_attributes = self.pad_tensor(self.points_with_attributes, self.max_points_per_pillar)\n",
    "\n",
    "    @staticmethod\n",
    "    def pad_tensor(tensor, length, mask=(False, False, False, True)):\n",
    "        if len(tensor) < length:\n",
    "            # ensures that the padding mask is long enough, we only want to pad the rows\n",
    "            mask_pad = []\n",
    "            for bool_pad in mask:\n",
    "                mask_pad.append(length - tensor.shape[0] if bool_pad else 0)\n",
    "            tensor = torch.nn.functional.pad(tensor, tuple(mask_pad))\n",
    "\n",
    "        try:\n",
    "            return tensor.to(dev)\n",
    "        except AttributeError:\n",
    "            return tensor\n",
    "\n",
    "    @staticmethod\n",
    "    def sample_tensor(tensor, length):\n",
    "        while len(tensor) > length:\n",
    "            rand_index = torch.randint(len(tensor), (1,))\n",
    "            if torch.is_tensor(tensor):\n",
    "                tensor = torch.cat([tensor[0:rand_index], tensor[rand_index+1:]]).to(dev)\n",
    "            else:\n",
    "                tensor.pop(rand_index)\n",
    "\n",
    "        try:\n",
    "            return tensor.to(dev)\n",
    "        except AttributeError:\n",
    "            return tensor\n"
   ],
   "metadata": {
    "collapsed": false,
    "pycharm": {
     "name": "#%%\n"
    }
   },
   "execution_count": null,
   "outputs": []
  },
  {
   "cell_type": "markdown",
   "source": [
    "## Calculate the pillars itself"
   ],
   "metadata": {
    "collapsed": false
   }
  },
  {
   "cell_type": "markdown",
   "source": [
    "Finally, we can compute the pillars itself.\n",
    "As return we want to receive two numpy tensors.\n",
    "The first contains all the points from the cloud corresponding to each pillar.\n",
    "Also included are the newly calculated attributes for each point itself.\n",
    "In the second tensor we store the centers for each pillar.\n",
    "The reason for that is, so we can move the resulting pillar feature maps back to the correct location in 3d-space."
   ],
   "metadata": {
    "collapsed": false
   }
  },
  {
   "cell_type": "code",
   "source": [
    "#export\n",
    "def calculate_pillars(pcloud):\n",
    "    if not torch.is_tensor(pcloud):\n",
    "        raise ValueError(\"Tensor expected but not given.\")\n",
    "\n",
    "    gparam = read_config()['pillars']\n",
    "    pcloud = remove_invalid(pcloud, gparam)\n",
    "\n",
    "    x_min = gparam.getfloat('x_min')\n",
    "    y_min = gparam.getfloat('y_min')\n",
    "    x_step = gparam.getfloat('x_step')\n",
    "    y_step = gparam.getfloat('y_step')\n",
    "\n",
    "    max_points_per_pillar = gparam.getint('max_points_per_pillar')\n",
    "    max_pillars = gparam.getint('max_pillars')\n",
    "\n",
    "    # TODO: Specify what happens when n_x and n_y are not exact ints\n",
    "    n_x = int((gparam.getfloat('x_max') - x_min) / x_step)\n",
    "    n_y = int((gparam.getfloat('y_max') - y_min) / y_step)\n",
    "\n",
    "\n",
    "    start = torch.cuda.Event(enable_timing=True)\n",
    "    end = torch.cuda.Event(enable_timing=True)\n",
    "    start.record()\n",
    "\n",
    "\n",
    "\n",
    "    pillars = []\n",
    "    for i in range(n_x):\n",
    "        for j in range(n_y):\n",
    "            x_min_pillar = x_min + i * x_step\n",
    "            x_max_pillar = x_min_pillar + x_step\n",
    "            y_min_pillar = y_min + j * y_step\n",
    "            y_max_pillar = y_min_pillar + x_step\n",
    "\n",
    "            points_in_pillar = get_points_in_pillar(pcloud, x_min_pillar, x_max_pillar, y_min_pillar, y_max_pillar)\n",
    "            if points_in_pillar.shape[0] == 0:\n",
    "                continue\n",
    "\n",
    "            pillar_center = calculate_pillar_center(x_min_pillar, y_min_pillar, gparam)\n",
    "            # TODO: Move Pillar object to gpu\n",
    "            pillars.append(Pillar(points_in_pillar, pillar_center))\n",
    "\n",
    "    end.record()\n",
    "    torch.cuda.synchronize()\n",
    "    print(start.elapsed_time(end))\n",
    "\n",
    "    # cannot add zeroes to pillars array\n",
    "    pillars_points = torch.empty((max_pillars, max_points_per_pillar, 9), dtype=torch.float, device=dev)\n",
    "    pillars_indicies = torch.empty((max_pillars, 3), dtype=torch.float, device=dev)\n",
    "    pillars_trimmed = Pillar.sample_tensor(pillars, max_pillars)\n",
    "    pillerid = 0\n",
    "    for pillar in pillars_trimmed:\n",
    "        pillar.calculate_obj_attributes()\n",
    "        center = pillar.center\n",
    "        points_with_attributes = pillar.points_with_attributes\n",
    "\n",
    "        pillars_points[pillerid] = points_with_attributes\n",
    "        pillars_indicies[pillerid] = center\n",
    "        pillerid += 1\n",
    "\n",
    "    return pillars_points, pillars_indicies"
   ],
   "metadata": {
    "collapsed": false,
    "pycharm": {
     "name": "#%%\n"
    }
   },
   "execution_count": null,
   "outputs": []
  },
  {
   "cell_type": "code",
   "source": [
    "arr1 = torch.rand(1200,270000,10)\n",
    "sys.getsizeof(arr1)"
   ],
   "metadata": {
    "collapsed": false,
    "pycharm": {
     "name": "#%%\n"
    }
   },
   "execution_count": null,
   "outputs": []
  },
  {
   "cell_type": "code",
   "source": [
    "import time\n",
    "\n",
    "pillars_points, pillars_indicies = calculate_pillars(pc)\n",
    "pillars_cfg = read_config()['pillars']\n",
    "#pillars_points, pillars_points.shape, pillars_indicies, pillars_indicies.shape, start.elapsed_time(end)\n",
    "out_points, out_indicies = calculate_pillars(pc)\n",
    "out_points, out_points.shape, time_method(calculate_pillars, runs=1, kwargs={'pcloud': pc})"
   ],
   "metadata": {
    "collapsed": false,
    "pycharm": {
     "name": "#%%\n"
    }
   },
   "execution_count": null,
   "outputs": []
  }
 ],
 "metadata": {
  "kernelspec": {
   "display_name": "Python 3",
   "language": "python",
   "name": "python3"
  },
  "language_info": {
   "codemirror_mode": {
    "name": "ipython",
    "version": 2
   },
   "file_extension": ".py",
   "mimetype": "text/x-python",
   "name": "python",
   "nbconvert_exporter": "python",
   "pygments_lexer": "ipython2",
   "version": "2.7.6"
  }
 },
 "nbformat": 4,
 "nbformat_minor": 0
}