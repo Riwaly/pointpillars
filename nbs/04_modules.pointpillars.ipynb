{
 "cells": [
  {
   "cell_type": "code",
   "execution_count": 1,
   "metadata": {
    "collapsed": true,
    "jupyter": {
     "outputs_hidden": true
    }
   },
   "outputs": [],
   "source": [
    "#default_exp modules.pointpillars\n"
   ]
  },
  {
   "cell_type": "markdown",
   "metadata": {
    "pycharm": {
     "name": "#%% md\n"
    }
   },
   "source": [
    "# Pointpillars wrapper module\n",
    "> This is a wrapper for all of the separate pointpillar modules. This includes the featurenet, the backbone,\n",
    "> the detection head and also the box matching module."
   ]
  },
  {
   "cell_type": "code",
   "execution_count": 2,
   "metadata": {
    "collapsed": false,
    "jupyter": {
     "outputs_hidden": false
    },
    "pycharm": {
     "name": "#%%\n"
    }
   },
   "outputs": [],
   "source": [
    "import sys\n",
    "sys.path.append(\"/home/qhs67/git/bachelorthesis_sven_thaele/code/\")"
   ]
  },
  {
   "cell_type": "code",
   "execution_count": 3,
   "metadata": {
    "collapsed": false,
    "jupyter": {
     "outputs_hidden": false
    },
    "pycharm": {
     "name": "#%%\n"
    }
   },
   "outputs": [
    {
     "ename": "NameError",
     "evalue": "name 'nn' is not defined",
     "output_type": "error",
     "traceback": [
      "\u001B[0;31m---------------------------------------------------------------------------\u001B[0m",
      "\u001B[0;31mNameError\u001B[0m                                 Traceback (most recent call last)",
      "\u001B[0;32m<ipython-input-3-c583bcdc0d1f>\u001B[0m in \u001B[0;36m<module>\u001B[0;34m\u001B[0m\n\u001B[1;32m      6\u001B[0m \u001B[0;32mfrom\u001B[0m \u001B[0mpointpillars\u001B[0m\u001B[0;34m.\u001B[0m\u001B[0mmodules\u001B[0m\u001B[0;34m.\u001B[0m\u001B[0mbackbone\u001B[0m \u001B[0;32mimport\u001B[0m \u001B[0mBackbone\u001B[0m\u001B[0;34m\u001B[0m\u001B[0;34m\u001B[0m\u001B[0m\n\u001B[1;32m      7\u001B[0m \u001B[0;32mfrom\u001B[0m \u001B[0mpointpillars\u001B[0m\u001B[0;34m.\u001B[0m\u001B[0mmodules\u001B[0m\u001B[0;34m.\u001B[0m\u001B[0mhead\u001B[0m \u001B[0;32mimport\u001B[0m \u001B[0mHead\u001B[0m\u001B[0;34m\u001B[0m\u001B[0;34m\u001B[0m\u001B[0m\n\u001B[0;32m----> 8\u001B[0;31m \u001B[0;32mfrom\u001B[0m \u001B[0mpointpillars\u001B[0m\u001B[0;34m.\u001B[0m\u001B[0mmodules\u001B[0m\u001B[0;34m.\u001B[0m\u001B[0mboxmatch\u001B[0m \u001B[0;32mimport\u001B[0m \u001B[0mBoxMatch\u001B[0m\u001B[0;34m\u001B[0m\u001B[0;34m\u001B[0m\u001B[0m\n\u001B[0m\u001B[1;32m      9\u001B[0m \u001B[0;34m\u001B[0m\u001B[0m\n",
      "\u001B[0;32m~/git/bachelorthesis_sven_thaele/code/pointpillars/modules/boxmatch.py\u001B[0m in \u001B[0;36m<module>\u001B[0;34m\u001B[0m\n\u001B[1;32m      4\u001B[0m \u001B[0;34m\u001B[0m\u001B[0m\n\u001B[1;32m      5\u001B[0m \u001B[0;31m# Cell\u001B[0m\u001B[0;34m\u001B[0m\u001B[0;34m\u001B[0m\u001B[0;34m\u001B[0m\u001B[0m\n\u001B[0;32m----> 6\u001B[0;31m \u001B[0;32mclass\u001B[0m \u001B[0mBoxMatch\u001B[0m\u001B[0;34m(\u001B[0m\u001B[0mnn\u001B[0m\u001B[0;34m.\u001B[0m\u001B[0mModule\u001B[0m\u001B[0;34m)\u001B[0m\u001B[0;34m:\u001B[0m\u001B[0;34m\u001B[0m\u001B[0;34m\u001B[0m\u001B[0m\n\u001B[0m\u001B[1;32m      7\u001B[0m     \u001B[0;32mdef\u001B[0m \u001B[0m__init__\u001B[0m\u001B[0;34m(\u001B[0m\u001B[0mself\u001B[0m\u001B[0;34m,\u001B[0m \u001B[0mpillars_cfg\u001B[0m\u001B[0;34m,\u001B[0m \u001B[0mhead_cfg\u001B[0m\u001B[0;34m)\u001B[0m\u001B[0;34m:\u001B[0m\u001B[0;34m\u001B[0m\u001B[0;34m\u001B[0m\u001B[0m\n\u001B[1;32m      8\u001B[0m         \u001B[0msuper\u001B[0m\u001B[0;34m(\u001B[0m\u001B[0mBoxMatch\u001B[0m\u001B[0;34m,\u001B[0m \u001B[0mself\u001B[0m\u001B[0;34m)\u001B[0m\u001B[0;34m.\u001B[0m\u001B[0m__init__\u001B[0m\u001B[0;34m(\u001B[0m\u001B[0;34m)\u001B[0m\u001B[0;34m\u001B[0m\u001B[0;34m\u001B[0m\u001B[0m\n",
      "\u001B[0;31mNameError\u001B[0m: name 'nn' is not defined"
     ]
    }
   ],
   "source": [
    "#export\n",
    "import logging\n",
    "import torch\n",
    "import torch.nn as nn\n",
    "import torch.nn.functional as F\n",
    "\n",
    "from pointpillars.modules.featurenet import FeatureNet\n",
    "from pointpillars.modules.backbone import Backbone\n",
    "from pointpillars.modules.head import Head\n",
    "from pointpillars.modules.boxmatch import BoxMatch\n",
    "\n",
    "logger = logging.getLogger(__name__)"
   ]
  },
  {
   "cell_type": "code",
   "execution_count": null,
   "metadata": {
    "collapsed": false,
    "jupyter": {
     "outputs_hidden": false
    },
    "pycharm": {
     "name": "#%%\n"
    }
   },
   "outputs": [],
   "source": [
    "#export\n",
    "class PointPillars(nn.Module):\n",
    "\n",
    "    def __init__(self, conf, training: bool = True, use_boxmatch: bool = False):\n",
    "        \"\"\"A wrapper which combines all of the individual pointpillar modules.\n",
    "\n",
    "        :param conf:\n",
    "        :param training: If used in training or prediction mode.\n",
    "\n",
    "        :returns: Depending on training or prediction mode\n",
    "        \"\"\"\n",
    "        super(PointPillars, self).__init__()\n",
    "\n",
    "        self.conf = conf\n",
    "        self.training = training\n",
    "        self.use_boxmatch = use_boxmatch\n",
    "\n",
    "        self.featurenet = FeatureNet(conf['featurenet'], conf['pillars'])\n",
    "        self.backbone = Backbone(conf['featurenet'])\n",
    "        self.head = Head(conf['head'])\n",
    "        self.boxmatch = BoxMatch(conf['pillars'], conf['head'], training)\n",
    "\n",
    "    def __call__(self,\n",
    "                 batch: torch.Tensor,\n",
    "                 ind_batch: torch.Tensor,\n",
    "                 label_batch: torch.Tensor = None,\n",
    "                 label_mask: torch.Tensor = None):\n",
    "        \"\"\"\n",
    "        Passes the given parameters forward through the network. Can either be for training or at interference\n",
    "        time. The pil_batch contains the pillar points and the ind_batch contains the pillar values.\n",
    "        When in training mode, label_batch is expected containing the labels in a tensor form.\n",
    "\n",
    "        :param batch:     Tensor(nb_attributes, nbr_pillars w. zero_padding, nb_points_in_pillars)\n",
    "                          Tensor containing the points sorted into their corresponding pillar\n",
    "        :param ind_batch: Tensor(nb_pillars, 2)\n",
    "                          Tensor containing the unique index for each pillar to later identify the position\n",
    "        :param label_batch: Tensor(batch_size, nb_labels, label_attributes)\n",
    "                            Only required if in training mode.\n",
    "\n",
    "        :returns:\n",
    "        \"\"\"\n",
    "        batch = self.featurenet(batch, ind_batch)\n",
    "        batch = self.backbone(batch)\n",
    "        batch = self.head(batch)\n",
    "        batch = self.boxmatch(batch, label_batch, label_mask)\n",
    "\n",
    "        if not self.training:\n",
    "            occ_threshold = 0.9995\n",
    "            pred_occ, pred_cls, pred_head, pred_box = batch\n",
    "\n",
    "            pred_occ = torch.sigmoid(pred_occ)\n",
    "            pred_cls = torch.sigmoid(pred_cls)\n",
    "            pred_head = torch.sigmoid(pred_cls)\n",
    "\n",
    "            if self.use_boxmatch:\n",
    "                raise NotImplementedError(\"Option using Boxmatch not yet implemented.\")\n",
    "\n",
    "            # apply threshold for matching\n",
    "            else:\n",
    "                # find occ values greater than threshold\n",
    "                # pred_occ (bs_size, nb_boxes)\n",
    "                cond = pred_occ[0] >= occ_threshold\n",
    "                indices = torch.nonzero(cond, as_tuple=False).squeeze(1)\n",
    "\n",
    "                pred_anchors = torch.index_select(pred_box[0], 0, indices)\n",
    "\n",
    "                return pred_anchors, label_mask\n",
    "\n",
    "\n",
    "\n",
    "        return batch\n",
    "\n"
   ]
  },
  {
   "cell_type": "code",
   "execution_count": null,
   "metadata": {
    "collapsed": false,
    "jupyter": {
     "outputs_hidden": false
    },
    "pycharm": {
     "name": "#%%\n"
    }
   },
   "outputs": [],
   "source": [
    "#export\n",
    "def init_weights(m):\n",
    "    torch.nn.init.uniform(m.weight)"
   ]
  }
 ],
 "metadata": {
  "kernelspec": {
   "display_name": "ba",
   "language": "python",
   "name": "ba"
  },
  "language_info": {
   "codemirror_mode": {
    "name": "ipython",
    "version": 3
   },
   "file_extension": ".py",
   "mimetype": "text/x-python",
   "name": "python",
   "nbconvert_exporter": "python",
   "pygments_lexer": "ipython3",
   "version": "3.8.5"
  }
 },
 "nbformat": 4,
 "nbformat_minor": 4
}