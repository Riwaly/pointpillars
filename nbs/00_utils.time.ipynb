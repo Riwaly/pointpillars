{
 "cells": [
  {
   "cell_type": "code",
   "execution_count": null,
   "outputs": [],
   "source": [
    "#default_exp utils.time"
   ],
   "metadata": {
    "collapsed": false,
    "pycharm": {
     "name": "#%%\n"
    }
   }
  },
  {
   "cell_type": "markdown",
   "source": [
    "# Utility for timing\n",
    "> Here we define a method for timing our methods. The result is given in milli seconds."
   ],
   "metadata": {
    "collapsed": false,
    "pycharm": {
     "name": "#%% md\n"
    }
   }
  },
  {
   "cell_type": "code",
   "execution_count": null,
   "outputs": [],
   "source": [
    "#export\n",
    "import torch"
   ],
   "metadata": {
    "collapsed": false,
    "pycharm": {
     "name": "#%%\n"
    }
   }
  },
  {
   "cell_type": "code",
   "execution_count": null,
   "outputs": [],
   "source": [
    "#export\n",
    "def time_method(method: object, runs: int = 1, kwargs: dict = None):\n",
    "    \"\"\"\n",
    "        Method to time other methods. A number of runs can be defined, which results in giving the mean.\n",
    "\n",
    "        param object: method name (without brackets)\n",
    "        param runs: number of runs do\n",
    "        param kwargs: method args in form of a dict, e.g. kwargs={\"pcloud\": pc}\n",
    "        returns: mean time of the method runs in milli seconds\n",
    "    \"\"\"\n",
    "    times = torch.empty(runs, dtype=torch.float)\n",
    "    for i in range(runs):\n",
    "        start = torch.cuda.Event(enable_timing=True)\n",
    "        end = torch.cuda.Event(enable_timing=True)\n",
    "        start.record()\n",
    "\n",
    "        if kwargs:\n",
    "            method(**kwargs)\n",
    "        else:\n",
    "            method()\n",
    "\n",
    "        end.record()\n",
    "        torch.cuda.synchronize()\n",
    "        times[i] = start.elapsed_time(end)\n",
    "\n",
    "    return times.mean()"
   ],
   "metadata": {
    "collapsed": false,
    "pycharm": {
     "name": "#%%\n"
    }
   }
  }
 ],
 "metadata": {
  "kernelspec": {
   "display_name": "Python 3",
   "language": "python",
   "name": "python3"
  },
  "language_info": {
   "codemirror_mode": {
    "name": "ipython",
    "version": 2
   },
   "file_extension": ".py",
   "mimetype": "text/x-python",
   "name": "python",
   "nbconvert_exporter": "python",
   "pygments_lexer": "ipython2",
   "version": "2.7.6"
  }
 },
 "nbformat": 4,
 "nbformat_minor": 0
}