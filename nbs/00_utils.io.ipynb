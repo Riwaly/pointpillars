{
 "cells": [
  {
   "cell_type": "code",
   "execution_count": null,
   "metadata": {},
   "outputs": [],
   "source": [
    "#default_exp utils.io"
   ]
  },
  {
   "cell_type": "code",
   "execution_count": null,
   "metadata": {},
   "outputs": [],
   "source": [
    "#export\n",
    "import os\n",
    "import torch\n",
    "import numpy as np\n",
    "from pathlib import Path\n",
    "from configparser import SafeConfigParser"
   ]
  },
  {
   "cell_type": "code",
   "execution_count": null,
   "metadata": {},
   "outputs": [],
   "source": [
    "#export\n",
    "def read_config(section=None, option=None):\n",
    "    \"\"\"Reads the config from a hard coded directory\"\"\"\n",
    "    config_location = Path(\"/home/qhs67/git/bachelorthesis_sven_thaele/code/pointpillars/config.ini\")\n",
    "    config = SafeConfigParser()\n",
    "    config.read(config_location)\n",
    "    return config"
   ]
  },
  {
   "cell_type": "code",
   "execution_count": null,
   "metadata": {
    "collapsed": false,
    "jupyter": {
     "outputs_hidden": false
    },
    "pycharm": {
     "name": "#%%\n"
    }
   },
   "outputs": [],
   "source": [
    "#export\n",
    "def save_network_checkpoint(network: torch.nn.Module,\n",
    "                            optimizer: torch.nn.Module,\n",
    "                            scheduler: torch.nn.Module,\n",
    "                            loss: torch.nn.Module,\n",
    "                            ident_time: str,\n",
    "                            epoch: int):\n",
    "\n",
    "    checkpoint_folder = \"/home/qhs67/git/bachelorthesis_sven_thaele/code/checkpoints/\"\n",
    "\n",
    "    torch.save({\n",
    "            'epoch': epoch,\n",
    "            'model_state_dict': network.state_dict(),\n",
    "            'optimizer_state_dict': optimizer.state_dict(),\n",
    "            'scheduler_state_dict': scheduler.state_dict(),\n",
    "            'loss': loss,\n",
    "        }, checkpoint_folder + \"checkpoint_{}_e{}\".format(ident_time, epoch))"
   ]
  },
  {
   "cell_type": "code",
   "execution_count": null,
   "metadata": {
    "collapsed": false,
    "jupyter": {
     "outputs_hidden": false
    },
    "pycharm": {
     "name": "#%%\n"
    }
   },
   "outputs": [],
   "source": [
    "#export\n",
    "def save_network(network: torch.nn.Module, ident_time: str, n_epochs: int):\n",
    "    checkpoint_folder = \"/home/qhs67/git/bachelorthesis_sven_thaele/code/checkpoints/\"\n",
    "    torch.save(network.state_dict(), checkpoint_folder + \"trained_{}_e{}\".format(ident_time, n_epochs))\n"
   ]
  },
  {
   "cell_type": "code",
   "execution_count": null,
   "outputs": [],
   "source": [
    "#export\n",
    "def load_network_save(save_name: str):\n",
    "    checkpoint_folder = \"/home/qhs67/git/bachelorthesis_sven_thaele/code/checkpoints/\"\n",
    "    return torch.load(checkpoint_folder + save_name)\n",
    "\n",
    "\n",
    "def load_single_pcd(pcd_nbr: str):\n",
    "    img_loc = \"/home/qhs67/git/bachelorthesis_sven_thaele/code/data/kitti/training/velodyne/training/\" + pcd_nbr + \".bin\"\n",
    "    pcloud = np.fromfile(img_loc, dtype=np.float32, count=-1)\n",
    "    pcloud = torch.as_tensor(pcloud, device=\"cuda:0\")\n",
    "    pcloud = pcloud.reshape([-1,4])\n",
    "\n",
    "    return pcloud"
   ],
   "metadata": {
    "collapsed": false,
    "pycharm": {
     "name": "#%%\n"
    }
   }
  },
  {
   "cell_type": "code",
   "execution_count": null,
   "metadata": {},
   "outputs": [
    {
     "name": "stdout",
     "output_type": "stream",
     "text": [
      "Converted 00.utils.convertion.ipynb.\n",
      "Converted 00.utils.io.ipynb.\n",
      "Converted 01.compute_pillars.ipynb.\n",
      "Converted 02.network.ipynb.\n",
      "Converted 03.core.ipynb.\n",
      "Converted index.ipynb.\n"
     ]
    }
   ],
   "source": [
    "#hide\n",
    "#from nbdev.export import notebook2script\n",
    "#notebook2script()"
   ]
  }
 ],
 "metadata": {
  "kernelspec": {
   "display_name": "ba",
   "language": "python",
   "name": "ba"
  },
  "language_info": {
   "codemirror_mode": {
    "name": "ipython",
    "version": 3
   },
   "file_extension": ".py",
   "mimetype": "text/x-python",
   "name": "python",
   "nbconvert_exporter": "python",
   "pygments_lexer": "ipython3",
   "version": "3.8.10"
  }
 },
 "nbformat": 4,
 "nbformat_minor": 4
}