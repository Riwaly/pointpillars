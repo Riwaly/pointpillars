{
 "cells": [
  {
   "cell_type": "code",
   "execution_count": 1,
   "metadata": {
    "collapsed": true,
    "jupyter": {
     "outputs_hidden": true
    },
    "pycharm": {
     "name": "#%%\n"
    }
   },
   "outputs": [],
   "source": [
    "#default_exp modules.featurenet"
   ]
  },
  {
   "cell_type": "markdown",
   "metadata": {
    "pycharm": {
     "name": "#%% md\n"
    }
   },
   "source": [
    "# Feature net\n",
    "> As second step we implement the feature net. This will generate a pseudo-lidar image that can be fed into the\n",
    "> backbone and thereafter into the detection head.\n"
   ]
  },
  {
   "cell_type": "markdown",
   "metadata": {
    "pycharm": {
     "name": "#%% md\n"
    }
   },
   "source": [
    "## 00 - Prerequesits"
   ]
  },
  {
   "cell_type": "markdown",
   "metadata": {
    "pycharm": {
     "name": "#%% md\n"
    }
   },
   "source": [
    "### 00.1 - Notebook imports"
   ]
  },
  {
   "cell_type": "code",
   "execution_count": 2,
   "metadata": {
    "collapsed": false,
    "jupyter": {
     "outputs_hidden": false
    },
    "pycharm": {
     "name": "#%%\n"
    }
   },
   "outputs": [],
   "source": [
    "import sys\n",
    "sys.path.append(\"/home/qhs67/git/bachelorthesis_sven_thaele/code/\")\n",
    "from pointpillars.utils.io import read_config\n",
    "from pointpillars.data.dataset import VelDataset\n",
    "from pointpillars.utils.time import time_method"
   ]
  },
  {
   "cell_type": "markdown",
   "metadata": {
    "pycharm": {
     "name": "#%% md\n"
    }
   },
   "source": [
    "### 00.2 - Imports"
   ]
  },
  {
   "cell_type": "code",
   "execution_count": 3,
   "metadata": {
    "collapsed": false,
    "jupyter": {
     "outputs_hidden": false
    },
    "pycharm": {
     "name": "#%%\n"
    }
   },
   "outputs": [],
   "source": [
    "#export\n",
    "import logging\n",
    "import torch\n",
    "import torch.nn as nn\n",
    "import torch.nn.functional as F\n",
    "\n",
    "logger = logging.getLogger(__name__)"
   ]
  },
  {
   "cell_type": "markdown",
   "metadata": {
    "pycharm": {
     "name": "#%% md\n"
    }
   },
   "source": [
    "## 01 - FeatureNet module\n",
    "The actual module. As already said, the tensors from the pillar computation now will be converted into a pseudo image\n",
    "of height H and width W."
   ]
  },
  {
   "cell_type": "code",
   "execution_count": 4,
   "metadata": {
    "collapsed": false,
    "jupyter": {
     "outputs_hidden": false
    },
    "pycharm": {
     "name": "#%%\n"
    }
   },
   "outputs": [],
   "source": [
    "#export\n",
    "class FeatureNet(nn.Module):\n",
    "    def __init__(self, fnet_cfg, pil_cfg):\n",
    "        super(FeatureNet, self).__init__()\n",
    "\n",
    "        # config data\n",
    "        self.in_chan = fnet_cfg.getint(\"nb_features\")\n",
    "        self.out_chan = fnet_cfg.getint(\"nb_channels\")\n",
    "        self.max_ppp = pil_cfg.getint(\"max_points_per_pillar\")\n",
    "        self.fnet_cfg = fnet_cfg\n",
    "        self.pil_cfg = pil_cfg\n",
    "\n",
    "        # xy dimensions for pseudo image\n",
    "        x_min = self.pil_cfg.getfloat(\"x_min\")\n",
    "        x_max = self.pil_cfg.getfloat(\"x_max\")\n",
    "        x_step = self.pil_cfg.getfloat(\"x_step\")\n",
    "        y_min = self.pil_cfg.getfloat(\"y_min\")\n",
    "        y_max = self.pil_cfg.getfloat(\"y_max\")\n",
    "        y_step = self.pil_cfg.getfloat(\"y_step\")\n",
    "\n",
    "        self.n_x = int((x_max - x_min) / x_step)\n",
    "        self.n_y = int((y_max - y_min) / y_step)\n",
    "\n",
    "        self.conv1 = nn.Conv2d(self.in_chan, self.out_chan, 1)\n",
    "        self.batchn = nn.BatchNorm2d(self.out_chan)\n",
    "        self.relu = nn.ReLU()\n",
    "        self.maxpool = nn.MaxPool2d([1, self.max_ppp])\n",
    "\n",
    "    def forward(self, pil_batch: torch.tensor, ind_batch: torch.tensor):\n",
    "        \"\"\"Simplified point net to create a pseudo image from the point cloud.\"\"\"\n",
    "        if pil_batch.shape[0] != ind_batch.shape[0]:\n",
    "            raise ValueError(\"The dimensions of the pillar batch and indices batch do not match.\")\n",
    "\n",
    "        # simplified PointNet\n",
    "        # in: (N_b, D=9, N, P), out: (N_b, C_out, N, P)\n",
    "        pil_batch = self.conv1(pil_batch)\n",
    "        pil_batch = self.batchn(pil_batch)\n",
    "        pil_batch = self.relu(pil_batch)\n",
    "        # in: (N_b, C_out, N, P), out: (N_b, C_out, N)\n",
    "        pil_batch = self.maxpool(pil_batch)\n",
    "\n",
    "        n_b, n_c, n_x, n_y = pil_batch.shape\n",
    "\n",
    "        # scatter points back to pillar position\n",
    "        pse_img = torch.zeros([pil_batch.shape[0],\n",
    "                               pil_batch.shape[1],\n",
    "                               self.n_x,\n",
    "                               self.n_y],\n",
    "                               dtype=torch.float,\n",
    "                               device=\"cuda:0\")\n",
    "\n",
    "        # flatten indices and pil_batch,\n",
    "        # and also get the corresponding flat indices so torch.put() can be used\n",
    "        batch_ind = torch.cuda.FloatTensor(range(n_b))\n",
    "        batch_ind = batch_ind.unsqueeze(1).expand(-1, n_c)\n",
    "        batch_ind = batch_ind.unsqueeze(2).expand(-1, -1, n_x).cuda()\n",
    "\n",
    "        feat_ind = torch.cuda.FloatTensor(range(n_c))\n",
    "        feat_ind = feat_ind.unsqueeze(0).expand(n_b, -1)\n",
    "        feat_ind = feat_ind.unsqueeze(2).expand(-1, -1, n_x).cuda()\n",
    "\n",
    "        ind_batch = ind_batch.unsqueeze(1).expand(-1, n_c, -1, -1)\n",
    "        x_ind = ind_batch[:,:,:,0].cuda()\n",
    "        y_ind = ind_batch[:,:,:,1].cuda()\n",
    "\n",
    "        # calculate flat indices with batch, feature, x and y indices\n",
    "        index = batch_ind * n_b + feat_ind * n_c + x_ind * n_x + y_ind\n",
    "        index = index.type(torch.LongTensor)\n",
    "        del batch_ind, feat_ind, x_ind, y_ind\n",
    "\n",
    "        index = torch.flatten(index)\n",
    "        pil_batch = torch.flatten(pil_batch)\n",
    "\n",
    "        return pse_img.put_(index.cuda(), pil_batch)\n",
    "\n",
    "        # old version\n",
    "        #ind_x_batch = ind_batch.unsqueeze(1).expand(-1, pil_batch.shape[1], -1, -1)[:,:,:,0].unsqueeze(3).cuda()\n",
    "        #ind_y_batch = ind_batch.unsqueeze(1).expand(-1, pil_batch.shape[1], -1, -1)[:,:,:,1].unsqueeze(3).cuda()\n",
    "        #pse_img.scatter_(3, ind_x_batch, pil_batch)\n",
    "        #pse_img.scatter_(2, ind_y_batch, pil_batch)\n",
    "        #return pse_img[:,:,:self.n_x]\n"
   ]
  },
  {
   "cell_type": "code",
   "execution_count": 5,
   "metadata": {
    "collapsed": false,
    "jupyter": {
     "outputs_hidden": false
    },
    "pycharm": {
     "name": "#%%\n"
    }
   },
   "outputs": [
    {
     "name": "stdout",
     "output_type": "stream",
     "text": [
      "torch.Size([2, 64, 12000, 1])\n",
      "torch.Size([2, 12000, 2])\n",
      "tensor([[[0., 0., 0.,  ..., 0., 0., 0.],\n",
      "         [0., 0., 0.,  ..., 0., 0., 0.],\n",
      "         [0., 0., 0.,  ..., 0., 0., 0.],\n",
      "         ...,\n",
      "         [0., 0., 0.,  ..., 0., 0., 0.],\n",
      "         [0., 0., 0.,  ..., 0., 0., 0.],\n",
      "         [0., 0., 0.,  ..., 0., 0., 0.]],\n",
      "\n",
      "        [[1., 1., 1.,  ..., 1., 1., 1.],\n",
      "         [1., 1., 1.,  ..., 1., 1., 1.],\n",
      "         [1., 1., 1.,  ..., 1., 1., 1.],\n",
      "         ...,\n",
      "         [1., 1., 1.,  ..., 1., 1., 1.],\n",
      "         [1., 1., 1.,  ..., 1., 1., 1.],\n",
      "         [1., 1., 1.,  ..., 1., 1., 1.]]], device='cuda:0') torch.Size([2, 64, 12000])\n",
      "tensor([[[ 0.,  0.,  0.,  ...,  0.,  0.,  0.],\n",
      "         [ 1.,  1.,  1.,  ...,  1.,  1.,  1.],\n",
      "         [ 2.,  2.,  2.,  ...,  2.,  2.,  2.],\n",
      "         ...,\n",
      "         [61., 61., 61.,  ..., 61., 61., 61.],\n",
      "         [62., 62., 62.,  ..., 62., 62., 62.],\n",
      "         [63., 63., 63.,  ..., 63., 63., 63.]],\n",
      "\n",
      "        [[ 0.,  0.,  0.,  ...,  0.,  0.,  0.],\n",
      "         [ 1.,  1.,  1.,  ...,  1.,  1.,  1.],\n",
      "         [ 2.,  2.,  2.,  ...,  2.,  2.,  2.],\n",
      "         ...,\n",
      "         [61., 61., 61.,  ..., 61., 61., 61.],\n",
      "         [62., 62., 62.,  ..., 62., 62., 62.],\n",
      "         [63., 63., 63.,  ..., 63., 63., 63.]]], device='cuda:0') torch.Size([2, 64, 12000])\n",
      "tensor([[[[ 37, 230],\n",
      "          [ 28, 334],\n",
      "          [ 45,  86],\n",
      "          ...,\n",
      "          [  0,   0],\n",
      "          [  0,   0],\n",
      "          [  0,   0]],\n",
      "\n",
      "         [[ 37, 230],\n",
      "          [ 28, 334],\n",
      "          [ 45,  86],\n",
      "          ...,\n",
      "          [  0,   0],\n",
      "          [  0,   0],\n",
      "          [  0,   0]],\n",
      "\n",
      "         [[ 37, 230],\n",
      "          [ 28, 334],\n",
      "          [ 45,  86],\n",
      "          ...,\n",
      "          [  0,   0],\n",
      "          [  0,   0],\n",
      "          [  0,   0]],\n",
      "\n",
      "         ...,\n",
      "\n",
      "         [[ 37, 230],\n",
      "          [ 28, 334],\n",
      "          [ 45,  86],\n",
      "          ...,\n",
      "          [  0,   0],\n",
      "          [  0,   0],\n",
      "          [  0,   0]],\n",
      "\n",
      "         [[ 37, 230],\n",
      "          [ 28, 334],\n",
      "          [ 45,  86],\n",
      "          ...,\n",
      "          [  0,   0],\n",
      "          [  0,   0],\n",
      "          [  0,   0]],\n",
      "\n",
      "         [[ 37, 230],\n",
      "          [ 28, 334],\n",
      "          [ 45,  86],\n",
      "          ...,\n",
      "          [  0,   0],\n",
      "          [  0,   0],\n",
      "          [  0,   0]]],\n",
      "\n",
      "\n",
      "        [[[377, 129],\n",
      "          [ 52, 368],\n",
      "          [ 73, 370],\n",
      "          ...,\n",
      "          [  0,   0],\n",
      "          [  0,   0],\n",
      "          [  0,   0]],\n",
      "\n",
      "         [[377, 129],\n",
      "          [ 52, 368],\n",
      "          [ 73, 370],\n",
      "          ...,\n",
      "          [  0,   0],\n",
      "          [  0,   0],\n",
      "          [  0,   0]],\n",
      "\n",
      "         [[377, 129],\n",
      "          [ 52, 368],\n",
      "          [ 73, 370],\n",
      "          ...,\n",
      "          [  0,   0],\n",
      "          [  0,   0],\n",
      "          [  0,   0]],\n",
      "\n",
      "         ...,\n",
      "\n",
      "         [[377, 129],\n",
      "          [ 52, 368],\n",
      "          [ 73, 370],\n",
      "          ...,\n",
      "          [  0,   0],\n",
      "          [  0,   0],\n",
      "          [  0,   0]],\n",
      "\n",
      "         [[377, 129],\n",
      "          [ 52, 368],\n",
      "          [ 73, 370],\n",
      "          ...,\n",
      "          [  0,   0],\n",
      "          [  0,   0],\n",
      "          [  0,   0]],\n",
      "\n",
      "         [[377, 129],\n",
      "          [ 52, 368],\n",
      "          [ 73, 370],\n",
      "          ...,\n",
      "          [  0,   0],\n",
      "          [  0,   0],\n",
      "          [  0,   0]]]], device='cuda:0') torch.Size([2, 64, 12000, 2])\n",
      "tensor([[[ 37,  28,  45,  ...,   0,   0,   0],\n",
      "         [ 37,  28,  45,  ...,   0,   0,   0],\n",
      "         [ 37,  28,  45,  ...,   0,   0,   0],\n",
      "         ...,\n",
      "         [ 37,  28,  45,  ...,   0,   0,   0],\n",
      "         [ 37,  28,  45,  ...,   0,   0,   0],\n",
      "         [ 37,  28,  45,  ...,   0,   0,   0]],\n",
      "\n",
      "        [[377,  52,  73,  ...,   0,   0,   0],\n",
      "         [377,  52,  73,  ...,   0,   0,   0],\n",
      "         [377,  52,  73,  ...,   0,   0,   0],\n",
      "         ...,\n",
      "         [377,  52,  73,  ...,   0,   0,   0],\n",
      "         [377,  52,  73,  ...,   0,   0,   0],\n",
      "         [377,  52,  73,  ...,   0,   0,   0]]], device='cuda:0') torch.Size([2, 64, 12000])\n",
      "tensor([[[230, 334,  86,  ...,   0,   0,   0],\n",
      "         [230, 334,  86,  ...,   0,   0,   0],\n",
      "         [230, 334,  86,  ...,   0,   0,   0],\n",
      "         ...,\n",
      "         [230, 334,  86,  ...,   0,   0,   0],\n",
      "         [230, 334,  86,  ...,   0,   0,   0],\n",
      "         [230, 334,  86,  ...,   0,   0,   0]],\n",
      "\n",
      "        [[129, 368, 370,  ...,   0,   0,   0],\n",
      "         [129, 368, 370,  ...,   0,   0,   0],\n",
      "         [129, 368, 370,  ...,   0,   0,   0],\n",
      "         ...,\n",
      "         [129, 368, 370,  ...,   0,   0,   0],\n",
      "         [129, 368, 370,  ...,   0,   0,   0],\n",
      "         [129, 368, 370,  ...,   0,   0,   0]]], device='cuda:0') torch.Size([2, 64, 12000])\n",
      "tensor([[[ 444230,  336334,  540086,  ...,       0,       0,       0],\n",
      "         [ 444294,  336398,  540150,  ...,      64,      64,      64],\n",
      "         [ 444358,  336462,  540214,  ...,     128,     128,     128],\n",
      "         ...,\n",
      "         [ 448134,  340238,  543990,  ...,    3904,    3904,    3904],\n",
      "         [ 448198,  340302,  544054,  ...,    3968,    3968,    3968],\n",
      "         [ 448262,  340366,  544118,  ...,    4032,    4032,    4032]],\n",
      "\n",
      "        [[4524131,  624370,  876372,  ...,       2,       2,       2],\n",
      "         [4524195,  624434,  876436,  ...,      66,      66,      66],\n",
      "         [4524259,  624498,  876500,  ...,     130,     130,     130],\n",
      "         ...,\n",
      "         [4528035,  628274,  880276,  ...,    3906,    3906,    3906],\n",
      "         [4528099,  628338,  880340,  ...,    3970,    3970,    3970],\n",
      "         [4528163,  628402,  880404,  ...,    4034,    4034,    4034]]]) torch.Size([2, 64, 12000])\n",
      "tensor([0.0000, 7.1777, 0.0000,  ..., 0.0509, 0.0509, 0.0509], device='cuda:0',\n",
      "       grad_fn=<ViewBackward>) torch.Size([1536000])\n",
      "tensor([444230, 336334, 540086,  ...,   4034,   4034,   4034]) torch.Size([1536000])\n",
      "tensor([[[[ 0.0000,  0.0000,  0.0000,  ...,  0.0000,  0.0000,  0.0000],\n",
      "          [ 0.0000,  0.0000,  0.0000,  ...,  0.0000,  0.0000,  0.0000],\n",
      "          [ 0.0000,  3.5829,  3.5159,  ...,  0.0000,  0.0000,  0.0000],\n",
      "          ...,\n",
      "          [ 0.0000,  0.0000,  0.0000,  ...,  0.0000,  0.0000,  0.0000],\n",
      "          [ 0.0000,  0.0000,  4.3153,  ...,  0.0000,  8.5585,  8.4826],\n",
      "          [ 8.2155,  0.0000, 14.6550,  ...,  0.0000,  0.0000,  0.0000]],\n",
      "\n",
      "         [[ 0.0000,  0.0000,  0.0000,  ...,  0.0000,  0.0000,  0.0743],\n",
      "          [ 0.0743,  0.0000,  0.0000,  ...,  0.0000,  1.4682,  0.0000],\n",
      "          [13.3736,  0.0000, 13.2582,  ...,  0.0000,  0.0000,  0.0000],\n",
      "          ...,\n",
      "          [ 0.0000,  0.0000,  0.0000,  ...,  8.7575,  0.0000,  8.5686],\n",
      "          [ 0.0000,  0.0000,  8.3973,  ...,  0.0000,  0.0000,  0.0000],\n",
      "          [ 0.0000,  0.0000,  0.0000,  ..., 11.2757,  0.0284, 11.0725]],\n",
      "\n",
      "         [[11.2105, 11.1230, 11.0229,  ...,  0.0000,  0.0000,  0.0000],\n",
      "          [ 0.0000,  0.0000,  0.0000,  ...,  0.0000,  0.0000,  0.0000],\n",
      "          [ 0.0000,  0.0000,  0.0000,  ...,  0.0000,  0.0000,  0.0000],\n",
      "          ...,\n",
      "          [ 0.0000,  0.0000,  0.0000,  ...,  0.0000,  0.0000,  0.0000],\n",
      "          [ 0.0000,  0.0000,  0.0000,  ...,  0.0000,  0.0000,  0.0000],\n",
      "          [ 0.0000,  0.0000,  0.0000,  ...,  0.0000,  0.0000,  0.0000]],\n",
      "\n",
      "         ...,\n",
      "\n",
      "         [[ 0.0000,  0.0000,  0.0000,  ...,  0.0000,  0.0000,  0.0000],\n",
      "          [ 0.0000,  0.0000,  0.0000,  ...,  0.0000,  0.0000,  0.0000],\n",
      "          [ 0.0000,  0.0000,  0.0000,  ...,  0.0000,  0.0000,  0.0000],\n",
      "          ...,\n",
      "          [ 0.0000,  0.0000,  0.0000,  ...,  0.0000,  0.0000,  0.0000],\n",
      "          [ 0.0000,  0.0000,  0.0000,  ...,  0.0000,  0.0000,  0.0000],\n",
      "          [ 0.0000,  0.0000,  0.0000,  ...,  0.0000,  0.0000,  0.0000]],\n",
      "\n",
      "         [[ 0.0000,  0.0000,  0.0000,  ...,  0.0000,  0.0000,  0.0000],\n",
      "          [ 0.0000,  0.0000,  0.0000,  ...,  0.0000,  0.0000,  0.0000],\n",
      "          [ 0.0000,  0.0000,  0.0000,  ...,  0.0000,  0.0000,  0.0000],\n",
      "          ...,\n",
      "          [ 0.0000,  0.0000,  0.0000,  ...,  0.0000,  0.0000,  0.0000],\n",
      "          [ 0.0000,  0.0000,  0.0000,  ...,  0.0000,  0.0000,  0.0000],\n",
      "          [ 0.0000,  0.0000,  0.0000,  ...,  0.0000,  0.0000,  0.0000]],\n",
      "\n",
      "         [[ 0.0000,  0.0000,  0.0000,  ...,  0.0000,  0.0000,  0.0000],\n",
      "          [ 0.0000,  0.0000,  0.0000,  ...,  0.0000,  0.0000,  0.0000],\n",
      "          [ 0.0000,  0.0000,  0.0000,  ...,  0.0000,  0.0000,  0.0000],\n",
      "          ...,\n",
      "          [ 0.0000,  0.0000,  0.0000,  ...,  0.0000,  0.0000,  0.0000],\n",
      "          [ 0.0000,  0.0000,  0.0000,  ...,  0.0000,  0.0000,  0.0000],\n",
      "          [ 0.0000,  0.0000,  0.0000,  ...,  0.0000,  0.0000,  0.0000]]],\n",
      "\n",
      "\n",
      "        [[[ 0.0000,  0.0000,  0.0000,  ...,  0.0000,  0.0000,  0.0000],\n",
      "          [ 0.0000,  0.0000,  0.0000,  ...,  0.0000,  0.0000,  0.0000],\n",
      "          [ 0.0000,  0.0000,  0.0000,  ...,  0.0000,  0.0000,  0.0000],\n",
      "          ...,\n",
      "          [ 0.0000,  0.0000,  0.0000,  ...,  0.0000,  0.0000,  0.0000],\n",
      "          [ 0.0000,  0.0000,  0.0000,  ...,  0.0000,  0.0000,  0.0000],\n",
      "          [ 0.0000,  0.0000,  0.0000,  ...,  0.0000,  0.0000,  0.0000]],\n",
      "\n",
      "         [[ 0.0000,  0.0000,  0.0000,  ...,  0.0000,  0.0000,  0.0000],\n",
      "          [ 0.0000,  0.0000,  0.0000,  ...,  0.0000,  0.0000,  0.0000],\n",
      "          [ 0.0000,  0.0000,  0.0000,  ...,  0.0000,  0.0000,  0.0000],\n",
      "          ...,\n",
      "          [ 0.0000,  0.0000,  0.0000,  ...,  0.0000,  0.0000,  0.0000],\n",
      "          [ 0.0000,  0.0000,  0.0000,  ...,  0.0000,  0.0000,  0.0000],\n",
      "          [ 0.0000,  0.0000,  0.0000,  ...,  0.0000,  0.0000,  0.0000]],\n",
      "\n",
      "         [[ 0.0000,  0.0000,  0.0000,  ...,  0.0000,  0.0000,  0.0000],\n",
      "          [ 0.0000,  0.0000,  0.0000,  ...,  0.0000,  0.0000,  0.0000],\n",
      "          [ 0.0000,  0.0000,  0.0000,  ...,  0.0000,  0.0000,  0.0000],\n",
      "          ...,\n",
      "          [ 0.0000,  0.0000,  0.0000,  ...,  0.0000,  0.0000,  0.0000],\n",
      "          [ 0.0000,  0.0000,  0.0000,  ...,  0.0000,  0.0000,  0.0000],\n",
      "          [ 0.0000,  0.0000,  0.0000,  ...,  0.0000,  0.0000,  0.0000]],\n",
      "\n",
      "         ...,\n",
      "\n",
      "         [[ 0.0000,  0.0000,  0.0000,  ...,  0.0000,  0.0000,  0.0000],\n",
      "          [ 0.0000,  0.0000,  0.0000,  ...,  0.0000,  0.0000,  0.0000],\n",
      "          [ 0.0000,  0.0000,  0.0000,  ...,  0.0000,  0.0000,  0.0000],\n",
      "          ...,\n",
      "          [ 0.0000,  0.0000,  0.0000,  ...,  0.0000,  0.0000,  0.0000],\n",
      "          [ 0.0000,  0.0000,  0.0000,  ...,  0.0000,  0.0000,  0.0000],\n",
      "          [ 0.0000,  0.0000,  0.0000,  ...,  0.0000,  0.0000,  0.0000]],\n",
      "\n",
      "         [[ 0.0000,  0.0000,  0.0000,  ...,  0.0000,  0.0000,  0.0000],\n",
      "          [ 0.0000,  0.0000,  0.0000,  ...,  0.0000,  0.0000,  0.0000],\n",
      "          [ 0.0000,  0.0000,  0.0000,  ...,  0.0000,  0.0000,  0.0000],\n",
      "          ...,\n",
      "          [ 0.0000,  0.0000,  0.0000,  ...,  0.0000,  0.0000,  0.0000],\n",
      "          [ 0.0000,  0.0000,  0.0000,  ...,  0.0000,  0.0000,  0.0000],\n",
      "          [ 0.0000,  0.0000,  0.0000,  ...,  0.0000,  0.0000,  0.0000]],\n",
      "\n",
      "         [[ 0.0000,  0.0000,  0.0000,  ...,  0.0000,  0.0000,  0.0000],\n",
      "          [ 0.0000,  0.0000,  0.0000,  ...,  0.0000,  0.0000,  0.0000],\n",
      "          [ 0.0000,  0.0000,  0.0000,  ...,  0.0000,  0.0000,  0.0000],\n",
      "          ...,\n",
      "          [ 0.0000,  0.0000,  0.0000,  ...,  0.0000,  0.0000,  0.0000],\n",
      "          [ 0.0000,  0.0000,  0.0000,  ...,  0.0000,  0.0000,  0.0000],\n",
      "          [ 0.0000,  0.0000,  0.0000,  ...,  0.0000,  0.0000,  0.0000]]]],\n",
      "       device='cuda:0', grad_fn=<PutBackward>) torch.Size([2, 64, 504, 504])\n"
     ]
    },
    {
     "data": {
      "text/plain": [
       "tensor(933.6871)"
      ]
     },
     "execution_count": 5,
     "metadata": {},
     "output_type": "execute_result"
    }
   ],
   "source": [
    "torch.cuda.empty_cache()\n",
    "conf = read_config()\n",
    "ds = VelDataset(\"/home/qhs67/git/bachelorthesis_sven_thaele/code/data/kitti/training/velodyne\")\n",
    "dl = torch.utils.data.DataLoader(ds, batch_size=2, num_workers=0)\n",
    "\n",
    "def test():\n",
    "    item = None\n",
    "    for i, batch in enumerate(dl):\n",
    "        if i == 1:\n",
    "            break\n",
    "        item = batch\n",
    "\n",
    "    featurenet = FeatureNet(conf['featurenet'], conf['pillars'])\n",
    "    featurenet.cuda()\n",
    "    out = featurenet(item[0].cuda(), item[1].cuda())\n",
    "\n",
    "time_method(test, runs=1)\n",
    "#out, out.shape"
   ]
  }
 ],
 "metadata": {
  "kernelspec": {
   "display_name": "ba",
   "language": "python",
   "name": "ba"
  },
  "language_info": {
   "codemirror_mode": {
    "name": "ipython",
    "version": 3
   },
   "file_extension": ".py",
   "mimetype": "text/x-python",
   "name": "python",
   "nbconvert_exporter": "python",
   "pygments_lexer": "ipython3",
   "version": "3.8.5"
  }
 },
 "nbformat": 4,
 "nbformat_minor": 4
}