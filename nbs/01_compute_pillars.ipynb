{
 "cells": [
  {
   "cell_type": "code",
   "execution_count": 1,
   "outputs": [],
   "source": [
    "#default_exp compute_pillars"
   ],
   "metadata": {
    "collapsed": false,
    "pycharm": {
     "name": "#%%\n"
    }
   }
  },
  {
   "cell_type": "markdown",
   "source": [
    "#  Compute pillars"
   ],
   "metadata": {
    "collapsed": false
   }
  },
  {
   "cell_type": "markdown",
   "source": [
    "\n",
    "> First step is computing the all necessary information regarding the pillars on the given point cloud. As source we used the original implementation in second (https://github.com/traveller59/second.pytorch/tree/master/second) as well as another implementation in tensorflow (https://github.com/fferroni/PointPillars). The main idea is to devide the point cloud into descrete sections, namly pillars, and calculate different attributes for each point in regards to the pillar it is in. These attributes include the distance to the pillar mean location as well as the distance to the pillar center.\n"
   ],
   "metadata": {
    "collapsed": false
   }
  },
  {
   "cell_type": "markdown",
   "source": [
    "## 00 - Prerequesits"
   ],
   "metadata": {
    "collapsed": false,
    "pycharm": {
     "name": "#%% md\n"
    }
   }
  },
  {
   "cell_type": "code",
   "execution_count": 2,
   "outputs": [],
   "source": [
    "import sys\n",
    "sys.path.append(\"/home/qhs67/git/bachelorthesis_sven_thaele/code/\")\n",
    "from pointpillars.utils.time import time_method\n"
   ],
   "metadata": {
    "collapsed": false,
    "pycharm": {
     "name": "#%%\n"
    }
   }
  },
  {
   "cell_type": "markdown",
   "source": [
    "\n",
    "#### 00.1 - Imports\n"
   ],
   "metadata": {
    "collapsed": false
   }
  },
  {
   "cell_type": "code",
   "execution_count": 3,
   "outputs": [],
   "source": [
    "\n",
    "#export\n",
    "import logging\n",
    "import torch\n",
    "import numpy as np\n",
    "from numba import njit\n",
    "\n",
    "from pointpillars.utils.io import read_config\n",
    "\n",
    "logger = logging.getLogger(__name__)\n"
   ],
   "metadata": {
    "collapsed": false,
    "pycharm": {
     "name": "#%%\n"
    }
   }
  },
  {
   "cell_type": "markdown",
   "source": [
    "\n",
    "#### 00.2 - CUDA\n"
   ],
   "metadata": {
    "collapsed": false
   }
  },
  {
   "cell_type": "markdown",
   "source": [
    "\n",
    "Set the best cuda device to improve calculations\n"
   ],
   "metadata": {
    "collapsed": false
   }
  },
  {
   "cell_type": "code",
   "execution_count": 4,
   "outputs": [
    {
     "data": {
      "text/plain": "'cuda:0'"
     },
     "execution_count": 4,
     "metadata": {},
     "output_type": "execute_result"
    }
   ],
   "source": [
    "\n",
    "dt = torch.float32\n",
    "dev = \"cuda:0\" if torch.cuda.is_available() else \"cpu\"\n",
    "torch.cuda.set_device(dev)\n",
    "#dev = \"cpu\"\n",
    "\n",
    "dev"
   ],
   "metadata": {
    "collapsed": false,
    "pycharm": {
     "name": "#%%\n"
    }
   }
  },
  {
   "cell_type": "markdown",
   "source": [
    "\n",
    "## 01 - Data structure\n"
   ],
   "metadata": {
    "collapsed": false,
    "pycharm": {
     "name": "#%% md\n"
    }
   }
  },
  {
   "cell_type": "markdown",
   "source": [
    "\n",
    "> Firstly, we want to familiarize ourselves with the structure of the binary files we receive from the\n",
    "> pseudo-lidar convertion.\n"
   ],
   "metadata": {
    "collapsed": false
   }
  },
  {
   "cell_type": "code",
   "execution_count": 5,
   "outputs": [],
   "source": [
    "file_location_psl = \"/home/qhs67/git/bachelorthesis_sven_thaele/code/data/kitti/training/pseudo_lidar/002000.bin\"\n",
    "file_location_lid = \"/home/qhs67/git/bachelorthesis_sven_thaele/code/data/kitti/training/velodyne/training/000100.bin\""
   ],
   "metadata": {
    "collapsed": false,
    "pycharm": {
     "name": "#%%\n"
    }
   }
  },
  {
   "cell_type": "code",
   "execution_count": 6,
   "outputs": [
    {
     "data": {
      "text/plain": "(tensor([[43.8890,  0.0840,  1.6930,  0.0000],\n         [43.2010,  0.2180,  1.6700,  0.0000],\n         [42.3970,  0.3470,  1.6430,  0.0000],\n         ...,\n         [ 3.6960, -1.3980, -1.7260,  0.3100],\n         [ 3.7170, -1.3990, -1.7360,  0.3500],\n         [ 3.7240, -1.3890, -1.7370,  0.0000]], device='cuda:0'),\n torch.Size([123183, 4]))"
     },
     "execution_count": 6,
     "metadata": {},
     "output_type": "execute_result"
    }
   ],
   "source": [
    "pc_vel = np.fromfile(file_location_lid, dtype=np.float32, count=-1)\n",
    "pc_vel = pc_vel.reshape([-1,4])\n",
    "pc_vel = torch.as_tensor(pc_vel, device=dev)\n",
    "pc_vel, pc_vel.shape"
   ],
   "metadata": {
    "collapsed": false,
    "pycharm": {
     "name": "#%%\n"
    }
   }
  },
  {
   "cell_type": "code",
   "execution_count": 7,
   "outputs": [
    {
     "data": {
      "text/plain": "(tensor([[ 4.9012, -0.1392,  0.9999,  1.0000],\n         [ 4.9036, -0.2038,  0.9997,  1.0000],\n         [ 4.8751, -0.2087,  0.9929,  1.0000],\n         ...,\n         [ 5.4258, -4.4040, -1.5072,  1.0000],\n         [ 5.4245, -4.4102, -1.5069,  1.0000],\n         [ 5.4078, -4.4028, -1.5023,  1.0000]], device='cuda:0'),\n torch.Size([279454, 4]))"
     },
     "execution_count": 7,
     "metadata": {},
     "output_type": "execute_result"
    }
   ],
   "source": [
    "pc_np = np.fromfile(file_location_psl, dtype=np.float32, count=-1)\n",
    "pc = torch.as_tensor(pc_np, device=dev)\n",
    "pc = pc.reshape([-1,4])\n",
    "pc, pc.shape"
   ],
   "metadata": {
    "collapsed": false,
    "pycharm": {
     "name": "#%%\n"
    }
   }
  },
  {
   "cell_type": "code",
   "execution_count": 8,
   "outputs": [
    {
     "data": {
      "text/plain": "(tensor([4.9012, 4.9036, 4.8751,  ..., 5.4258, 5.4245, 5.4078], device='cuda:0'),\n tensor([-0.1392, -0.2038, -0.2087,  ..., -4.4040, -4.4102, -4.4028],\n        device='cuda:0'),\n tensor([ 0.9999,  0.9997,  0.9929,  ..., -1.5072, -1.5069, -1.5023],\n        device='cuda:0'),\n tensor([1., 1., 1.,  ..., 1., 1., 1.], device='cuda:0'))"
     },
     "execution_count": 8,
     "metadata": {},
     "output_type": "execute_result"
    }
   ],
   "source": [
    "x = pc[:,0]\n",
    "y = pc[:,1]\n",
    "z = pc[:,2]\n",
    "r = pc[:,3]\n",
    "x, y, z, r"
   ],
   "metadata": {
    "collapsed": false,
    "pycharm": {
     "name": "#%%\n"
    }
   }
  },
  {
   "cell_type": "markdown",
   "source": [
    "## 02 - Methods"
   ],
   "metadata": {
    "collapsed": false,
    "pycharm": {
     "name": "#%% md\n"
    }
   }
  },
  {
   "cell_type": "code",
   "execution_count": 9,
   "outputs": [],
   "source": [
    "#export\n",
    "def remove_invalid_points(pcloud: torch.tensor,\n",
    "                          pillars_cfg: dict,\n",
    "                          dt=torch.float32,\n",
    "                          dev: str = \"cuda:0\"):\n",
    "    \"\"\"Removes invalid points exceeding the calculation bounds from the point clouds\n",
    "\n",
    "    :param pcloud: Tensor containing the points from the point cloud\n",
    "    :param pillars_cfg:\n",
    "\n",
    "    :returns: pcloud without the points exceeding the calculation bounds\n",
    "    \"\"\"\n",
    "    logger.info(\"Removing invalid points from point cloud...\")\n",
    "\n",
    "    min = torch.cuda.FloatTensor([pillars_cfg.getfloat(\"x_min\"), pillars_cfg.getfloat(\"y_min\"), pillars_cfg.getfloat(\"z_min\")])\n",
    "    max = torch.cuda.FloatTensor([pillars_cfg.getfloat(\"x_max\"), pillars_cfg.getfloat(\"y_max\"), pillars_cfg.getfloat(\"z_max\")])\n",
    "\n",
    "    xyz_points = pcloud[:,:3]\n",
    "    mask = torch.logical_and(torch.le(min, xyz_points), torch.le(xyz_points, max))\n",
    "    mask = torch.all(mask, dim=1)\n",
    "\n",
    "    logger.debug(f\"Removing complete.\\n\"\n",
    "                 f\"pcloud: {pcloud}{pcloud.shape}\")\n",
    "    return pcloud[mask]"
   ],
   "metadata": {
    "collapsed": false,
    "pycharm": {
     "name": "#%%\n"
    }
   }
  },
  {
   "cell_type": "code",
   "execution_count": 10,
   "outputs": [
    {
     "data": {
      "text/plain": "(tensor([[ 25.3190, -34.4627,   1.7883,  20.6380],\n         [ 64.3730, -18.5386,  -0.7764,  93.3091],\n         [ 20.4534, -36.8629,  -0.2945,  78.7316],\n         ...,\n         [ 27.9592, -39.8829,   1.4494,  36.2360],\n         [  2.9664,   0.9887,  -0.1117, -68.9511],\n         [ 68.0807, -29.9628,   1.0935,  20.1869]], device='cuda:0'),\n torch.Size([663, 4]))"
     },
     "execution_count": 10,
     "metadata": {},
     "output_type": "execute_result"
    }
   ],
   "source": [
    "arr = torch.rand([210000, 4], dtype=dt, device=dev, requires_grad=False) * 200 - 100\n",
    "pillars_cfg = read_config()['pillars']\n",
    "\n",
    "out = remove_invalid_points(arr, pillars_cfg)\n",
    "\n",
    "out, out.shape"
   ],
   "metadata": {
    "collapsed": false,
    "pycharm": {
     "name": "#%%\n"
    }
   }
  },
  {
   "cell_type": "code",
   "execution_count": 11,
   "outputs": [
    {
     "data": {
      "text/plain": "tensor(1.1098)"
     },
     "execution_count": 11,
     "metadata": {},
     "output_type": "execute_result"
    }
   ],
   "source": [
    "arr = torch.rand([210000, 4], dtype=dt, device=dev) * 200 - 100\n",
    "#pillars_cfg = read_config()['pillars']\n",
    "time_method(remove_invalid_points, runs=1000, kwargs={\"pcloud\": arr, \"pillars_cfg\": pillars_cfg})"
   ],
   "metadata": {
    "collapsed": false,
    "pycharm": {
     "name": "#%%\n"
    }
   }
  },
  {
   "cell_type": "markdown",
   "source": [
    "#### 02.1 - Get points in pillars method\n",
    "\n",
    "> The methods to group the point cloud into pillars. It returns the points sorted into their specific pillar as well as\n",
    "> setting the correct tensor dimensions via zero padding and random sampling, depending on the number of points per pillar.\n",
    "> The configuration can be set in the config.ini file."
   ],
   "metadata": {
    "collapsed": false,
    "pycharm": {
     "name": "#%% md\n"
    }
   }
  },
  {
   "cell_type": "markdown",
   "source": [
    "The method goes through the point cloud and assigns each point to its pillar. To improve performance for real time\n",
    "application, we use numba. It translates the python code into c code just in time."
   ],
   "metadata": {
    "collapsed": false,
    "pycharm": {
     "name": "#%% md\n"
    }
   }
  },
  {
   "cell_type": "code",
   "execution_count": 12,
   "outputs": [],
   "source": [
    "#export\n",
    "@njit(parallel=False)\n",
    "def _get_points_in_pillars(pcloud: np.ndarray,\n",
    "                           pillars : np.ndarray,\n",
    "                           pill_ind: np.ndarray,\n",
    "                           pill_point_nbr: np.ndarray,\n",
    "                           coor_to_pillar_id: np.ndarray,\n",
    "                           min: np.ndarray,\n",
    "                           step: np.ndarray,\n",
    "                           max_ppp: int):\n",
    "    \"\"\"\n",
    "        pcloud[nbpoints, 4]: array with points from point cloud (should be shuffled)\n",
    "        pillars[nbpillars, 50, 4]: array with the final pcloud points per pillar (init as zero)\n",
    "        pill_ind[nbpillars, 2]: x,y index for each pillar (init as zero)\n",
    "        pill_point_nbr[nbpillars]: non zero points currently in the pillar\n",
    "        coor_to_pillar_id[x_nbr, y_nbr,1]: with the xy bounds from the pillar get the pillar id (init with -1)\n",
    "\n",
    "        returns: number of non zero pillars\n",
    "\n",
    "    \"\"\"\n",
    "    N = pcloud.shape[0]\n",
    "    pill_num = 0\n",
    "    for i in range(N):\n",
    "        point = pcloud[i]\n",
    "        pil_coor = ((point[:2] - min) / step).astype(np.int32)\n",
    "        pillar_id = coor_to_pillar_id[pil_coor[0], pil_coor[1]]\n",
    "        # the pillar is not used yet\n",
    "        if pillar_id == -1:\n",
    "            pillar_id = pill_num\n",
    "            coor_to_pillar_id[pil_coor[0], pil_coor[1]] = pillar_id\n",
    "            pill_num += 1\n",
    "            # set the correct bound so they can be transformed\n",
    "            pill_ind[pillar_id] = pil_coor\n",
    "\n",
    "        # non zero points in current pillar\n",
    "        p_nbr = pill_point_nbr[pillar_id]\n",
    "        if p_nbr < max_ppp:\n",
    "            pillars[pillar_id, p_nbr] = point\n",
    "            pill_point_nbr[pillar_id] += 1\n",
    "\n",
    "    return pill_num"
   ],
   "metadata": {
    "collapsed": false,
    "pycharm": {
     "name": "#%%\n"
    }
   }
  },
  {
   "cell_type": "markdown",
   "source": [
    "This method sets up all the necessary tensors and arrays for the numba method. This improves performance, since\n",
    "setting up large tensors can be very time consuming in numba."
   ],
   "metadata": {
    "collapsed": false,
    "pycharm": {
     "name": "#%% md\n"
    }
   }
  },
  {
   "cell_type": "code",
   "execution_count": 13,
   "outputs": [],
   "source": [
    "#export\n",
    "def get_points_in_pillars(pcloud: torch.Tensor,\n",
    "                          pillars_cfg: dict,\n",
    "                          shuffle: bool = True,\n",
    "                          dev: str = \"cuda:0\"):\n",
    "    \"\"\"\n",
    "        not shuffling saves about 7ms\n",
    "    \"\"\"\n",
    "    logger.info(\"Selecting points in pillar...\")\n",
    "    logger.debug(f\"pcloud: {pcloud}{pcloud.shape}\")\n",
    "\n",
    "    if shuffle:\n",
    "        pcloud = pcloud[torch.randperm(pcloud.shape[0])]\n",
    "\n",
    "    min = np.array((float(pillars_cfg[\"x_min\"]), float(pillars_cfg[\"y_min\"])), dtype=np.float32)\n",
    "    max = np.array((float(pillars_cfg[\"x_max\"]), float(pillars_cfg[\"y_max\"])), dtype=np.float32)\n",
    "    step = np.array((float(pillars_cfg[\"x_step\"]), float(pillars_cfg[\"y_step\"])), dtype=np.float32)\n",
    "    max_ppp = pillars_cfg.getfloat(\"max_points_per_pillar\")\n",
    "    max_pil = pillars_cfg.getint(\"max_pillars\")\n",
    "    n_pil = ((max - min) / step).astype(np.int32)\n",
    "    n_pil_all = n_pil[0] * n_pil[1]\n",
    "\n",
    "    pillars = np.zeros([n_pil_all, int(max_ppp), 4], dtype=np.float32)\n",
    "    pill_ind = np.zeros([n_pil_all, 2], dtype=np.float32)\n",
    "    pill_point_nbr = np.zeros([n_pil_all], dtype=np.int32)\n",
    "    coor_to_pillar_id = -1 * np.ones(n_pil, dtype=np.int32)\n",
    "    pcloud = remove_invalid_points(pcloud, pillars_cfg).to(\"cpu\").numpy()\n",
    "\n",
    "    logger.debug(\"Running jit method...\")\n",
    "    _get_points_in_pillars(pcloud, pillars, pill_ind, pill_point_nbr, coor_to_pillar_id, min, step, max_ppp)\n",
    "\n",
    "    pill_tens = torch.from_numpy(pillars[:max_pil]).cuda()\n",
    "    pill_ind_tens = torch.from_numpy(pill_ind[:max_pil]).cuda()\n",
    "\n",
    "    logger.debug(f\"Point selection complete.\\n\"\n",
    "                 f\"pill_tens: {pill_tens}{pill_tens.shape},\\n\"\n",
    "                 f\"pill_ind_tens: {pill_ind_tens}{pill_ind_tens.shape}\")\n",
    "    return pill_tens, pill_ind_tens"
   ],
   "metadata": {
    "collapsed": false,
    "pycharm": {
     "name": "#%%\n"
    }
   }
  },
  {
   "cell_type": "markdown",
   "source": [
    "##### Testing"
   ],
   "metadata": {
    "collapsed": false,
    "pycharm": {
     "name": "#%% md\n"
    }
   }
  },
  {
   "cell_type": "code",
   "execution_count": 14,
   "outputs": [],
   "source": [
    "min = np.array([0,-50.0])\n",
    "max = np.array([100, 50.0])\n",
    "step = np.array([1, 1.0])\n",
    "max_ppp = 50.0\n",
    "pillars = np.zeros([251000, 100, 4])\n",
    "pill_ind = np.zeros([251000, 2])\n",
    "pill_point_nbr = np.zeros([251000], dtype=np.int16)\n",
    "coor_to_pillar_id = -1*np.ones([501, 501], dtype=np.int16)\n",
    "#time = time_method(_get_points_in_pillars, runs=10, kwargs={\"pcloud\": pc_vel, \"pillars\": None, \"min\": min, \"step\": step,\n",
    "#                                                            \"max_ppp\": max_ppp, \"pillars\": pillars, \"pill_ind\": pill_ind, \"pill_point_nbr\": pill_point_nbr,\n",
    "#                                                            \"coor_to_pillar_id\": coor_to_pillar_id})\n",
    "\n",
    "#time, pillars, pillars.shape, pill_point_nbr, pill_point_nbr.shape, pill_ind, pill_ind.shape, coor_to_pillar_id, coor_to_pillar_id.shape"
   ],
   "metadata": {
    "collapsed": false,
    "pycharm": {
     "name": "#%%\n"
    }
   }
  },
  {
   "cell_type": "code",
   "execution_count": 15,
   "outputs": [
    {
     "data": {
      "text/plain": "(tensor([[[ 6.6714e+01,  2.2073e+00, -8.0537e-01,  1.0000e+00],\n          [ 6.6683e+01,  2.1124e+00, -8.0623e-01,  1.0000e+00],\n          [ 0.0000e+00,  0.0000e+00,  0.0000e+00,  0.0000e+00],\n          ...,\n          [ 0.0000e+00,  0.0000e+00,  0.0000e+00,  0.0000e+00],\n          [ 0.0000e+00,  0.0000e+00,  0.0000e+00,  0.0000e+00],\n          [ 0.0000e+00,  0.0000e+00,  0.0000e+00,  0.0000e+00]],\n \n         [[ 3.6479e+00,  2.5852e+00, -8.5051e-01,  1.0000e+00],\n          [ 3.6394e+00,  2.5614e+00, -6.5672e-01,  1.0000e+00],\n          [ 3.5374e+00,  2.5642e+00, -8.4607e-01,  1.0000e+00],\n          ...,\n          [ 3.6744e+00,  2.6128e+00, -7.3366e-01,  1.0000e+00],\n          [ 3.6559e+00,  2.6100e+00, -8.4745e-01,  1.0000e+00],\n          [ 3.6733e+00,  2.5622e+00, -8.5713e-01,  1.0000e+00]],\n \n         [[ 2.4180e+01, -1.2483e+01, -6.0869e-02,  1.0000e+00],\n          [ 2.4212e+01, -1.2501e+01,  4.0522e-02,  1.0000e+00],\n          [ 2.4164e+01, -1.2543e+01,  5.7233e-03,  1.0000e+00],\n          ...,\n          [ 0.0000e+00,  0.0000e+00,  0.0000e+00,  0.0000e+00],\n          [ 0.0000e+00,  0.0000e+00,  0.0000e+00,  0.0000e+00],\n          [ 0.0000e+00,  0.0000e+00,  0.0000e+00,  0.0000e+00]],\n \n         ...,\n \n         [[ 6.5527e+01, -1.2684e+01, -6.1408e-01,  1.0000e+00],\n          [ 0.0000e+00,  0.0000e+00,  0.0000e+00,  0.0000e+00],\n          [ 0.0000e+00,  0.0000e+00,  0.0000e+00,  0.0000e+00],\n          ...,\n          [ 0.0000e+00,  0.0000e+00,  0.0000e+00,  0.0000e+00],\n          [ 0.0000e+00,  0.0000e+00,  0.0000e+00,  0.0000e+00],\n          [ 0.0000e+00,  0.0000e+00,  0.0000e+00,  0.0000e+00]],\n \n         [[ 7.0995e+01, -4.2505e+00, -8.3823e-01,  1.0000e+00],\n          [ 0.0000e+00,  0.0000e+00,  0.0000e+00,  0.0000e+00],\n          [ 0.0000e+00,  0.0000e+00,  0.0000e+00,  0.0000e+00],\n          ...,\n          [ 0.0000e+00,  0.0000e+00,  0.0000e+00,  0.0000e+00],\n          [ 0.0000e+00,  0.0000e+00,  0.0000e+00,  0.0000e+00],\n          [ 0.0000e+00,  0.0000e+00,  0.0000e+00,  0.0000e+00]],\n \n         [[ 4.0874e+01,  1.2204e+01, -9.4963e-01,  1.0000e+00],\n          [ 0.0000e+00,  0.0000e+00,  0.0000e+00,  0.0000e+00],\n          [ 0.0000e+00,  0.0000e+00,  0.0000e+00,  0.0000e+00],\n          ...,\n          [ 0.0000e+00,  0.0000e+00,  0.0000e+00,  0.0000e+00],\n          [ 0.0000e+00,  0.0000e+00,  0.0000e+00,  0.0000e+00],\n          [ 0.0000e+00,  0.0000e+00,  0.0000e+00,  0.0000e+00]]],\n        device='cuda:0'),\n torch.Size([12000, 100, 4]),\n tensor([[416., 265.],\n         [ 22., 268.],\n         [151., 173.],\n         ...,\n         [409., 172.],\n         [443., 225.],\n         [255., 328.]], device='cuda:0'),\n torch.Size([12000, 2]))"
     },
     "execution_count": 15,
     "metadata": {},
     "output_type": "execute_result"
    }
   ],
   "source": [
    "pillars_cfg = read_config()['pillars']\n",
    "pill_tens, pill_ind_tens = get_points_in_pillars(pc, pillars_cfg)\n",
    "\n",
    "pill_tens, pill_tens.shape, pill_ind_tens, pill_ind_tens.shape"
   ],
   "metadata": {
    "collapsed": false,
    "pycharm": {
     "name": "#%%\n"
    }
   }
  },
  {
   "cell_type": "markdown",
   "source": [
    "##### Timing"
   ],
   "metadata": {
    "collapsed": false
   }
  },
  {
   "cell_type": "code",
   "execution_count": 16,
   "outputs": [
    {
     "data": {
      "text/plain": "tensor(33.3347)"
     },
     "execution_count": 16,
     "metadata": {},
     "output_type": "execute_result"
    }
   ],
   "source": [
    "pillars_cfg = read_config()['pillars']\n",
    "time_method(get_points_in_pillars, runs=10, kwargs={\"pcloud\": pc, \"pillars_cfg\": pillars_cfg})"
   ],
   "metadata": {
    "collapsed": false,
    "pycharm": {
     "name": "#%%\n"
    }
   }
  },
  {
   "cell_type": "markdown",
   "source": [
    "\n",
    "#### 02.2 - Pillar calc class\n",
    "> This method calculates the necessary extra parameters for each point. Those parameters include the distance\n",
    "> to the pillar mean as well as the distance to the pillar center.\n"
   ],
   "metadata": {
    "collapsed": false,
    "pycharm": {
     "name": "#%% md\n"
    }
   }
  },
  {
   "cell_type": "code",
   "execution_count": 17,
   "outputs": [],
   "source": [
    "#export\n",
    "class PillarCalc():\n",
    "\n",
    "    def __init__(self, pillars_cfg: dict):\n",
    "        logger.debug(\"Initializing PillarCalc module...\")\n",
    "        self.pillars_cfg = pillars_cfg\n",
    "\n",
    "    def _pillar_centers_from_index(self, xy_index: torch.tensor):\n",
    "        \"\"\"\n",
    "            converts the pillar bounds into centers.  Pillars center shape must be (pillar_nbr, 2] with the\n",
    "            last dimension being [x_min, y_min] for each pillar\n",
    "        \"\"\"\n",
    "        logger.info(\"Calculating pillar_centers_from_index.\")\n",
    "        logger.debug(f\"xy_index: {xy_index}{xy_index.shape}\")\n",
    "\n",
    "        min = torch.cuda.FloatTensor([self.pillars_cfg.getfloat('x_min'), self.pillars_cfg.getfloat('y_min')])\n",
    "        step = torch.cuda.FloatTensor([self.pillars_cfg.getfloat('x_step'), self.pillars_cfg.getfloat('y_step')])\n",
    "        z_center = torch.cuda.FloatTensor([(self.pillars_cfg.getfloat('z_max') - self.pillars_cfg.getfloat('z_min')) / 2.0])\n",
    "\n",
    "        # bring z center on shape from xy_min for concatenation\n",
    "        z_center = z_center.unsqueeze(0).expand(xy_index.shape[0], -1)\n",
    "\n",
    "        # The actual pillar boundaries (min has to be added again)\n",
    "        xy_index = xy_index * step + min\n",
    "        xy_index.add_(0.5 * step)\n",
    "        xy_index = torch.cat((xy_index, z_center), dim=1)\n",
    "\n",
    "        logger.debug(f\"Center calculation complete.\\n\"\n",
    "                     f\"xy_center: {xy_index}{xy_index.shape},\\n\"\n",
    "                     f\"z_center: {z_center}{z_center.shape}\")\n",
    "\n",
    "        return xy_index\n",
    "\n",
    "    def __call__(self, pillars: torch.Tensor, pillar_index: torch.Tensor, dt = torch.float32):\n",
    "        \"\"\"Returns the tensor with the given and all the calculated attributes.\n",
    "            :param pillars:\n",
    "            :param pillar_index:\n",
    "            :param dt: datatype for torch tensors\n",
    "\n",
    "            :returns:\n",
    "        \"\"\"\n",
    "        logger.info(\"Calculating Pillars..\")\n",
    "        logger.debug(f\"pillars: {pillars}{pillars.shape},\\n\"\n",
    "                     f\"pillar_index: {pillar_index}{pillar_index.shape}\")\n",
    "\n",
    "        # create mask for calculation because already zero padded\n",
    "        centers = self._pillar_centers_from_index(pillar_index)\n",
    "        mask = (pillars != 0)[:,:,:3]\n",
    "        val = pillars[:,:,:3]\n",
    "\n",
    "        # calculate the mean\n",
    "        mean = val.mul_(mask).sum(dim=1)\n",
    "        mean /= mask.sum(dim=1)\n",
    "\n",
    "        # calculate difference to mean\n",
    "        mean = mean.unsqueeze(1).expand(-1, val.shape[1], -1).clone()\n",
    "        mean *= -1 * mask\n",
    "        mean += val\n",
    "\n",
    "        # replace the NaN with zeros\n",
    "        mean[torch.isnan(mean)] = 0\n",
    "\n",
    "        # calculate difference to centers\n",
    "        centers = centers.unsqueeze(1).expand(-1, val.shape[1], -1).clone()\n",
    "        centers *= -1 * mask\n",
    "        centers += val\n",
    "        centers = centers[:,:,:2]\n",
    "\n",
    "        logger.debug(f\"Pillar calculation complete.\\n\"\n",
    "                     f\"pillars: {pillars}{pillars.shape},\\n\"\n",
    "                     f\"diff_to_mean: {mean}{mean.shape},\\n\"\n",
    "                     f\"diff_to_center: {centers}{centers.shape}\")\n",
    "\n",
    "        return torch.cat((pillars, mean, centers), dim=2)"
   ],
   "metadata": {
    "collapsed": false,
    "pycharm": {
     "name": "#%%\n"
    }
   }
  },
  {
   "cell_type": "markdown",
   "source": [
    "\n",
    "#### 02.3 - The actual calculation method"
   ],
   "metadata": {
    "collapsed": false,
    "pycharm": {
     "name": "#%% md\n"
    }
   }
  },
  {
   "cell_type": "code",
   "execution_count": 18,
   "outputs": [],
   "source": [
    "#export\n",
    "def calculate_pillars(pcloud : torch.tensor):\n",
    "    \"\"\"\n",
    "        The actual pillar calculation\n",
    "\n",
    "        :param pcloud: The point cloud from which to extract and calculate pillars\n",
    "\n",
    "        :returns: List[Tensor(nb_attributes, nbr_pillars w. zero_padding, nb_points_in_pillars),\n",
    "                        Tensor(nb_pillars, 2)]\n",
    "                  First tensor containing the points sorted into their corresponding pillar\n",
    "                  Second Tensor containing the unique index for each pillar to later identify the position\n",
    "    \"\"\"\n",
    "    logger.info(\"Calculating Pillars...\")\n",
    "    if not torch.is_tensor(pcloud):\n",
    "        raise ValueError(\"Tensor expected but not given.\")\n",
    "\n",
    "    pillars_cfg = read_config()['pillars']\n",
    "    pillars, pillar_index = get_points_in_pillars(pcloud, pillars_cfg, shuffle=True)\n",
    "\n",
    "    # create model and move to gpu\n",
    "    model = PillarCalc(pillars_cfg)\n",
    "\n",
    "\n",
    "    logger.info(\"Pillar calculation complete!\")\n",
    "    # permutation to receive correct pillar layout with (D,P,N)\n",
    "    return model(pillars, pillar_index).permute(2,0,1), pillar_index.type(torch.LongTensor)"
   ],
   "metadata": {
    "collapsed": false,
    "pycharm": {
     "name": "#%%\n"
    }
   }
  },
  {
   "cell_type": "markdown",
   "source": [
    "##### Testing"
   ],
   "metadata": {
    "collapsed": false
   }
  },
  {
   "cell_type": "code",
   "execution_count": 19,
   "outputs": [
    {
     "name": "stdout",
     "output_type": "stream",
     "text": [
      "tensor([0.1600, 0.1600], device='cuda:0') torch.Size([2])\n",
      "tensor([  0.0000, -40.3200], device='cuda:0') torch.Size([2])\n",
      "tensor([[ 24., 199.],\n",
      "        [  9., 396.],\n",
      "        [ 18., 235.],\n",
      "        ...,\n",
      "        [  0.,   0.],\n",
      "        [  0.,   0.],\n",
      "        [  0.,   0.]], device='cuda:0') torch.Size([12000, 2])\n",
      "tensor([[  3.8400,  -8.4800],\n",
      "        [  1.4400,  23.0400],\n",
      "        [  2.8800,  -2.7200],\n",
      "        ...,\n",
      "        [  0.0000, -40.3200],\n",
      "        [  0.0000, -40.3200],\n",
      "        [  0.0000, -40.3200]], device='cuda:0') torch.Size([12000, 2])\n",
      "tensor([[  3.9200,  -8.4000],\n",
      "        [  1.5200,  23.1200],\n",
      "        [  2.9600,  -2.6400],\n",
      "        ...,\n",
      "        [  0.0800, -40.2400],\n",
      "        [  0.0800, -40.2400],\n",
      "        [  0.0800, -40.2400]], device='cuda:0') torch.Size([12000, 2])\n"
     ]
    },
    {
     "data": {
      "text/plain": "((tensor([[[ 3.9110e+00,  3.9150e+00,  3.8750e+00,  ...,  0.0000e+00,\n             0.0000e+00,  0.0000e+00],\n           [ 1.5020e+00,  1.4990e+00,  1.5120e+00,  ...,  0.0000e+00,\n             0.0000e+00,  0.0000e+00],\n           [ 2.9330e+00,  3.0350e+00,  3.0100e+00,  ...,  0.0000e+00,\n             0.0000e+00,  0.0000e+00],\n           ...,\n           [ 0.0000e+00,  0.0000e+00,  0.0000e+00,  ...,  0.0000e+00,\n             0.0000e+00,  0.0000e+00],\n           [ 0.0000e+00,  0.0000e+00,  0.0000e+00,  ...,  0.0000e+00,\n             0.0000e+00,  0.0000e+00],\n           [ 0.0000e+00,  0.0000e+00,  0.0000e+00,  ...,  0.0000e+00,\n             0.0000e+00,  0.0000e+00]],\n  \n          [[-8.4350e+00, -8.4280e+00, -8.4650e+00,  ...,  0.0000e+00,\n             0.0000e+00,  0.0000e+00],\n           [ 2.3082e+01,  2.3061e+01,  2.3105e+01,  ...,  0.0000e+00,\n             0.0000e+00,  0.0000e+00],\n           [-2.5860e+00, -2.6750e+00, -2.6900e+00,  ...,  0.0000e+00,\n             0.0000e+00,  0.0000e+00],\n           ...,\n           [ 0.0000e+00,  0.0000e+00,  0.0000e+00,  ...,  0.0000e+00,\n             0.0000e+00,  0.0000e+00],\n           [ 0.0000e+00,  0.0000e+00,  0.0000e+00,  ...,  0.0000e+00,\n             0.0000e+00,  0.0000e+00],\n           [ 0.0000e+00,  0.0000e+00,  0.0000e+00,  ...,  0.0000e+00,\n             0.0000e+00,  0.0000e+00]],\n  \n          [[-9.9000e-01, -8.8800e-01, -9.4400e-01,  ...,  0.0000e+00,\n             0.0000e+00,  0.0000e+00],\n           [-5.3600e-01, -9.5700e-01, -6.8900e-01,  ...,  0.0000e+00,\n             0.0000e+00,  0.0000e+00],\n           [-8.5600e-01, -8.4700e-01, -3.1700e-01,  ...,  0.0000e+00,\n             0.0000e+00,  0.0000e+00],\n           ...,\n           [ 0.0000e+00,  0.0000e+00,  0.0000e+00,  ...,  0.0000e+00,\n             0.0000e+00,  0.0000e+00],\n           [ 0.0000e+00,  0.0000e+00,  0.0000e+00,  ...,  0.0000e+00,\n             0.0000e+00,  0.0000e+00],\n           [ 0.0000e+00,  0.0000e+00,  0.0000e+00,  ...,  0.0000e+00,\n             0.0000e+00,  0.0000e+00]],\n  \n          ...,\n  \n          [[-5.9429e-02,  4.2571e-02, -1.3429e-02,  ...,  0.0000e+00,\n             0.0000e+00,  0.0000e+00],\n           [ 2.2389e-01, -1.9711e-01,  7.0889e-02,  ...,  0.0000e+00,\n             0.0000e+00,  0.0000e+00],\n           [-1.0231e-02, -1.2308e-03,  5.2877e-01,  ...,  0.0000e+00,\n             0.0000e+00,  0.0000e+00],\n           ...,\n           [ 0.0000e+00,  0.0000e+00,  0.0000e+00,  ...,  0.0000e+00,\n             0.0000e+00,  0.0000e+00],\n           [ 0.0000e+00,  0.0000e+00,  0.0000e+00,  ...,  0.0000e+00,\n             0.0000e+00,  0.0000e+00],\n           [ 0.0000e+00,  0.0000e+00,  0.0000e+00,  ...,  0.0000e+00,\n             0.0000e+00,  0.0000e+00]],\n  \n          [[-8.9998e-03, -4.9999e-03, -4.5000e-02,  ...,  0.0000e+00,\n             0.0000e+00,  0.0000e+00],\n           [-1.8000e-02, -2.1000e-02, -8.0000e-03,  ...,  0.0000e+00,\n             0.0000e+00,  0.0000e+00],\n           [-2.7000e-02,  7.5000e-02,  5.0000e-02,  ...,  0.0000e+00,\n             0.0000e+00,  0.0000e+00],\n           ...,\n           [ 0.0000e+00,  0.0000e+00,  0.0000e+00,  ...,  0.0000e+00,\n             0.0000e+00,  0.0000e+00],\n           [ 0.0000e+00,  0.0000e+00,  0.0000e+00,  ...,  0.0000e+00,\n             0.0000e+00,  0.0000e+00],\n           [ 0.0000e+00,  0.0000e+00,  0.0000e+00,  ...,  0.0000e+00,\n             0.0000e+00,  0.0000e+00]],\n  \n          [[-3.5001e-02, -2.8001e-02, -6.5001e-02,  ...,  0.0000e+00,\n             0.0000e+00,  0.0000e+00],\n           [-3.7996e-02, -5.8996e-02, -1.4997e-02,  ...,  0.0000e+00,\n             0.0000e+00,  0.0000e+00],\n           [ 5.4001e-02, -3.4999e-02, -4.9999e-02,  ...,  0.0000e+00,\n             0.0000e+00,  0.0000e+00],\n           ...,\n           [ 0.0000e+00,  0.0000e+00,  0.0000e+00,  ...,  0.0000e+00,\n             0.0000e+00,  0.0000e+00],\n           [ 0.0000e+00,  0.0000e+00,  0.0000e+00,  ...,  0.0000e+00,\n             0.0000e+00,  0.0000e+00],\n           [ 0.0000e+00,  0.0000e+00,  0.0000e+00,  ...,  0.0000e+00,\n             0.0000e+00,  0.0000e+00]]], device='cuda:0'),\n  tensor([[ 24, 199],\n          [  9, 396],\n          [ 18, 235],\n          ...,\n          [  0,   0],\n          [  0,   0],\n          [  0,   0]])),\n torch.Size([9, 12000, 100]),\n torch.Size([12000, 2]))"
     },
     "execution_count": 19,
     "metadata": {},
     "output_type": "execute_result"
    }
   ],
   "source": [
    "out = calculate_pillars(pc_vel)\n",
    "out, out[0].shape, out[1].shape"
   ],
   "metadata": {
    "collapsed": false,
    "pycharm": {
     "name": "#%%\n"
    }
   }
  },
  {
   "cell_type": "markdown",
   "source": [
    "#### Timing"
   ],
   "metadata": {
    "collapsed": false
   }
  },
  {
   "cell_type": "code",
   "execution_count": 20,
   "outputs": [
    {
     "name": "stdout",
     "output_type": "stream",
     "text": [
      "tensor([0.1600, 0.1600], device='cuda:0') torch.Size([2])\n",
      "tensor([  0.0000, -40.3200], device='cuda:0') torch.Size([2])\n",
      "tensor([[ 17., 196.],\n",
      "        [ 31., 286.],\n",
      "        [  0., 191.],\n",
      "        ...,\n",
      "        [  0.,   0.],\n",
      "        [  0.,   0.],\n",
      "        [  0.,   0.]], device='cuda:0') torch.Size([12000, 2])\n",
      "tensor([[  2.7200,  -8.9600],\n",
      "        [  4.9600,   5.4400],\n",
      "        [  0.0000,  -9.7600],\n",
      "        ...,\n",
      "        [  0.0000, -40.3200],\n",
      "        [  0.0000, -40.3200],\n",
      "        [  0.0000, -40.3200]], device='cuda:0') torch.Size([12000, 2])\n",
      "tensor([[  2.8000,  -8.8800],\n",
      "        [  5.0400,   5.5200],\n",
      "        [  0.0800,  -9.6800],\n",
      "        ...,\n",
      "        [  0.0800, -40.2400],\n",
      "        [  0.0800, -40.2400],\n",
      "        [  0.0800, -40.2400]], device='cuda:0') torch.Size([12000, 2])\n",
      "tensor([0.1600, 0.1600], device='cuda:0') torch.Size([2])\n",
      "tensor([  0.0000, -40.3200], device='cuda:0') torch.Size([2])\n",
      "tensor([[ 66., 151.],\n",
      "        [ 31., 285.],\n",
      "        [ 40., 319.],\n",
      "        ...,\n",
      "        [  0.,   0.],\n",
      "        [  0.,   0.],\n",
      "        [  0.,   0.]], device='cuda:0') torch.Size([12000, 2])\n",
      "tensor([[ 10.5600, -16.1600],\n",
      "        [  4.9600,   5.2800],\n",
      "        [  6.4000,  10.7200],\n",
      "        ...,\n",
      "        [  0.0000, -40.3200],\n",
      "        [  0.0000, -40.3200],\n",
      "        [  0.0000, -40.3200]], device='cuda:0') torch.Size([12000, 2])\n",
      "tensor([[ 10.6400, -16.0800],\n",
      "        [  5.0400,   5.3600],\n",
      "        [  6.4800,  10.8000],\n",
      "        ...,\n",
      "        [  0.0800, -40.2400],\n",
      "        [  0.0800, -40.2400],\n",
      "        [  0.0800, -40.2400]], device='cuda:0') torch.Size([12000, 2])\n",
      "tensor([0.1600, 0.1600], device='cuda:0') torch.Size([2])\n",
      "tensor([  0.0000, -40.3200], device='cuda:0') torch.Size([2])\n",
      "tensor([[ 54., 194.],\n",
      "        [ 42., 278.],\n",
      "        [ 47., 232.],\n",
      "        ...,\n",
      "        [  0.,   0.],\n",
      "        [  0.,   0.],\n",
      "        [  0.,   0.]], device='cuda:0') torch.Size([12000, 2])\n",
      "tensor([[  8.6400,  -9.2800],\n",
      "        [  6.7200,   4.1600],\n",
      "        [  7.5200,  -3.2000],\n",
      "        ...,\n",
      "        [  0.0000, -40.3200],\n",
      "        [  0.0000, -40.3200],\n",
      "        [  0.0000, -40.3200]], device='cuda:0') torch.Size([12000, 2])\n",
      "tensor([[  8.7200,  -9.2000],\n",
      "        [  6.8000,   4.2400],\n",
      "        [  7.6000,  -3.1200],\n",
      "        ...,\n",
      "        [  0.0800, -40.2400],\n",
      "        [  0.0800, -40.2400],\n",
      "        [  0.0800, -40.2400]], device='cuda:0') torch.Size([12000, 2])\n",
      "tensor([0.1600, 0.1600], device='cuda:0') torch.Size([2])\n",
      "tensor([  0.0000, -40.3200], device='cuda:0') torch.Size([2])\n",
      "tensor([[ 40., 196.],\n",
      "        [ 71., 477.],\n",
      "        [ 50., 182.],\n",
      "        ...,\n",
      "        [  0.,   0.],\n",
      "        [  0.,   0.],\n",
      "        [  0.,   0.]], device='cuda:0') torch.Size([12000, 2])\n",
      "tensor([[  6.4000,  -8.9600],\n",
      "        [ 11.3600,  36.0000],\n",
      "        [  8.0000, -11.2000],\n",
      "        ...,\n",
      "        [  0.0000, -40.3200],\n",
      "        [  0.0000, -40.3200],\n",
      "        [  0.0000, -40.3200]], device='cuda:0') torch.Size([12000, 2])\n",
      "tensor([[  6.4800,  -8.8800],\n",
      "        [ 11.4400,  36.0800],\n",
      "        [  8.0800, -11.1200],\n",
      "        ...,\n",
      "        [  0.0800, -40.2400],\n",
      "        [  0.0800, -40.2400],\n",
      "        [  0.0800, -40.2400]], device='cuda:0') torch.Size([12000, 2])\n",
      "tensor([0.1600, 0.1600], device='cuda:0') torch.Size([2])\n",
      "tensor([  0.0000, -40.3200], device='cuda:0') torch.Size([2])\n",
      "tensor([[  9., 201.],\n",
      "        [137., 307.],\n",
      "        [ 11., 197.],\n",
      "        ...,\n",
      "        [  0.,   0.],\n",
      "        [  0.,   0.],\n",
      "        [  0.,   0.]], device='cuda:0') torch.Size([12000, 2])\n",
      "tensor([[  1.4400,  -8.1600],\n",
      "        [ 21.9200,   8.8000],\n",
      "        [  1.7600,  -8.8000],\n",
      "        ...,\n",
      "        [  0.0000, -40.3200],\n",
      "        [  0.0000, -40.3200],\n",
      "        [  0.0000, -40.3200]], device='cuda:0') torch.Size([12000, 2])\n",
      "tensor([[  1.5200,  -8.0800],\n",
      "        [ 22.0000,   8.8800],\n",
      "        [  1.8400,  -8.7200],\n",
      "        ...,\n",
      "        [  0.0800, -40.2400],\n",
      "        [  0.0800, -40.2400],\n",
      "        [  0.0800, -40.2400]], device='cuda:0') torch.Size([12000, 2])\n",
      "tensor([0.1600, 0.1600], device='cuda:0') torch.Size([2])\n",
      "tensor([  0.0000, -40.3200], device='cuda:0') torch.Size([2])\n",
      "tensor([[ 54., 192.],\n",
      "        [ 12., 190.],\n",
      "        [ 33., 320.],\n",
      "        ...,\n",
      "        [  0.,   0.],\n",
      "        [  0.,   0.],\n",
      "        [  0.,   0.]], device='cuda:0') torch.Size([12000, 2])\n",
      "tensor([[  8.6400,  -9.6000],\n",
      "        [  1.9200,  -9.9200],\n",
      "        [  5.2800,  10.8800],\n",
      "        ...,\n",
      "        [  0.0000, -40.3200],\n",
      "        [  0.0000, -40.3200],\n",
      "        [  0.0000, -40.3200]], device='cuda:0') torch.Size([12000, 2])\n",
      "tensor([[  8.7200,  -9.5200],\n",
      "        [  2.0000,  -9.8400],\n",
      "        [  5.3600,  10.9600],\n",
      "        ...,\n",
      "        [  0.0800, -40.2400],\n",
      "        [  0.0800, -40.2400],\n",
      "        [  0.0800, -40.2400]], device='cuda:0') torch.Size([12000, 2])\n",
      "tensor([0.1600, 0.1600], device='cuda:0') torch.Size([2])\n",
      "tensor([  0.0000, -40.3200], device='cuda:0') torch.Size([2])\n",
      "tensor([[ 37., 278.],\n",
      "        [ 31., 285.],\n",
      "        [ 32., 320.],\n",
      "        ...,\n",
      "        [  0.,   0.],\n",
      "        [  0.,   0.],\n",
      "        [  0.,   0.]], device='cuda:0') torch.Size([12000, 2])\n",
      "tensor([[  5.9200,   4.1600],\n",
      "        [  4.9600,   5.2800],\n",
      "        [  5.1200,  10.8800],\n",
      "        ...,\n",
      "        [  0.0000, -40.3200],\n",
      "        [  0.0000, -40.3200],\n",
      "        [  0.0000, -40.3200]], device='cuda:0') torch.Size([12000, 2])\n",
      "tensor([[  6.0000,   4.2400],\n",
      "        [  5.0400,   5.3600],\n",
      "        [  5.2000,  10.9600],\n",
      "        ...,\n",
      "        [  0.0800, -40.2400],\n",
      "        [  0.0800, -40.2400],\n",
      "        [  0.0800, -40.2400]], device='cuda:0') torch.Size([12000, 2])\n",
      "tensor([0.1600, 0.1600], device='cuda:0') torch.Size([2])\n",
      "tensor([  0.0000, -40.3200], device='cuda:0') torch.Size([2])\n",
      "tensor([[  1., 193.],\n",
      "        [  6., 445.],\n",
      "        [ 21., 195.],\n",
      "        ...,\n",
      "        [  0.,   0.],\n",
      "        [  0.,   0.],\n",
      "        [  0.,   0.]], device='cuda:0') torch.Size([12000, 2])\n",
      "tensor([[  0.1600,  -9.4400],\n",
      "        [  0.9600,  30.8800],\n",
      "        [  3.3600,  -9.1200],\n",
      "        ...,\n",
      "        [  0.0000, -40.3200],\n",
      "        [  0.0000, -40.3200],\n",
      "        [  0.0000, -40.3200]], device='cuda:0') torch.Size([12000, 2])\n",
      "tensor([[  0.2400,  -9.3600],\n",
      "        [  1.0400,  30.9600],\n",
      "        [  3.4400,  -9.0400],\n",
      "        ...,\n",
      "        [  0.0800, -40.2400],\n",
      "        [  0.0800, -40.2400],\n",
      "        [  0.0800, -40.2400]], device='cuda:0') torch.Size([12000, 2])\n",
      "tensor([0.1600, 0.1600], device='cuda:0') torch.Size([2])\n",
      "tensor([  0.0000, -40.3200], device='cuda:0') torch.Size([2])\n",
      "tensor([[ 56., 336.],\n",
      "        [ 87., 227.],\n",
      "        [308., 260.],\n",
      "        ...,\n",
      "        [  0.,   0.],\n",
      "        [  0.,   0.],\n",
      "        [  0.,   0.]], device='cuda:0') torch.Size([12000, 2])\n",
      "tensor([[  8.9600,  13.4400],\n",
      "        [ 13.9200,  -4.0000],\n",
      "        [ 49.2800,   1.2800],\n",
      "        ...,\n",
      "        [  0.0000, -40.3200],\n",
      "        [  0.0000, -40.3200],\n",
      "        [  0.0000, -40.3200]], device='cuda:0') torch.Size([12000, 2])\n",
      "tensor([[  9.0400,  13.5200],\n",
      "        [ 14.0000,  -3.9200],\n",
      "        [ 49.3600,   1.3600],\n",
      "        ...,\n",
      "        [  0.0800, -40.2400],\n",
      "        [  0.0800, -40.2400],\n",
      "        [  0.0800, -40.2400]], device='cuda:0') torch.Size([12000, 2])\n",
      "tensor([0.1600, 0.1600], device='cuda:0') torch.Size([2])\n",
      "tensor([  0.0000, -40.3200], device='cuda:0') torch.Size([2])\n",
      "tensor([[ 44., 480.],\n",
      "        [ 18., 196.],\n",
      "        [ 53., 194.],\n",
      "        ...,\n",
      "        [  0.,   0.],\n",
      "        [  0.,   0.],\n",
      "        [  0.,   0.]], device='cuda:0') torch.Size([12000, 2])\n",
      "tensor([[  7.0400,  36.4800],\n",
      "        [  2.8800,  -8.9600],\n",
      "        [  8.4800,  -9.2800],\n",
      "        ...,\n",
      "        [  0.0000, -40.3200],\n",
      "        [  0.0000, -40.3200],\n",
      "        [  0.0000, -40.3200]], device='cuda:0') torch.Size([12000, 2])\n",
      "tensor([[  7.1200,  36.5600],\n",
      "        [  2.9600,  -8.8800],\n",
      "        [  8.5600,  -9.2000],\n",
      "        ...,\n",
      "        [  0.0800, -40.2400],\n",
      "        [  0.0800, -40.2400],\n",
      "        [  0.0800, -40.2400]], device='cuda:0') torch.Size([12000, 2])\n"
     ]
    },
    {
     "data": {
      "text/plain": "tensor(40.3198)"
     },
     "execution_count": 20,
     "metadata": {},
     "output_type": "execute_result"
    }
   ],
   "source": [
    "time_method(calculate_pillars, runs=10, kwargs={\"pcloud\": pc_vel})"
   ],
   "metadata": {
    "collapsed": false,
    "pycharm": {
     "name": "#%%\n"
    }
   }
  },
  {
   "cell_type": "markdown",
   "source": [
    "### Export notebooks"
   ],
   "metadata": {
    "collapsed": false,
    "pycharm": {
     "name": "#%% md\n"
    }
   }
  },
  {
   "cell_type": "code",
   "execution_count": 21,
   "outputs": [],
   "source": [
    "\n",
    "#hide\n",
    "#from nbdev.export import notebook2script\n",
    "#notebook2script()\n"
   ],
   "metadata": {
    "collapsed": false,
    "pycharm": {
     "name": "#%%\n"
    }
   }
  }
 ],
 "metadata": {
  "kernelspec": {
   "display_name": "ba",
   "language": "python",
   "name": "ba"
  }
 },
 "nbformat": 4,
 "nbformat_minor": 4
}