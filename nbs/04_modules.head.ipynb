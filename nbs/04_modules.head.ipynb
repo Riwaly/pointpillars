{
 "cells": [
  {
   "cell_type": "code",
   "execution_count": 1,
   "metadata": {
    "collapsed": true,
    "jupyter": {
     "outputs_hidden": true
    }
   },
   "outputs": [],
   "source": [
    "#default_exp modules.head"
   ]
  },
  {
   "cell_type": "markdown",
   "metadata": {
    "pycharm": {
     "name": "#%% md\n"
    }
   },
   "source": [
    "# SSD Head for object detection\n",
    "> As proposed in the paper, we use Single Shot Detector (SSD) for object detection. The header predicts the\n",
    "> offsets to different, predefined anchors. For each anchor we predict the offsets x, y, z, w, l, h and angle.\n",
    "> We also receive the match certainty for each anchor.\n"
   ]
  },
  {
   "cell_type": "markdown",
   "metadata": {
    "pycharm": {
     "name": "#%% md\n"
    }
   },
   "source": [
    "## 00 - Prerequesits"
   ]
  },
  {
   "cell_type": "code",
   "execution_count": 2,
   "metadata": {
    "collapsed": false,
    "jupyter": {
     "outputs_hidden": false
    },
    "pycharm": {
     "name": "#%%\n"
    }
   },
   "outputs": [],
   "source": [
    "import sys\n",
    "sys.path.append(\"/home/qhs67/git/bachelorthesis_sven_thaele/code/\")\n",
    "from pointpillars.utils.io import read_config"
   ]
  },
  {
   "cell_type": "markdown",
   "metadata": {
    "pycharm": {
     "name": "#%% md\n"
    }
   },
   "source": [
    "### 00.1 - Imports"
   ]
  },
  {
   "cell_type": "code",
   "execution_count": 3,
   "metadata": {
    "collapsed": false,
    "jupyter": {
     "outputs_hidden": false
    },
    "pycharm": {
     "name": "#%%\n"
    }
   },
   "outputs": [],
   "source": [
    "#export\n",
    "import logging\n",
    "import ast\n",
    "import torch\n",
    "import torch.nn as nn\n",
    "import torch.nn.functional as F\n",
    "\n",
    "logger = logging.getLogger(__name__)"
   ]
  },
  {
   "cell_type": "markdown",
   "metadata": {
    "pycharm": {
     "name": "#%% md\n"
    }
   },
   "source": [
    "## 01 - Head module"
   ]
  },
  {
   "cell_type": "code",
   "execution_count": 4,
   "metadata": {
    "collapsed": false,
    "jupyter": {
     "outputs_hidden": false
    },
    "pycharm": {
     "name": "#%%\n"
    }
   },
   "outputs": [],
   "source": [
    "#export\n",
    "class Head(nn.Module):\n",
    "\n",
    "    def __init__(self, head_cfg):\n",
    "        \"\"\"Definition of the relevant module attributes and conv layers\"\"\"\n",
    "\n",
    "        logger.info(\"Initialize detection head...\")\n",
    "        super(Head, self).__init__()\n",
    "        # TODO: define in channel properly\n",
    "        self.num_anchors = len(ast.literal_eval(head_cfg['anchors']))\n",
    "        # x,y,z,w,l,h,theta\n",
    "        # x,y,z,h,w,l,theta (maybe occupancy to define if object is present)\n",
    "        self.num_attributes = 7\n",
    "\n",
    "        self.conv_occ = nn.Conv2d(384, self.num_anchors, 1)\n",
    "        self.conv_cls = nn.Conv2d(384, self.num_anchors, 1)\n",
    "        self.conv_head = nn.Conv2d(384, self.num_anchors, 1)\n",
    "\n",
    "        self.conv_boxes = nn.Conv2d(384, self.num_anchors * self.num_attributes, 1)\n",
    "\n",
    "        logger.debug(\"Detection head init complete.\")\n",
    "\n",
    "\n",
    "    def forward(self, batch: torch.Tensor) -> tuple:\n",
    "        \"\"\"\n",
    "        :param batch: a batch of data coming from the feature net\n",
    "\n",
    "        :returns:   (pred_occ(N, H, W, nb_anchors),\n",
    "                     pred_cls(N, H, W, nb_anchors),\n",
    "                     pred_head(N, H, W, nb_anchors),\n",
    "                     pred_boxes(N, H, W, nb_anchors, nb_attributes=7))\n",
    "\n",
    "                     Meaning of the values:\n",
    "                     pred_occ gives the confidence of an object occupying this anchor\n",
    "                     pred_cls gives the predicted class of the object in this anchor\n",
    "                     pred_head gives the binary prediction of the direction the object is facing (away or towards cam)\n",
    "                     pred_box gives the dimension deltas to this anchors center (also dependant on pillar center)\n",
    "        \"\"\"\n",
    "        logger.info(\"Forward through detection head...\")\n",
    "        logger.debug(f\"batch: {batch}{batch.shape}\")\n",
    "\n",
    "        pred_occ = self.conv_occ(batch)\n",
    "        pred_cls = self.conv_cls(batch)\n",
    "        pred_head = self.conv_head(batch)\n",
    "        # permute (batch_size, n_anchors, H, W) -> (batch_size, H, W, n_anchors)\n",
    "        pred_occ = pred_occ.permute(0, 2, 3, 1)\n",
    "        pred_cls = pred_cls.permute(0, 2, 3, 1)\n",
    "        pred_head = pred_head.permute(0, 2, 3, 1)\n",
    "\n",
    "        pred_boxes = self.conv_boxes(batch)\n",
    "        C, H, W = pred_boxes.shape[1:]\n",
    "        # resize and permute to fit the correct dimensions\n",
    "        # out: (batch_size, H, W, n_anchors, 7)\n",
    "        pred_boxes = pred_boxes.reshape(-1, self.num_anchors, self.num_attributes, H, W).permute(0, 3, 4, 1, 2)\n",
    "\n",
    "        \"\"\"\n",
    "        # h, l, w must be positive even with random weights, use relu to ensure\n",
    "        pred_boxes_hwl = pred_boxes[:,:,:,:,3:6]\n",
    "        F.relu(pred_boxes_hwl, inplace=True)\n",
    "        pred_boxes = torch.cat((pred_boxes[:,:,:,:,:3], pred_boxes_hwl, pred_boxes[:,:,:,:,6:]), dim=4)\n",
    "        del pred_boxes_hwl\n",
    "        \"\"\"\n",
    "\n",
    "\n",
    "        logger.debug(f\"Forward pass through head complete.\\n\"\n",
    "                     f\"pred_occ: {pred_occ}{pred_occ.shape},\\n\"\n",
    "                     f\"pred_cls: {pred_cls}{pred_cls.shape},\\n\"\n",
    "                     f\"pred_head: {pred_head}{pred_head.shape},\\n\"\n",
    "                     f\"pred_boxes: {pred_boxes}{pred_boxes.shape}\")\n",
    "\n",
    "        return pred_occ, pred_cls, pred_head, pred_boxes\n",
    "\n"
   ]
  },
  {
   "cell_type": "code",
   "execution_count": 5,
   "metadata": {
    "collapsed": false,
    "jupyter": {
     "outputs_hidden": false
    },
    "pycharm": {
     "name": "#%%\n"
    }
   },
   "outputs": [
    {
     "ename": "KeyboardInterrupt",
     "evalue": "",
     "output_type": "error",
     "traceback": [
      "\u001B[0;31m---------------------------------------------------------------------------\u001B[0m",
      "\u001B[0;31mKeyboardInterrupt\u001B[0m                         Traceback (most recent call last)",
      "\u001B[0;32m<ipython-input-5-cab676e2b575>\u001B[0m in \u001B[0;36m<module>\u001B[0;34m\u001B[0m\n\u001B[1;32m      2\u001B[0m \u001B[0mhead_cfg\u001B[0m \u001B[0;34m=\u001B[0m \u001B[0mread_config\u001B[0m\u001B[0;34m(\u001B[0m\u001B[0;34m)\u001B[0m\u001B[0;34m[\u001B[0m\u001B[0;34m'head'\u001B[0m\u001B[0;34m]\u001B[0m\u001B[0;34m\u001B[0m\u001B[0;34m\u001B[0m\u001B[0m\n\u001B[1;32m      3\u001B[0m \u001B[0;34m\u001B[0m\u001B[0m\n\u001B[0;32m----> 4\u001B[0;31m \u001B[0mtens\u001B[0m \u001B[0;34m=\u001B[0m \u001B[0mtorch\u001B[0m\u001B[0;34m.\u001B[0m\u001B[0mrand\u001B[0m\u001B[0;34m(\u001B[0m\u001B[0;36m1\u001B[0m\u001B[0;34m,\u001B[0m \u001B[0;36m384\u001B[0m\u001B[0;34m,\u001B[0m \u001B[0;36m252\u001B[0m\u001B[0;34m,\u001B[0m \u001B[0;36m252\u001B[0m\u001B[0;34m)\u001B[0m\u001B[0;34m.\u001B[0m\u001B[0mcuda\u001B[0m\u001B[0;34m(\u001B[0m\u001B[0;34m)\u001B[0m\u001B[0;34m\u001B[0m\u001B[0;34m\u001B[0m\u001B[0m\n\u001B[0m\u001B[1;32m      5\u001B[0m \u001B[0mhead\u001B[0m \u001B[0;34m=\u001B[0m \u001B[0mHead\u001B[0m\u001B[0;34m(\u001B[0m\u001B[0mhead_cfg\u001B[0m\u001B[0;34m)\u001B[0m\u001B[0;34m\u001B[0m\u001B[0;34m\u001B[0m\u001B[0m\n\u001B[1;32m      6\u001B[0m \u001B[0mhead\u001B[0m\u001B[0;34m.\u001B[0m\u001B[0mcuda\u001B[0m\u001B[0;34m(\u001B[0m\u001B[0;34m)\u001B[0m\u001B[0;34m\u001B[0m\u001B[0;34m\u001B[0m\u001B[0m\n",
      "\u001B[0;31mKeyboardInterrupt\u001B[0m: "
     ]
    }
   ],
   "source": [
    "torch.cuda.empty_cache()\n",
    "head_cfg = read_config()['head']\n",
    "\n",
    "tens = torch.rand(1, 384, 252, 252).cuda()\n",
    "head = Head(head_cfg)\n",
    "head.cuda()\n",
    "occ, cls, head, box = head(tens)\n",
    "\n",
    "occ, occ.shape, cls, cls.shape, head, head.shape, box, box.shape\n"
   ]
  },
  {
   "cell_type": "code",
   "execution_count": null,
   "metadata": {
    "collapsed": false,
    "jupyter": {
     "outputs_hidden": false
    },
    "pycharm": {
     "name": "#%%\n"
    }
   },
   "outputs": [],
   "source": [
    "pred_boxes = torch.rand(4, 250, 250, 5, 7) - 1\n",
    "\n",
    "tens = pred_boxes[:,:,:,:,4:]\n",
    "\n",
    "out = F.softplus(tens)\n",
    "\n",
    "tens, tens.shape, out, out.shape"
   ]
  }
 ],
 "metadata": {
  "kernelspec": {
   "display_name": "ba",
   "language": "python",
   "name": "ba"
  },
  "language_info": {
   "codemirror_mode": {
    "name": "ipython",
    "version": 3
   },
   "file_extension": ".py",
   "mimetype": "text/x-python",
   "name": "python",
   "nbconvert_exporter": "python",
   "pygments_lexer": "ipython3",
   "version": "3.8.5"
  }
 },
 "nbformat": 4,
 "nbformat_minor": 4
}