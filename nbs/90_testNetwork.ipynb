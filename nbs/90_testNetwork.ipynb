{
 "cells": [
  {
   "cell_type": "markdown",
   "source": [
    "# Test the network\n",
    "> Test the network architecture and the required time for a test run."
   ],
   "metadata": {
    "collapsed": false,
    "pycharm": {
     "name": "#%% md\n"
    }
   }
  },
  {
   "cell_type": "code",
   "execution_count": 1,
   "outputs": [
    {
     "ename": "ModuleNotFoundError",
     "evalue": "No module named 'pointpillars.modules'",
     "output_type": "error",
     "traceback": [
      "\u001B[0;31m---------------------------------------------------------------------------\u001B[0m",
      "\u001B[0;31mModuleNotFoundError\u001B[0m                       Traceback (most recent call last)",
      "\u001B[0;32m<ipython-input-1-1434d1825ff2>\u001B[0m in \u001B[0;36m<module>\u001B[0;34m\u001B[0m\n\u001B[1;32m      7\u001B[0m \u001B[0;32mfrom\u001B[0m \u001B[0mpointpillars\u001B[0m\u001B[0;34m.\u001B[0m\u001B[0mutils\u001B[0m\u001B[0;34m.\u001B[0m\u001B[0mtime\u001B[0m \u001B[0;32mimport\u001B[0m \u001B[0mtime_method\u001B[0m\u001B[0;34m\u001B[0m\u001B[0;34m\u001B[0m\u001B[0m\n\u001B[1;32m      8\u001B[0m \u001B[0;32mfrom\u001B[0m \u001B[0mpointpillars\u001B[0m\u001B[0;34m.\u001B[0m\u001B[0mdata\u001B[0m\u001B[0;34m.\u001B[0m\u001B[0mdataset\u001B[0m \u001B[0;32mimport\u001B[0m \u001B[0mVelDataset\u001B[0m\u001B[0;34m\u001B[0m\u001B[0;34m\u001B[0m\u001B[0m\n\u001B[0;32m----> 9\u001B[0;31m \u001B[0;32mfrom\u001B[0m \u001B[0mpointpillars\u001B[0m\u001B[0;34m.\u001B[0m\u001B[0mmodules\u001B[0m\u001B[0;34m.\u001B[0m\u001B[0mfeaturenet\u001B[0m \u001B[0;32mimport\u001B[0m \u001B[0mFeatureNet\u001B[0m\u001B[0;34m\u001B[0m\u001B[0;34m\u001B[0m\u001B[0m\n\u001B[0m\u001B[1;32m     10\u001B[0m \u001B[0;32mfrom\u001B[0m \u001B[0mpointpillars\u001B[0m\u001B[0;34m.\u001B[0m\u001B[0mmodules\u001B[0m\u001B[0;34m.\u001B[0m\u001B[0mbackbone\u001B[0m \u001B[0;32mimport\u001B[0m \u001B[0mBackbone\u001B[0m\u001B[0;34m\u001B[0m\u001B[0;34m\u001B[0m\u001B[0m\n\u001B[1;32m     11\u001B[0m \u001B[0;32mfrom\u001B[0m \u001B[0mpointpillars\u001B[0m\u001B[0;34m.\u001B[0m\u001B[0mmodules\u001B[0m\u001B[0;34m.\u001B[0m\u001B[0mhead\u001B[0m \u001B[0;32mimport\u001B[0m \u001B[0mHead\u001B[0m\u001B[0;34m\u001B[0m\u001B[0;34m\u001B[0m\u001B[0m\n",
      "\u001B[0;31mModuleNotFoundError\u001B[0m: No module named 'pointpillars.modules'"
     ]
    }
   ],
   "source": [
    "import sys\n",
    "sys.path.append(\"/home/qhs67/git/bachelorthesis_sven_thaele/code/\")\n",
    "import torch\n",
    "import torch.nn as nn\n",
    "\n",
    "from pointpillars.utils.io import read_config\n",
    "from pointpillars.utils.time import time_method\n",
    "from pointpillars.data.dataset import VelDataset\n",
    "from pointpillars.modules.featurenet import FeatureNet\n",
    "from pointpillars.modules.backbone import Backbone\n",
    "from pointpillars.modules.head import Head"
   ],
   "metadata": {
    "collapsed": false,
    "pycharm": {
     "name": "#%%\n"
    }
   }
  },
  {
   "cell_type": "code",
   "execution_count": null,
   "outputs": [],
   "source": [
    "torch.cuda.empty_cache()\n",
    "conf = read_config()\n",
    "ds = VelDataset(\"/home/qhs67/git/bachelorthesis_sven_thaele/code/data/kitti/training/velodyne\")\n",
    "dl = torch.utils.data.DataLoader(ds, batch_size=1, num_workers=0)\n",
    "featurenet = FeatureNet(conf['featurenet'], conf['pillars'])\n",
    "backbone = Backbone(conf['featurenet'])\n",
    "head = Head(conf['head'])\n",
    "featurenet.cuda()\n",
    "backbone.cuda()\n",
    "head.cuda()\n",
    "item = None\n",
    "for i, batch in enumerate(dl):\n",
    "    if i == 1:\n",
    "        break\n",
    "    item = batch\n",
    "\n",
    "\n",
    "def test():\n",
    "\n",
    "    out = featurenet(item[0], item[1])\n",
    "    out = backbone(out)\n",
    "    out = head(out)\n",
    "\n",
    "time_method(test, runs=10)"
   ],
   "metadata": {
    "collapsed": false,
    "pycharm": {
     "name": "#%%\n"
    }
   }
  }
 ],
 "metadata": {
  "kernelspec": {
   "name": "ba",
   "language": "python",
   "display_name": "ba"
  },
  "language_info": {
   "codemirror_mode": {
    "name": "ipython",
    "version": 2
   },
   "file_extension": ".py",
   "mimetype": "text/x-python",
   "name": "python",
   "nbconvert_exporter": "python",
   "pygments_lexer": "ipython2",
   "version": "2.7.6"
  }
 },
 "nbformat": 4,
 "nbformat_minor": 0
}