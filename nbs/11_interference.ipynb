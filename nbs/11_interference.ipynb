{
 "cells": [
  {
   "cell_type": "code",
   "execution_count": 1,
   "metadata": {},
   "outputs": [],
   "source": [
    "#default_exp interference"
   ]
  },
  {
   "cell_type": "code",
   "execution_count": 2,
   "metadata": {
    "collapsed": false,
    "jupyter": {
     "outputs_hidden": false
    },
    "pycharm": {
     "name": "#%%\n"
    }
   },
   "outputs": [],
   "source": [
    "import sys\n",
    "sys.path.append(\"/home/qhs67/git/bachelorthesis_sven_thaele/code/\")"
   ]
  },
  {
   "cell_type": "code",
   "execution_count": 3,
   "metadata": {
    "collapsed": false,
    "jupyter": {
     "outputs_hidden": false
    },
    "pycharm": {
     "name": "#%%\n"
    }
   },
   "outputs": [
    {
     "name": "stdout",
     "output_type": "stream",
     "text": [
      "Jupyter environment detected. Enabling Open3D WebVisualizer.\n",
      "[Open3D INFO] WebRTC GUI backend enabled.\n",
      "[Open3D INFO] WebRTCWindowSystem: HTTP handshake server disabled.\n"
     ]
    }
   ],
   "source": [
    "#export\n",
    "import torch\n",
    "import logging\n",
    "\n",
    "from pointpillars.utils.io import read_config, load_network_save, load_single_pcd\n",
    "from pointpillars.data.dataset import VelTrainDataset, collate_fn\n",
    "from pointpillars.modules.pointpillars import PointPillars, init_weights\n",
    "from pointpillars.utils.pcviewer import PCViewer"
   ]
  },
  {
   "cell_type": "code",
   "execution_count": 4,
   "metadata": {
    "collapsed": false,
    "jupyter": {
     "outputs_hidden": false
    },
    "pycharm": {
     "name": "#%%\n"
    }
   },
   "outputs": [],
   "source": [
    "#export\n",
    "logger = logging.getLogger(__name__)\n"
   ]
  },
  {
   "cell_type": "code",
   "execution_count": 5,
   "metadata": {
    "collapsed": false,
    "jupyter": {
     "outputs_hidden": false
    },
    "pycharm": {
     "name": "#%%\n"
    }
   },
   "outputs": [],
   "source": [
    "#export\n",
    "def predict_single_pcd(pcd_nbr: int, net_save_name: str):\n",
    "    \"\"\"Create a network prediction from a saved network for a single point cloud\"\"\"\n",
    "\n",
    "    vel_folder = \"/home/qhs67/git/bachelorthesis_sven_thaele/code/data/kitti/training/velodyne/training\"\n",
    "    label_folder =\"/home/qhs67/git/bachelorthesis_sven_thaele/code/data/kitti/training/label_2/training\"\n",
    "\n",
    "    dataset = VelTrainDataset(vel_folder, label_folder)\n",
    "    batch_tuple = dataset[pcd_nbr]\n",
    "    \n",
    "    batch = []\n",
    "    for i, tensor in enumerate(batch_tuple):\n",
    "        tensor = tensor.unsqueeze(0)\n",
    "        batch.append(tensor)\n",
    "        \n",
    "    pil_batch, ind_batch, label_batch = batch\n",
    "\n",
    "    #pil_batch, ind_batch, label_batch, _ = collate_fn(batch)\n",
    "    with torch.no_grad():\n",
    "        conf = read_config()\n",
    "        net_save = load_network_save(net_save_name)\n",
    "        net = PointPillars(conf)\n",
    "        net.load_state_dict(net_save)\n",
    "        net.eval()\n",
    "        net.cuda()\n",
    "\n",
    "        pred_anchors, label_mask = net(pil_batch, ind_batch, label_batch)\n",
    "\n",
    "    return pred_anchors, label_batch, label_mask"
   ]
  },
  {
   "cell_type": "code",
   "execution_count": 6,
   "metadata": {
    "collapsed": false,
    "jupyter": {
     "outputs_hidden": false
    },
    "pycharm": {
     "name": "#%%\n"
    }
   },
   "outputs": [],
   "source": [
    "#export\n",
    "def bb_tensor_to_velodyne_coords(bb_cam: torch.Tensor):\n",
    "    xc, yc, zc, box_dims = bb_cam[:,0], bb_cam[:, 1], bb_cam[:, 2], bb_cam[:, 3:]\n",
    "\n",
    "    xv = zc\n",
    "    yv = -1 * xc\n",
    "    zv = -1 * yc\n",
    "\n",
    "    return torch.cat((xv.unsqueeze(1), yv.unsqueeze(1), zv.unsqueeze(1), box_dims), dim=1)\n"
   ]
  },
  {
   "cell_type": "code",
   "execution_count": 7,
   "metadata": {
    "collapsed": false,
    "jupyter": {
     "outputs_hidden": false
    },
    "pycharm": {
     "name": "#%%\n"
    }
   },
   "outputs": [],
   "source": [
    "#export\n",
    "def view_single_pcd_prediction(pcd_nbr: str, net_save_name: str):\n",
    "    pcloud = load_single_pcd(pcd_nbr)\n",
    "    pred_anchors, label_batch, label_mask = predict_single_pcd(int(pcd_nbr), net_save_name)\n",
    "    \n",
    "    #xp, yp, zp, rp = pcloud[:,0], pcloud[:,1], pcloud[:,2], pcloud[:,3]\n",
    "    #pcloud = torch.stack((xp, yp, zp, rp), dim=1)\n",
    "    #pcloud = torch.stack((zp, yp, xp, rp), dim=1)\n",
    "    label_batch = label_batch[0]\n",
    "    #pred_anchors = bb_tensor_to_velodyne_coords(pred_anchors)\n",
    "    label_batch = bb_tensor_to_velodyne_coords(label_batch)\n",
    "\n",
    "    PCViewer.view_pcd_from_network_output(pcloud, pred_anchors, label_batch)\n",
    "\n",
    "\n",
    "\n"
   ]
  },
  {
   "cell_type": "code",
   "execution_count": 8,
   "metadata": {},
   "outputs": [
    {
     "data": {
      "text/plain": [
       "tensor([[ 7.7512e+01,  4.7000e-02,  2.8300e+00,  0.0000e+00],\n",
       "        [ 5.2519e+01,  8.8510e+00,  2.0100e+00,  1.6000e-01],\n",
       "        [ 5.2292e+01,  8.9810e+00,  2.0030e+00,  1.0000e-01],\n",
       "        ...,\n",
       "        [ 3.8420e+00, -1.4470e+00, -1.7980e+00,  3.9000e-01],\n",
       "        [ 3.8530e+00, -1.4380e+00, -1.8020e+00,  0.0000e+00],\n",
       "        [ 3.8750e+00, -1.4320e+00, -1.8100e+00,  0.0000e+00]], device='cuda:0')"
      ]
     },
     "execution_count": 8,
     "metadata": {},
     "output_type": "execute_result"
    }
   ],
   "source": [
    "pcloud = load_single_pcd('002137')\n",
    "pcloud"
   ]
  },
  {
   "cell_type": "code",
   "execution_count": 9,
   "metadata": {},
   "outputs": [
    {
     "data": {
      "text/plain": [
       "(torch.return_types.min(\n",
       " values=tensor([-71.8370, -55.1200,  -8.8140,   0.0000], device='cuda:0'),\n",
       " indices=tensor([ 13281,   1474, 113923,      0], device='cuda:0')),\n",
       " torch.return_types.max(\n",
       " values=tensor([79.8020, 32.9710,  2.8300,  0.9900], device='cuda:0'),\n",
       " indices=tensor([ 6116, 10917,     0, 28486], device='cuda:0')))"
      ]
     },
     "execution_count": 9,
     "metadata": {},
     "output_type": "execute_result"
    }
   ],
   "source": [
    "torch.min(pcloud, dim=0), torch.max(pcloud, dim=0)"
   ]
  },
  {
   "cell_type": "code",
   "execution_count": null,
   "metadata": {
    "collapsed": false,
    "jupyter": {
     "outputs_hidden": false
    },
    "pycharm": {
     "name": "#%%\n"
    }
   },
   "outputs": [
    {
     "name": "stderr",
     "output_type": "stream",
     "text": [
      "INFO - 2021-06-23 16:23:00,235 - dataset - Initializing velodyne training dataset...\n",
      "INFO - 2021-06-23 16:23:00,243 - compute_pillars - Calculating Pillars...\n",
      "INFO - 2021-06-23 16:23:00,244 - compute_pillars - Selecting points in pillar...\n",
      "INFO - 2021-06-23 16:23:00,253 - compute_pillars - Removing invalid points from point cloud...\n",
      "INFO - 2021-06-23 16:23:00,710 - compute_pillars - Pillar calculation complete!\n",
      "INFO - 2021-06-23 16:23:00,711 - compute_pillars - Calculating Pillars..\n",
      "INFO - 2021-06-23 16:23:00,715 - compute_pillars - Calculating pillar_centers_from_index.\n",
      "INFO - 2021-06-23 16:23:00,795 - head - Initialize detection head...\n",
      "INFO - 2021-06-23 16:23:00,798 - boxmatch - Initializing BoxMatch module...\n",
      "INFO - 2021-06-23 16:23:01,063 - head - Forward through detection head...\n",
      "INFO - 2021-06-23 16:23:01,117 - boxmatch - Forward pass through BoxMatch...\n",
      "INFO - 2021-06-23 16:23:01,147 - boxmatch - Calculating absolute_boxes_from_anchors...\n"
     ]
    }
   ],
   "source": [
    "view_single_pcd_prediction(\"000141\", \"trained_22-06-2021-19-43-55_e10000\")\n"
   ]
  }
 ],
 "metadata": {
  "kernelspec": {
   "display_name": "ba",
   "language": "python",
   "name": "ba"
  },
  "language_info": {
   "codemirror_mode": {
    "name": "ipython",
    "version": 3
   },
   "file_extension": ".py",
   "mimetype": "text/x-python",
   "name": "python",
   "nbconvert_exporter": "python",
   "pygments_lexer": "ipython3",
   "version": "3.8.10"
  }
 },
 "nbformat": 4,
 "nbformat_minor": 4
}
