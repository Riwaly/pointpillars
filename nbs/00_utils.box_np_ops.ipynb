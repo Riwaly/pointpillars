{
 "cells": [
  {
   "cell_type": "code",
   "execution_count": null,
   "metadata": {
    "collapsed": true,
    "jupyter": {
     "outputs_hidden": true
    }
   },
   "outputs": [],
   "source": [
    "#default_exp utils.box_np_ops"
   ]
  },
  {
   "cell_type": "markdown",
   "metadata": {
    "pycharm": {
     "name": "#%% md\n"
    }
   },
   "source": [
    "# Box operations from SECOND\n",
    "> Here we used some box operations from the SECOND repo (https://github.com/traveller59/second.pytorch).\n"
   ]
  },
  {
   "cell_type": "code",
   "execution_count": null,
   "metadata": {
    "collapsed": false,
    "jupyter": {
     "outputs_hidden": false
    },
    "pycharm": {
     "name": "#%%\n"
    }
   },
   "outputs": [],
   "source": [
    "#export\n",
    "from pathlib import Path\n",
    "import torch\n",
    "import numba\n",
    "import numpy as np"
   ]
  },
  {
   "cell_type": "code",
   "execution_count": null,
   "metadata": {
    "collapsed": false,
    "jupyter": {
     "outputs_hidden": false
    },
    "pycharm": {
     "name": "#%%\n"
    }
   },
   "outputs": [],
   "source": [
    "#export\n",
    "def second_box_encode(boxes,\n",
    "                      anchors,\n",
    "                      encode_angle_to_vector=False,\n",
    "                      smooth_dim=False):\n",
    "    \"\"\"box encode for VoxelNet in lidar\n",
    "    Args:\n",
    "        boxes ([N, 7 + ?] Tensor): normal boxes: x, y, z, w, l, h, r, custom values\n",
    "        anchors ([N, 7] Tensor): anchors\n",
    "    \"\"\"\n",
    "    # need to convert boxes to z-center format\n",
    "    box_ndim = anchors.shape[-1]\n",
    "    cas, cgs = [], []\n",
    "    if box_ndim > 7:\n",
    "        xa, ya, za, wa, la, ha, ra, *cas = np.split(anchors, box_ndim, axis=1)\n",
    "        xg, yg, zg, wg, lg, hg, rg, *cgs = np.split(boxes, box_ndim, axis=1)\n",
    "    else:\n",
    "        xa, ya, za, wa, la, ha, ra = np.split(anchors, box_ndim, axis=1)\n",
    "        xg, yg, zg, wg, lg, hg, rg = np.split(boxes, box_ndim, axis=1)\n",
    "\n",
    "    diagonal = np.sqrt(la**2 + wa**2)  # 4.3\n",
    "    xt = (xg - xa) / diagonal\n",
    "    yt = (yg - ya) / diagonal\n",
    "    zt = (zg - za) / ha  # 1.6\n",
    "    lt = np.log(lg / la)\n",
    "    wt = np.log(wg / wa)\n",
    "    ht = np.log(hg / ha)\n",
    "    rt = rg - ra\n",
    "    cts = [g - a for g, a in zip(cgs, cas)]\n",
    "    if smooth_dim:\n",
    "        lt = lg / la - 1\n",
    "        wt = wg / wa - 1\n",
    "        ht = hg / ha - 1\n",
    "    else:\n",
    "        lt = np.log(lg / la)\n",
    "        wt = np.log(wg / wa)\n",
    "        ht = np.log(hg / ha)\n",
    "    if encode_angle_to_vector:\n",
    "        rgx = np.cos(rg)\n",
    "        rgy = np.sin(rg)\n",
    "        rax = np.cos(ra)\n",
    "        ray = np.sin(ra)\n",
    "        rtx = rgx - rax\n",
    "        rty = rgy - ray\n",
    "        return np.concatenate([xt, yt, zt, wt, lt, ht, rtx, rty, *cts], axis=1)\n",
    "    else:\n",
    "        rt = rg - ra\n",
    "        return np.concatenate([xt, yt, zt, wt, lt, ht, rt, *cts], axis=1)"
   ]
  },
  {
   "cell_type": "code",
   "execution_count": null,
   "metadata": {
    "collapsed": false,
    "jupyter": {
     "outputs_hidden": false
    },
    "pycharm": {
     "name": "#%%\n"
    }
   },
   "outputs": [],
   "source": [
    "#export\n",
    "def corners_nd(dims, origin=0.5):\n",
    "    \"\"\"generate relative box corners based on length per dim and\n",
    "    origin point.\n",
    "\n",
    "    Args:\n",
    "        dims (float array, shape=[N, ndim]): array of length per dim\n",
    "        origin (list or array or float): origin point relate to smallest point.\n",
    "        dtype (output dtype, optional): Defaults to np.float32\n",
    "\n",
    "    Returns:\n",
    "        float array, shape=[N, 2 ** ndim, ndim]: returned corners.\n",
    "        point layout example: (2d) x0y0, x0y1, x1y0, x1y1;\n",
    "            (3d) x0y0z0, x0y0z1, x0y1z0, x0y1z1, x1y0z0, x1y0z1, x1y1z0, x1y1z1\n",
    "            where x0 < x1, y0 < y1, z0 < z1\n",
    "    \"\"\"\n",
    "    ndim = int(dims.shape[1])\n",
    "    dtype = torch_to_np_dtype(dims.dtype)\n",
    "    if isinstance(origin, float):\n",
    "        origin = [origin] * ndim\n",
    "    corners_norm = np.stack(\n",
    "        np.unravel_index(np.arange(2**ndim), [2] * ndim), axis=1).astype(dtype)\n",
    "    # now corners_norm has format: (2d) x0y0, x0y1, x1y0, x1y1\n",
    "    # (3d) x0y0z0, x0y0z1, x0y1z0, x0y1z1, x1y0z0, x1y0z1, x1y1z0, x1y1z1\n",
    "    # so need to convert to a format which is convenient to do other computing.\n",
    "    # for 2d boxes, format is clockwise start from minimum point\n",
    "    # for 3d boxes, please draw them by your hand.\n",
    "    if ndim == 2:\n",
    "        # generate clockwise box corners\n",
    "        corners_norm = corners_norm[[0, 1, 3, 2]]\n",
    "    elif ndim == 3:\n",
    "        corners_norm = corners_norm[[0, 1, 3, 2, 4, 5, 7, 6]]\n",
    "    corners_norm = corners_norm - np.array(origin, dtype=dtype)\n",
    "    corners_norm = torch.from_numpy(corners_norm).type_as(dims)\n",
    "    corners = dims.view(-1, 1, ndim) * corners_norm.view(1, 2**ndim, ndim)\n",
    "    return corners\n",
    "\n",
    "\n",
    "def corners_2d(dims, origin=0.5):\n",
    "    \"\"\"generate relative 2d box corners based on length per dim and\n",
    "    origin point.\n",
    "\n",
    "    Args:\n",
    "        dims (float array, shape=[N, 2]): array of length per dim\n",
    "        origin (list or array or float): origin point relate to smallest point.\n",
    "        dtype (output dtype, optional): Defaults to np.float32\n",
    "\n",
    "    Returns:\n",
    "        float array, shape=[N, 4, 2]: returned corners.\n",
    "        point layout: x0y0, x0y1, x1y1, x1y0\n",
    "    \"\"\"\n",
    "    return corners_nd(dims, origin)"
   ]
  },
  {
   "cell_type": "code",
   "execution_count": null,
   "metadata": {
    "collapsed": false,
    "jupyter": {
     "outputs_hidden": false
    },
    "pycharm": {
     "name": "#%%\n"
    }
   },
   "outputs": [],
   "source": [
    "#export\n",
    "@numba.jit(nopython=True)\n",
    "def iou_jit(boxes, query_boxes, eps=1.0):\n",
    "    \"\"\"calculate box iou. note that jit version runs 2x faster than cython in\n",
    "    my machine!\n",
    "    Parameters\n",
    "    ----------\n",
    "    boxes: (N, 4) ndarray of float\n",
    "    query_boxes: (K, 4) ndarray of float\n",
    "    Returns\n",
    "    -------\n",
    "    overlaps: (N, K) ndarray of overlap between boxes and query_boxes\n",
    "    \"\"\"\n",
    "    N = boxes.shape[0]\n",
    "    K = query_boxes.shape[0]\n",
    "    overlaps = np.zeros((N, K), dtype=boxes.dtype)\n",
    "    for k in range(K):\n",
    "        box_area = ((query_boxes[k, 2] - query_boxes[k, 0] + eps) *\n",
    "                    (query_boxes[k, 3] - query_boxes[k, 1] + eps))\n",
    "        for n in range(N):\n",
    "            iw = (min(boxes[n, 2], query_boxes[k, 2]) - max(\n",
    "                boxes[n, 0], query_boxes[k, 0]) + eps)\n",
    "            if iw > 0:\n",
    "                ih = (min(boxes[n, 3], query_boxes[k, 3]) - max(\n",
    "                    boxes[n, 1], query_boxes[k, 1]) + eps)\n",
    "                if ih > 0:\n",
    "                    ua = (\n",
    "                        (boxes[n, 2] - boxes[n, 0] + eps) *\n",
    "                        (boxes[n, 3] - boxes[n, 1] + eps) + box_area - iw * ih)\n",
    "                    overlaps[n, k] = iw * ih / ua\n",
    "    return overlaps\n",
    "\n",
    "def get_iou(bb1, bb2):\n",
    "    \"\"\"\n",
    "    Calculate the Intersection over Union (IoU) of two bounding boxes.\n",
    "\n",
    "    Parameters\n",
    "    ----------\n",
    "    bb1 : dict\n",
    "        Keys: {'x1', 'x2', 'y1', 'y2'}\n",
    "        The (x1, y1) position is at the top left corner,\n",
    "        the (x2, y2) position is at the bottom right corner\n",
    "    bb2 : dict\n",
    "        Keys: {'x1', 'x2', 'y1', 'y2'}\n",
    "        The (x, y) position is at the top left corner,\n",
    "        the (x2, y2) position is at the bottom right corner\n",
    "\n",
    "    Returns\n",
    "    -------\n",
    "    float\n",
    "        in [0, 1]\n",
    "    \"\"\"\n",
    "    assert bb1['x1'] < bb1['x2']\n",
    "    assert bb1['y1'] < bb1['y2']\n",
    "    assert bb2['x1'] < bb2['x2']\n",
    "    assert bb2['y1'] < bb2['y2']\n",
    "\n",
    "    # determine the coordinates of the intersection rectangle\n",
    "    x_left = max(bb1['x1'], bb2['x1'])\n",
    "    y_top = max(bb1['y1'], bb2['y1'])\n",
    "    x_right = min(bb1['x2'], bb2['x2'])\n",
    "    y_bottom = min(bb1['y2'], bb2['y2'])\n",
    "\n",
    "    if x_right < x_left or y_bottom < y_top:\n",
    "        return 0.0\n",
    "\n",
    "    # The intersection of two axis-aligned bounding boxes is always an\n",
    "    # axis-aligned bounding box\n",
    "    intersection_area = (x_right - x_left + 1) * (y_bottom - y_top + 1)\n",
    "\n",
    "    # compute the area of both AABBs\n",
    "    bb1_area = (bb1['x2'] - bb1['x1'] + 1) * (bb1['y2'] - bb1['y1'] + 1)\n",
    "    bb2_area = (bb2['x2'] - bb2['x1'] + 1) * (bb2['y2'] - bb2['y1'] + 1)\n",
    "\n",
    "    # compute the intersection over union by taking the intersection\n",
    "    # area and dividing it by the sum of prediction + ground-truth\n",
    "    # areas - the interesection area\n",
    "    iou = intersection_area / float(bb1_area + bb2_area - intersection_area)\n",
    "    assert iou >= 0.0\n",
    "    assert iou <= 1.0\n",
    "    return iou\n",
    "\n",
    "\n",
    "\n",
    "    # DEPRECATED\n",
    "def calculate_iou_deprecated(self, pred_boxes: torch.Tensor, gt_boxes: torch.Tensor):\n",
    "    \"\"\"Calculates the iou between predicted boxes and ground truth boxes.\n",
    "\n",
    "    :param pred_boxes: predicted boxes in form of Tensor(batch_size, nb_pred_boxes, 4) with the latter being\n",
    "                        (x_min, y_min, x_max, y_max)\n",
    "    :param gt_boxes: ground truth boxes in form of Tensor(batch_size, max_nb_gt_boxes, 4) with the latter\n",
    "                        being (x_min, y_min, x_max, y_max)\n",
    "\n",
    "    :returns: Tensor(batch_size, nb_pred_boxes, max_nb_gt_boxes_per_batch)\n",
    "    \"\"\"\n",
    "    num_pred_boxes = pred_boxes.shape[1]\n",
    "    num_gt_boxes = gt_boxes.shape[1]\n",
    "\n",
    "    # both have shape Tensor(nb_batches, nb_pred_boxes, nb_gt_boxes, 4)\n",
    "    pred_boxes = pred_boxes.unsqueeze(2).expand(-1, -1, num_gt_boxes, -1)\n",
    "    gt_boxes = gt_boxes.unsqueeze(1).expand(-1, num_pred_boxes, -1, -1)\n",
    "\n",
    "    # maximum calculations\n",
    "    x_left = torch.max(pred_boxes[:,:,:,0], gt_boxes[:,:,:,0])\n",
    "    y_top = torch.max(pred_boxes[:,:,:,1], gt_boxes[:,:,:,1])\n",
    "    x_right = torch.max(pred_boxes[:,:,:,2], gt_boxes[:,:,:,2])\n",
    "    y_bottom = torch.max(pred_boxes[:,:,:,3], gt_boxes[:,:,:,3])\n",
    "\n",
    "    intersection_area = (x_right - x_left + 1) * (y_bottom - y_top + 1)\n",
    "    #intersection_area = torch.where(x_right < x_left, intersection_area, 0.)\n",
    "    #intersection_area = torch.where(y_bottom < y_top, intersection_area, 0.)\n",
    "    print(intersection_area, intersection_area.shape)"
   ]
  }
 ],
 "metadata": {
  "kernelspec": {
   "display_name": "ba",
   "language": "python",
   "name": "ba"
  },
  "language_info": {
   "codemirror_mode": {
    "name": "ipython",
    "version": 3
   },
   "file_extension": ".py",
   "mimetype": "text/x-python",
   "name": "python",
   "nbconvert_exporter": "python",
   "pygments_lexer": "ipython3",
   "version": "3.8.5"
  }
 },
 "nbformat": 4,
 "nbformat_minor": 4
}
