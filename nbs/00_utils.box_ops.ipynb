{
 "cells": [
  {
   "cell_type": "code",
   "execution_count": null,
   "metadata": {},
   "outputs": [],
   "source": [
    "#default_exp utils.box_ops"
   ]
  },
  {
   "cell_type": "code",
   "execution_count": null,
   "metadata": {},
   "outputs": [],
   "source": [
    "#export\n",
    "import torch\n",
    "import logging\n"
   ]
  },
  {
   "cell_type": "code",
   "execution_count": null,
   "outputs": [],
   "source": [
    "#export\n",
    "logger = logging.getLogger(__name__)"
   ],
   "metadata": {
    "collapsed": false,
    "pycharm": {
     "name": "#%%\n"
    }
   }
  },
  {
   "cell_type": "code",
   "execution_count": null,
   "metadata": {},
   "outputs": [],
   "source": [
    "#export\n",
    "def convert_boxes_to_2d_corners(boxes: torch.Tensor) -> torch.Tensor:\n",
    "    \"\"\"Converts center representation to bounding corners\n",
    "    :param boxes: tensor(batch_size, nbr_boxes, nb_attributes)\n",
    "\n",
    "    :returns: tensor(batch_size, max_nbr_pred_boxes, 4)\n",
    "                with last dimension being (x_min, y_min, x_max, y_max)\n",
    "    \"\"\"\n",
    "    logger.info(\"Converting boxes to corners...\")\n",
    "    logger.debug(f\"boxes: {boxes}{boxes.shape}\")\n",
    "\n",
    "    xy = boxes[:,:,:2]\n",
    "    wl = boxes[:,:,4:6]\n",
    "\n",
    "    xy_min = xy - 0.5 * wl\n",
    "    xy_max = xy + 0.5 * wl\n",
    "\n",
    "    logger.debug(f\"Boxes to corner convertion complete.\\n\"\n",
    "                 f\"xy_min: {xy_min}{xy_min.shape},\\n\"\n",
    "                 f\"xy_max: {xy_max}{xy_max.shape}\")\n",
    "\n",
    "    del xy, wl\n",
    "    return torch.cat([xy_min, xy_max], dim=2)"
   ]
  },
  {
   "cell_type": "code",
   "execution_count": null,
   "metadata": {},
   "outputs": [],
   "source": [
    "#export\n",
    "def convert_boxes_to_3d_corners(self, boxes: torch.Tensor) -> torch.Tensor:\n",
    "    \"\"\"Converts center representation to bounding corners\"\"\"\n",
    "    pass\n",
    "\n"
   ]
  }
 ],
 "metadata": {
  "kernelspec": {
   "display_name": "ba",
   "language": "python",
   "name": "ba"
  },
  "language_info": {
   "codemirror_mode": {
    "name": "ipython",
    "version": 3
   },
   "file_extension": ".py",
   "mimetype": "text/x-python",
   "name": "python",
   "nbconvert_exporter": "python",
   "pygments_lexer": "ipython3",
   "version": "3.8.5"
  }
 },
 "nbformat": 4,
 "nbformat_minor": 4
}